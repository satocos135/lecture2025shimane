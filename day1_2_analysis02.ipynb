{
 "cells": [
  {
   "cell_type": "markdown",
   "metadata": {},
   "source": [
    "# 実習② 夏目漱石『こころ』の分析"
   ]
  },
  {
   "cell_type": "code",
   "execution_count": 1,
   "metadata": {},
   "outputs": [
    {
     "name": "stderr",
     "output_type": "stream",
     "text": [
      "Warning message:\n",
      "\"package 'tidyverse' was built under R version 4.2.2\"\n",
      "── \u001b[1mAttaching packages\u001b[22m ─────────────────────────────────────────────────────────────────────────────── tidyverse 1.3.2 ──\n",
      "\u001b[32m✔\u001b[39m \u001b[34mggplot2\u001b[39m 3.4.1     \u001b[32m✔\u001b[39m \u001b[34mpurrr  \u001b[39m 1.0.1\n",
      "\u001b[32m✔\u001b[39m \u001b[34mtibble \u001b[39m 3.1.8     \u001b[32m✔\u001b[39m \u001b[34mdplyr  \u001b[39m 1.1.0\n",
      "\u001b[32m✔\u001b[39m \u001b[34mtidyr  \u001b[39m 1.3.0     \u001b[32m✔\u001b[39m \u001b[34mstringr\u001b[39m 1.5.0\n",
      "\u001b[32m✔\u001b[39m \u001b[34mreadr  \u001b[39m 2.1.2     \u001b[32m✔\u001b[39m \u001b[34mforcats\u001b[39m 0.5.1\n",
      "Warning message:\n",
      "\"package 'ggplot2' was built under R version 4.2.2\"\n",
      "Warning message:\n",
      "\"package 'tibble' was built under R version 4.2.2\"\n",
      "Warning message:\n",
      "\"package 'tidyr' was built under R version 4.2.2\"\n",
      "Warning message:\n",
      "\"package 'purrr' was built under R version 4.2.2\"\n",
      "Warning message:\n",
      "\"package 'dplyr' was built under R version 4.2.2\"\n",
      "Warning message:\n",
      "\"package 'stringr' was built under R version 4.2.2\"\n",
      "── \u001b[1mConflicts\u001b[22m ────────────────────────────────────────────────────────────────────────────────── tidyverse_conflicts() ──\n",
      "\u001b[31m✖\u001b[39m \u001b[34mdplyr\u001b[39m::\u001b[32mfilter()\u001b[39m masks \u001b[34mstats\u001b[39m::filter()\n",
      "\u001b[31m✖\u001b[39m \u001b[34mdplyr\u001b[39m::\u001b[32mlag()\u001b[39m    masks \u001b[34mstats\u001b[39m::lag()\n",
      "You need 64 bit version of MeCab for Winndows, with UTF8 dictionary\n",
      "Dowlnload it from 'https://github.com/ikegami-yukino/mecab/releases'\n",
      "\n"
     ]
    }
   ],
   "source": [
    "# ライブラリの読み込み\n",
    "library('tidyverse')\n",
    "library('RMeCab')"
   ]
  },
  {
   "cell_type": "code",
   "execution_count": 2,
   "metadata": {},
   "outputs": [],
   "source": [
    "kokoro_dict = 'dict/kokoro_utf8.dic'"
   ]
  },
  {
   "cell_type": "code",
   "execution_count": 3,
   "metadata": {},
   "outputs": [
    {
     "data": {
      "text/html": [
       "'C:/Users/satoc/Documents/GitHub/lecture2024shimane'"
      ],
      "text/latex": [
       "'C:/Users/satoc/Documents/GitHub/lecture2024shimane'"
      ],
      "text/markdown": [
       "'C:/Users/satoc/Documents/GitHub/lecture2024shimane'"
      ],
      "text/plain": [
       "[1] \"C:/Users/satoc/Documents/GitHub/lecture2024shimane\""
      ]
     },
     "metadata": {},
     "output_type": "display_data"
    }
   ],
   "source": [
    "getwd()"
   ]
  },
  {
   "cell_type": "code",
   "execution_count": 4,
   "metadata": {},
   "outputs": [],
   "source": [
    "kokoro = read.delim('data/textmining/kokoro.tsv', header=T, sep='\\t', stringsAsFactor=F, fileEncoding='utf8')"
   ]
  },
  {
   "cell_type": "code",
   "execution_count": 5,
   "metadata": {},
   "outputs": [
    {
     "data": {
      "text/html": [
       "<table class=\"dataframe\">\n",
       "<caption>A data.frame: 2 × 4</caption>\n",
       "<thead>\n",
       "\t<tr><th></th><th scope=col>part_id</th><th scope=col>section_id</th><th scope=col>paragraph_id</th><th scope=col>content</th></tr>\n",
       "\t<tr><th></th><th scope=col>&lt;int&gt;</th><th scope=col>&lt;int&gt;</th><th scope=col>&lt;int&gt;</th><th scope=col>&lt;chr&gt;</th></tr>\n",
       "</thead>\n",
       "<tbody>\n",
       "\t<tr><th scope=row>1</th><td>1</td><td>1</td><td>1</td><td>私はその人を常に先生と呼んでいた。だからここでもただ先生と書くだけで本名は打ち明けない。これは世間を憚かる遠慮というよりも、その方が私にとって自然だからである。私はその人の記憶を呼び起すごとに、すぐ「先生」といいたくなる。筆を執っても心持は同じ事である。よそよそしい頭文字などはとても使う気にならない。                                                                                                                                                                                                                                                                                                                                                                                                                                                                                                                                                                              </td></tr>\n",
       "\t<tr><th scope=row>2</th><td>1</td><td>1</td><td>2</td><td>私が先生と知り合いになったのは鎌倉である。その時私はまだ若々しい書生であった。暑中休暇を利用して海水浴に行った友達からぜひ来いという端書を受け取ったので、私は多少の金を工面して、出掛ける事にした。私は金の工面に二、三日を費やした。ところが私が鎌倉に着いて三日と経たないうちに、私を呼び寄せた友達は、急に国元から帰れという電報を受け取った。電報には母が病気だからと断ってあったけれども友達はそれを信じなかった。友達はかねてから国元にいる親たちに勧まない結婚を強いられていた。彼は現代の習慣からいうと結婚するにはあまり年が若過ぎた。それに肝心の当人が気に入らなかった。それで夏休みに当然帰るべきところを、わざと避けて東京の近くで遊んでいたのである。彼は電報を私に見せてどうしようと相談をした。私にはどうしていいか分らなかった。けれども実際彼の母が病気であるとすれば彼は固より帰るべきはずであった。それで彼はとうとう帰る事になった。せっかく来た私は一人取り残された。</td></tr>\n",
       "</tbody>\n",
       "</table>\n"
      ],
      "text/latex": [
       "A data.frame: 2 × 4\n",
       "\\begin{tabular}{r|llll}\n",
       "  & part\\_id & section\\_id & paragraph\\_id & content\\\\\n",
       "  & <int> & <int> & <int> & <chr>\\\\\n",
       "\\hline\n",
       "\t1 & 1 & 1 & 1 & 私はその人を常に先生と呼んでいた。だからここでもただ先生と書くだけで本名は打ち明けない。これは世間を憚かる遠慮というよりも、その方が私にとって自然だからである。私はその人の記憶を呼び起すごとに、すぐ「先生」といいたくなる。筆を執っても心持は同じ事である。よそよそしい頭文字などはとても使う気にならない。                                                                                                                                                                                                                                                                                                                                                                                                                                                                                                                                                                              \\\\\n",
       "\t2 & 1 & 1 & 2 & 私が先生と知り合いになったのは鎌倉である。その時私はまだ若々しい書生であった。暑中休暇を利用して海水浴に行った友達からぜひ来いという端書を受け取ったので、私は多少の金を工面して、出掛ける事にした。私は金の工面に二、三日を費やした。ところが私が鎌倉に着いて三日と経たないうちに、私を呼び寄せた友達は、急に国元から帰れという電報を受け取った。電報には母が病気だからと断ってあったけれども友達はそれを信じなかった。友達はかねてから国元にいる親たちに勧まない結婚を強いられていた。彼は現代の習慣からいうと結婚するにはあまり年が若過ぎた。それに肝心の当人が気に入らなかった。それで夏休みに当然帰るべきところを、わざと避けて東京の近くで遊んでいたのである。彼は電報を私に見せてどうしようと相談をした。私にはどうしていいか分らなかった。けれども実際彼の母が病気であるとすれば彼は固より帰るべきはずであった。それで彼はとうとう帰る事になった。せっかく来た私は一人取り残された。\\\\\n",
       "\\end{tabular}\n"
      ],
      "text/markdown": [
       "\n",
       "A data.frame: 2 × 4\n",
       "\n",
       "| <!--/--> | part_id &lt;int&gt; | section_id &lt;int&gt; | paragraph_id &lt;int&gt; | content &lt;chr&gt; |\n",
       "|---|---|---|---|---|\n",
       "| 1 | 1 | 1 | 1 | 私はその人を常に先生と呼んでいた。だからここでもただ先生と書くだけで本名は打ち明けない。これは世間を憚かる遠慮というよりも、その方が私にとって自然だからである。私はその人の記憶を呼び起すごとに、すぐ「先生」といいたくなる。筆を執っても心持は同じ事である。よそよそしい頭文字などはとても使う気にならない。                                                                                                                                                                                                                                                                                                                                                                                                                                                                                                                                                                               |\n",
       "| 2 | 1 | 1 | 2 | 私が先生と知り合いになったのは鎌倉である。その時私はまだ若々しい書生であった。暑中休暇を利用して海水浴に行った友達からぜひ来いという端書を受け取ったので、私は多少の金を工面して、出掛ける事にした。私は金の工面に二、三日を費やした。ところが私が鎌倉に着いて三日と経たないうちに、私を呼び寄せた友達は、急に国元から帰れという電報を受け取った。電報には母が病気だからと断ってあったけれども友達はそれを信じなかった。友達はかねてから国元にいる親たちに勧まない結婚を強いられていた。彼は現代の習慣からいうと結婚するにはあまり年が若過ぎた。それに肝心の当人が気に入らなかった。それで夏休みに当然帰るべきところを、わざと避けて東京の近くで遊んでいたのである。彼は電報を私に見せてどうしようと相談をした。私にはどうしていいか分らなかった。けれども実際彼の母が病気であるとすれば彼は固より帰るべきはずであった。それで彼はとうとう帰る事になった。せっかく来た私は一人取り残された。 |\n",
       "\n"
      ],
      "text/plain": [
       "  part_id section_id paragraph_id\n",
       "1 1       1          1           \n",
       "2 1       1          2           \n",
       "  content                                                                                                                                                                                                                                                                                                                                                                                                                                                                                                                                                                                                                                                                                                                                                                                                                                                                                     \n",
       "1 私はその人を常に先生と呼んでいた。だからここでもただ先生と書くだけで本名は打ち明けない。これは世間を憚かる遠慮というよりも、その方が私にとって自然だからである。私はその人の記憶を呼び起すごとに、すぐ「先生」といいたくなる。筆を執っても心持は同じ事である。よそよそしい頭文字などはとても使う気にならない。                                                                                                                                                                                                                                                                                                                                                                                                                                                                                                                                                                              \n",
       "2 私が先生と知り合いになったのは鎌倉である。その時私はまだ若々しい書生であった。暑中休暇を利用して海水浴に行った友達からぜひ来いという端書を受け取ったので、私は多少の金を工面して、出掛ける事にした。私は金の工面に二、三日を費やした。ところが私が鎌倉に着いて三日と経たないうちに、私を呼び寄せた友達は、急に国元から帰れという電報を受け取った。電報には母が病気だからと断ってあったけれども友達はそれを信じなかった。友達はかねてから国元にいる親たちに勧まない結婚を強いられていた。彼は現代の習慣からいうと結婚するにはあまり年が若過ぎた。それに肝心の当人が気に入らなかった。それで夏休みに当然帰るべきところを、わざと避けて東京の近くで遊んでいたのである。彼は電報を私に見せてどうしようと相談をした。私にはどうしていいか分らなかった。けれども実際彼の母が病気であるとすれば彼は固より帰るべきはずであった。それで彼はとうとう帰る事になった。せっかく来た私は一人取り残された。"
      ]
     },
     "metadata": {},
     "output_type": "display_data"
    }
   ],
   "source": [
    "kokoro[1:2,] "
   ]
  },
  {
   "cell_type": "code",
   "execution_count": 6,
   "metadata": {},
   "outputs": [
    {
     "data": {
      "image/png": "[encoded data removed]",
      "text/plain": [
       "Plot with title \"Histogram of paragraph length\""
      ]
     },
     "metadata": {
      "image/png": {
       "height": 420,
       "width": 420
      }
     },
     "output_type": "display_data"
    }
   ],
   "source": [
    "# 段落の長さの分布\n",
    "kokoro[, 'content'] %>% str_length() %>% hist(breaks=40, xlab='Paragraph length', main='Histogram of paragraph length')"
   ]
  },
  {
   "cell_type": "code",
   "execution_count": 7,
   "metadata": {},
   "outputs": [],
   "source": [
    "kokoro['length'] = kokoro[, 'content'] %>% str_length()"
   ]
  },
  {
   "cell_type": "code",
   "execution_count": 8,
   "metadata": {},
   "outputs": [
    {
     "data": {
      "image/png": "[encoded data removed]",
      "text/plain": [
       "Plot with title \"Paragraph length of each part\""
      ]
     },
     "metadata": {
      "image/png": {
       "height": 420,
       "width": 420
      }
     },
     "output_type": "display_data"
    }
   ],
   "source": [
    "boxplot(length ~ part_id, data=kokoro, main='Paragraph length of each part')"
   ]
  },
  {
   "cell_type": "code",
   "execution_count": 9,
   "metadata": {},
   "outputs": [],
   "source": [
    "# 全体を通すセクション用idを作る\n",
    "kokoro['section_id2'] = kokoro['part_id'] * 100 + kokoro['section_id']"
   ]
  },
  {
   "cell_type": "code",
   "execution_count": 10,
   "metadata": {},
   "outputs": [
    {
     "data": {
      "image/png": "[encoded data removed]",
      "text/plain": [
       "Plot with title \"Paragraph length of each section\""
      ]
     },
     "metadata": {
      "image/png": {
       "height": 420,
       "width": 420
      }
     },
     "output_type": "display_data"
    }
   ],
   "source": [
    "boxplot(length ~ section_id2, data=kokoro, main='Paragraph length of each section')"
   ]
  },
  {
   "cell_type": "code",
   "execution_count": 11,
   "metadata": {},
   "outputs": [],
   "source": [
    "# 分析のため各部ごとに文章を結合する\n",
    "parts = kokoro %>% \n",
    "    group_by(part_id) %>% \n",
    "    summarise(text = paste0(content, collapse=''))\n",
    "parts = as.data.frame(parts)"
   ]
  },
  {
   "cell_type": "code",
   "execution_count": 12,
   "metadata": {},
   "outputs": [
    {
     "data": {
      "text/html": [
       "<style>\n",
       ".list-inline {list-style: none; margin:0; padding: 0}\n",
       ".list-inline>li {display: inline-block}\n",
       ".list-inline>li:not(:last-child)::after {content: \"\\00b7\"; padding: 0 .5ex}\n",
       "</style>\n",
       "<ol class=list-inline><li>3</li><li>2</li></ol>\n"
      ],
      "text/latex": [
       "\\begin{enumerate*}\n",
       "\\item 3\n",
       "\\item 2\n",
       "\\end{enumerate*}\n"
      ],
      "text/markdown": [
       "1. 3\n",
       "2. 2\n",
       "\n",
       "\n"
      ],
      "text/plain": [
       "[1] 3 2"
      ]
     },
     "metadata": {},
     "output_type": "display_data"
    }
   ],
   "source": [
    "dim(parts)"
   ]
  },
  {
   "cell_type": "code",
   "execution_count": 13,
   "metadata": {},
   "outputs": [
    {
     "data": {
      "text/html": [
       "<style>\n",
       ".list-inline {list-style: none; margin:0; padding: 0}\n",
       ".list-inline>li {display: inline-block}\n",
       ".list-inline>li:not(:last-child)::after {content: \"\\00b7\"; padding: 0 .5ex}\n",
       "</style>\n",
       "<ol class=list-inline><li>49137</li><li>25177</li><li>85670</li></ol>\n"
      ],
      "text/latex": [
       "\\begin{enumerate*}\n",
       "\\item 49137\n",
       "\\item 25177\n",
       "\\item 85670\n",
       "\\end{enumerate*}\n"
      ],
      "text/markdown": [
       "1. 49137\n",
       "2. 25177\n",
       "3. 85670\n",
       "\n",
       "\n"
      ],
      "text/plain": [
       "[1] 49137 25177 85670"
      ]
     },
     "metadata": {},
     "output_type": "display_data"
    }
   ],
   "source": [
    "parts[, 'text'] %>% str_length() \n"
   ]
  },
  {
   "cell_type": "code",
   "execution_count": 14,
   "metadata": {},
   "outputs": [
    {
     "name": "stdout",
     "output_type": "stream",
     "text": [
      "to make data frame\n",
      "\n"
     ]
    }
   ],
   "source": [
    "count_noun = docMatrixDF(parts[,'text'], pos=c('名詞'), , dic=kokoro_dict)"
   ]
  },
  {
   "cell_type": "code",
   "execution_count": 15,
   "metadata": {},
   "outputs": [
    {
     "data": {
      "text/html": [
       "<table class=\"dataframe\">\n",
       "<caption>A matrix: 6 × 3 of type int</caption>\n",
       "<thead>\n",
       "\t<tr><th></th><th scope=col>ROW.1</th><th scope=col>ROW.2</th><th scope=col>ROW.3</th></tr>\n",
       "</thead>\n",
       "<tbody>\n",
       "\t<tr><th scope=row>あい</th><td>0</td><td>1</td><td>0</td></tr>\n",
       "\t<tr><th scope=row>あか</th><td>1</td><td>0</td><td>0</td></tr>\n",
       "\t<tr><th scope=row>あからさま</th><td>0</td><td>1</td><td>0</td></tr>\n",
       "\t<tr><th scope=row>あくび</th><td>1</td><td>0</td><td>0</td></tr>\n",
       "\t<tr><th scope=row>あすこ</th><td>3</td><td>0</td><td>0</td></tr>\n",
       "\t<tr><th scope=row>あそこ</th><td>0</td><td>0</td><td>1</td></tr>\n",
       "</tbody>\n",
       "</table>\n"
      ],
      "text/latex": [
       "A matrix: 6 × 3 of type int\n",
       "\\begin{tabular}{r|lll}\n",
       "  & ROW.1 & ROW.2 & ROW.3\\\\\n",
       "\\hline\n",
       "\tあい & 0 & 1 & 0\\\\\n",
       "\tあか & 1 & 0 & 0\\\\\n",
       "\tあからさま & 0 & 1 & 0\\\\\n",
       "\tあくび & 1 & 0 & 0\\\\\n",
       "\tあすこ & 3 & 0 & 0\\\\\n",
       "\tあそこ & 0 & 0 & 1\\\\\n",
       "\\end{tabular}\n"
      ],
      "text/markdown": [
       "\n",
       "A matrix: 6 × 3 of type int\n",
       "\n",
       "| <!--/--> | ROW.1 | ROW.2 | ROW.3 |\n",
       "|---|---|---|---|\n",
       "| あい | 0 | 1 | 0 |\n",
       "| あか | 1 | 0 | 0 |\n",
       "| あからさま | 0 | 1 | 0 |\n",
       "| あくび | 1 | 0 | 0 |\n",
       "| あすこ | 3 | 0 | 0 |\n",
       "| あそこ | 0 | 0 | 1 |\n",
       "\n"
      ],
      "text/plain": [
       "           ROW.1 ROW.2 ROW.3\n",
       "あい       0     1     0    \n",
       "あか       1     0     0    \n",
       "あからさま 0     1     0    \n",
       "あくび     1     0     0    \n",
       "あすこ     3     0     0    \n",
       "あそこ     0     0     1    "
      ]
     },
     "metadata": {},
     "output_type": "display_data"
    }
   ],
   "source": [
    "count_noun %>% head()"
   ]
  },
  {
   "cell_type": "code",
   "execution_count": 16,
   "metadata": {},
   "outputs": [],
   "source": [
    "# 全体を集計する\n",
    "freq_noun = count_noun %>% rowSums()"
   ]
  },
  {
   "cell_type": "code",
   "execution_count": 17,
   "metadata": {},
   "outputs": [
    {
     "data": {
      "image/png": "[encoded data removed]",
      "text/plain": [
       "Plot with title \"Distribution of noun frequency\""
      ]
     },
     "metadata": {
      "image/png": {
       "height": 420,
       "width": 420
      }
     },
     "output_type": "display_data"
    }
   ],
   "source": [
    "# 全体を集計する\n",
    "freq_noun %>% sort(decreasing=T) %>% plot(main='Distribution of noun frequency', xlab='Rank', ylab='Frequency')"
   ]
  },
  {
   "cell_type": "code",
   "execution_count": 18,
   "metadata": {},
   "outputs": [
    {
     "data": {
      "image/png": "[encoded data removed]",
      "text/plain": [
       "Plot with title \"Distribution of noun frequency\""
      ]
     },
     "metadata": {
      "image/png": {
       "height": 420,
       "width": 420
      }
     },
     "output_type": "display_data"
    }
   ],
   "source": [
    "freq_noun %>% sort(decreasing=T) %>% plot(main='Distribution of noun frequency', xlab='Rank (log)', ylab='Frequency (log)', log='xy')"
   ]
  },
  {
   "cell_type": "code",
   "execution_count": 19,
   "metadata": {},
   "outputs": [
    {
     "data": {
      "image/png": "[encoded data removed]",
      "text/plain": [
       "Plot with title \"Top 30 nouns\""
      ]
     },
     "metadata": {
      "image/png": {
       "height": 420,
       "width": 420
      }
     },
     "output_type": "display_data"
    }
   ],
   "source": [
    "freq_noun %>% \n",
    "    sort() %>% \n",
    "    tail(30) %>%\n",
    "    barplot(horiz=T, las=1, main='Top 30 nouns', xlab='Frequency', cex.names =0.6)"
   ]
  },
  {
   "cell_type": "code",
   "execution_count": 20,
   "metadata": {},
   "outputs": [],
   "source": [
    "# ストップワードを設定する\n",
    "stopwords = c('事','の','よう','それ','もの', '人', '何','一', 'ん','方','二','前','気','中','上','今','ため')"
   ]
  },
  {
   "cell_type": "code",
   "execution_count": 21,
   "metadata": {},
   "outputs": [
    {
     "data": {
      "image/png": "[encoded data removed]",
      "text/plain": [
       "Plot with title \"Top 30 nouns\""
      ]
     },
     "metadata": {
      "image/png": {
       "height": 420,
       "width": 420
      }
     },
     "output_type": "display_data"
    }
   ],
   "source": [
    "freq_noun[!names(freq_noun) %in% stopwords] %>%\n",
    "    sort() %>% \n",
    "    tail(30) %>% \n",
    "    barplot(horiz=T, las=1, main='Top 30 nouns', xlab='Frequency', cex.names =0.6)"
   ]
  },
  {
   "cell_type": "code",
   "execution_count": 22,
   "metadata": {},
   "outputs": [
    {
     "data": {
      "image/png": "[encoded data removed]",
      "text/plain": [
       "Plot with title \"Top 30 nouns\""
      ]
     },
     "metadata": {
      "image/png": {
       "height": 420,
       "width": 420
      }
     },
     "output_type": "display_data"
    }
   ],
   "source": [
    "# ストップワードをさらに増やす\n",
    "stopwords = c('事','の','よう','それ','もの', '人', '何','一', 'ん','方','二','前','気','中','上','今','ため', '時', 'そこ', 'どこ', 'これ', 'そう')\n",
    "\n",
    "freq_noun[!names(freq_noun) %in% stopwords] %>% \n",
    "    sort() %>% \n",
    "    tail(30) %>% \n",
    "    barplot(horiz=T, las=1, main='Top 30 nouns', xlab='Frequency', cex.names =0.6)"
   ]
  },
  {
   "cell_type": "code",
   "execution_count": 23,
   "metadata": {},
   "outputs": [],
   "source": [
    "# PCA Principal Component Analysis\n",
    "# 主成分分析とバイプロットを使って、各部でどの単語が多いかを図示する\n",
    "mat = count_noun \n",
    "\n",
    "# 全体での頻度が多いもの(n > 50)を選び出す\n",
    "mat = mat[rowSums(mat) > 50, ]\n",
    "\n",
    "# ストップワードを除く\n",
    "mat = mat[!row.names(mat) %in% stopwords, ]\n",
    "\n",
    "colnames(mat) = c('第一部', '第二部', '第三部')\n",
    "mat_t = t(mat)"
   ]
  },
  {
   "cell_type": "code",
   "execution_count": 24,
   "metadata": {},
   "outputs": [
    {
     "data": {
      "text/html": [
       "<table class=\"dataframe\">\n",
       "<caption>A matrix: 6 × 3 of type int</caption>\n",
       "<thead>\n",
       "\t<tr><th></th><th scope=col>第一部</th><th scope=col>第二部</th><th scope=col>第三部</th></tr>\n",
       "</thead>\n",
       "<tbody>\n",
       "\t<tr><th scope=row>あなた</th><td>70</td><td>10</td><td>107</td></tr>\n",
       "\t<tr><th scope=row>うち</th><td>43</td><td>29</td><td> 46</td></tr>\n",
       "\t<tr><th scope=row>お嬢さん</th><td> 0</td><td> 0</td><td>168</td></tr>\n",
       "\t<tr><th scope=row>ところ</th><td>16</td><td>13</td><td> 39</td></tr>\n",
       "\t<tr><th scope=row>三</th><td>23</td><td> 9</td><td> 33</td></tr>\n",
       "\t<tr><th scope=row>人間</th><td>32</td><td> 9</td><td> 30</td></tr>\n",
       "</tbody>\n",
       "</table>\n"
      ],
      "text/latex": [
       "A matrix: 6 × 3 of type int\n",
       "\\begin{tabular}{r|lll}\n",
       "  & 第一部 & 第二部 & 第三部\\\\\n",
       "\\hline\n",
       "\tあなた & 70 & 10 & 107\\\\\n",
       "\tうち & 43 & 29 &  46\\\\\n",
       "\tお嬢さん &  0 &  0 & 168\\\\\n",
       "\tところ & 16 & 13 &  39\\\\\n",
       "\t三 & 23 &  9 &  33\\\\\n",
       "\t人間 & 32 &  9 &  30\\\\\n",
       "\\end{tabular}\n"
      ],
      "text/markdown": [
       "\n",
       "A matrix: 6 × 3 of type int\n",
       "\n",
       "| <!--/--> | 第一部 | 第二部 | 第三部 |\n",
       "|---|---|---|---|\n",
       "| あなた | 70 | 10 | 107 |\n",
       "| うち | 43 | 29 |  46 |\n",
       "| お嬢さん |  0 |  0 | 168 |\n",
       "| ところ | 16 | 13 |  39 |\n",
       "| 三 | 23 |  9 |  33 |\n",
       "| 人間 | 32 |  9 |  30 |\n",
       "\n"
      ],
      "text/plain": [
       "         第一部 第二部 第三部\n",
       "あなた   70     10     107   \n",
       "うち     43     29      46   \n",
       "お嬢さん  0      0     168   \n",
       "ところ   16     13      39   \n",
       "三       23      9      33   \n",
       "人間     32      9      30   "
      ]
     },
     "metadata": {},
     "output_type": "display_data"
    }
   ],
   "source": [
    "mat %>% head()"
   ]
  },
  {
   "cell_type": "code",
   "execution_count": 25,
   "metadata": {},
   "outputs": [
    {
     "data": {
      "text/html": [
       "<table class=\"dataframe\">\n",
       "<caption>A matrix: 3 × 50 of type dbl</caption>\n",
       "<thead>\n",
       "\t<tr><th></th><th scope=col>あなた</th><th scope=col>うち</th><th scope=col>お嬢さん</th><th scope=col>ところ</th><th scope=col>三</th><th scope=col>人間</th><th scope=col>兄</th><th scope=col>先</th><th scope=col>先生</th><th scope=col>卒業</th><th scope=col>⋯</th><th scope=col>私</th><th scope=col>自分</th><th scope=col>言葉</th><th scope=col>話</th><th scope=col>返事</th><th scope=col>通り</th><th scope=col>間</th><th scope=col>頭</th><th scope=col>顔</th><th scope=col>Ｋ</th></tr>\n",
       "</thead>\n",
       "<tbody>\n",
       "\t<tr><th scope=row>第一部</th><td>0.027844073</td><td>0.017104216</td><td>0.00000000</td><td>0.006364360</td><td>0.009148767</td><td>0.012728719</td><td>0.0007955449</td><td>0.007955449</td><td>0.2024661893</td><td>0.007159905</td><td>⋯</td><td>0.3027049</td><td>0.01909308</td><td>0.01710422</td><td>0.005568815</td><td>0.005568815</td><td>0.008750994</td><td>0.013922037</td><td>0.009546539</td><td>0.01630867</td><td>0.00000000</td></tr>\n",
       "\t<tr><th scope=row>第二部</th><td>0.007225434</td><td>0.020953757</td><td>0.00000000</td><td>0.009393064</td><td>0.006502890</td><td>0.006502890</td><td>0.0411849711</td><td>0.004335260</td><td>0.0614161850</td><td>0.023121387</td><td>⋯</td><td>0.2572254</td><td>0.02962428</td><td>0.01950867</td><td>0.006502890</td><td>0.013005780</td><td>0.012283237</td><td>0.008670520</td><td>0.008670520</td><td>0.01517341</td><td>0.00000000</td></tr>\n",
       "\t<tr><th scope=row>第三部</th><td>0.022804774</td><td>0.009803922</td><td>0.03580563</td><td>0.008312020</td><td>0.007033248</td><td>0.006393862</td><td>0.0006393862</td><td>0.005754476</td><td>0.0002131287</td><td>0.001705030</td><td>⋯</td><td>0.3358909</td><td>0.03729753</td><td>0.01214834</td><td>0.011295823</td><td>0.004475703</td><td>0.014705882</td><td>0.008525149</td><td>0.007885763</td><td>0.01555840</td><td>0.08695652</td></tr>\n",
       "</tbody>\n",
       "</table>\n"
      ],
      "text/latex": [
       "A matrix: 3 × 50 of type dbl\n",
       "\\begin{tabular}{r|lllllllllllllllllllll}\n",
       "  & あなた & うち & お嬢さん & ところ & 三 & 人間 & 兄 & 先 & 先生 & 卒業 & ⋯ & 私 & 自分 & 言葉 & 話 & 返事 & 通り & 間 & 頭 & 顔 & Ｋ\\\\\n",
       "\\hline\n",
       "\t第一部 & 0.027844073 & 0.017104216 & 0.00000000 & 0.006364360 & 0.009148767 & 0.012728719 & 0.0007955449 & 0.007955449 & 0.2024661893 & 0.007159905 & ⋯ & 0.3027049 & 0.01909308 & 0.01710422 & 0.005568815 & 0.005568815 & 0.008750994 & 0.013922037 & 0.009546539 & 0.01630867 & 0.00000000\\\\\n",
       "\t第二部 & 0.007225434 & 0.020953757 & 0.00000000 & 0.009393064 & 0.006502890 & 0.006502890 & 0.0411849711 & 0.004335260 & 0.0614161850 & 0.023121387 & ⋯ & 0.2572254 & 0.02962428 & 0.01950867 & 0.006502890 & 0.013005780 & 0.012283237 & 0.008670520 & 0.008670520 & 0.01517341 & 0.00000000\\\\\n",
       "\t第三部 & 0.022804774 & 0.009803922 & 0.03580563 & 0.008312020 & 0.007033248 & 0.006393862 & 0.0006393862 & 0.005754476 & 0.0002131287 & 0.001705030 & ⋯ & 0.3358909 & 0.03729753 & 0.01214834 & 0.011295823 & 0.004475703 & 0.014705882 & 0.008525149 & 0.007885763 & 0.01555840 & 0.08695652\\\\\n",
       "\\end{tabular}\n"
      ],
      "text/markdown": [
       "\n",
       "A matrix: 3 × 50 of type dbl\n",
       "\n",
       "| <!--/--> | あなた | うち | お嬢さん | ところ | 三 | 人間 | 兄 | 先 | 先生 | 卒業 | ⋯ | 私 | 自分 | 言葉 | 話 | 返事 | 通り | 間 | 頭 | 顔 | Ｋ |\n",
       "|---|---|---|---|---|---|---|---|---|---|---|---|---|---|---|---|---|---|---|---|---|---|\n",
       "| 第一部 | 0.027844073 | 0.017104216 | 0.00000000 | 0.006364360 | 0.009148767 | 0.012728719 | 0.0007955449 | 0.007955449 | 0.2024661893 | 0.007159905 | ⋯ | 0.3027049 | 0.01909308 | 0.01710422 | 0.005568815 | 0.005568815 | 0.008750994 | 0.013922037 | 0.009546539 | 0.01630867 | 0.00000000 |\n",
       "| 第二部 | 0.007225434 | 0.020953757 | 0.00000000 | 0.009393064 | 0.006502890 | 0.006502890 | 0.0411849711 | 0.004335260 | 0.0614161850 | 0.023121387 | ⋯ | 0.2572254 | 0.02962428 | 0.01950867 | 0.006502890 | 0.013005780 | 0.012283237 | 0.008670520 | 0.008670520 | 0.01517341 | 0.00000000 |\n",
       "| 第三部 | 0.022804774 | 0.009803922 | 0.03580563 | 0.008312020 | 0.007033248 | 0.006393862 | 0.0006393862 | 0.005754476 | 0.0002131287 | 0.001705030 | ⋯ | 0.3358909 | 0.03729753 | 0.01214834 | 0.011295823 | 0.004475703 | 0.014705882 | 0.008525149 | 0.007885763 | 0.01555840 | 0.08695652 |\n",
       "\n"
      ],
      "text/plain": [
       "       あなた      うち        お嬢さん   ところ      三          人間       \n",
       "第一部 0.027844073 0.017104216 0.00000000 0.006364360 0.009148767 0.012728719\n",
       "第二部 0.007225434 0.020953757 0.00000000 0.009393064 0.006502890 0.006502890\n",
       "第三部 0.022804774 0.009803922 0.03580563 0.008312020 0.007033248 0.006393862\n",
       "       兄           先          先生         卒業        ⋯ 私        自分      \n",
       "第一部 0.0007955449 0.007955449 0.2024661893 0.007159905 ⋯ 0.3027049 0.01909308\n",
       "第二部 0.0411849711 0.004335260 0.0614161850 0.023121387 ⋯ 0.2572254 0.02962428\n",
       "第三部 0.0006393862 0.005754476 0.0002131287 0.001705030 ⋯ 0.3358909 0.03729753\n",
       "       言葉       話          返事        通り        間          頭         \n",
       "第一部 0.01710422 0.005568815 0.005568815 0.008750994 0.013922037 0.009546539\n",
       "第二部 0.01950867 0.006502890 0.013005780 0.012283237 0.008670520 0.008670520\n",
       "第三部 0.01214834 0.011295823 0.004475703 0.014705882 0.008525149 0.007885763\n",
       "       顔         Ｋ        \n",
       "第一部 0.01630867 0.00000000\n",
       "第二部 0.01517341 0.00000000\n",
       "第三部 0.01555840 0.08695652"
      ]
     },
     "metadata": {},
     "output_type": "display_data"
    }
   ],
   "source": [
    "# 出現確率(割合)に変換する\n",
    "# 単語の頻度 / 部の長さ\n",
    "(mat_t / colSums(mat)) "
   ]
  },
  {
   "cell_type": "code",
   "execution_count": 26,
   "metadata": {},
   "outputs": [],
   "source": [
    "# 割合データを主成分分析にかける\n",
    "result = (mat_t / colSums(mat)) %>% prcomp()"
   ]
  },
  {
   "cell_type": "code",
   "execution_count": 27,
   "metadata": {},
   "outputs": [
    {
     "data": {
      "image/png": "[encoded data removed]",
      "text/plain": [
       "plot without title"
      ]
     },
     "metadata": {
      "image/png": {
       "height": 420,
       "width": 420
      }
     },
     "output_type": "display_data"
    }
   ],
   "source": [
    "# 単語の頻度\n",
    "biplot(result)\n",
    "## べき分布なので、頻度の多い単語に引っ張られて他のがよくわからない"
   ]
  },
  {
   "cell_type": "code",
   "execution_count": 28,
   "metadata": {},
   "outputs": [],
   "source": [
    "ratio = mat_t / colSums(mat)\n",
    "ratio_t = t(ratio)"
   ]
  },
  {
   "cell_type": "code",
   "execution_count": null,
   "metadata": {},
   "outputs": [],
   "source": [
    "ratio"
   ]
  },
  {
   "cell_type": "code",
   "execution_count": 29,
   "metadata": {},
   "outputs": [
    {
     "data": {
      "text/html": [
       "<table class=\"dataframe\">\n",
       "<caption>A matrix: 50 × 3 of type dbl</caption>\n",
       "<thead>\n",
       "\t<tr><th></th><th scope=col>第一部</th><th scope=col>第二部</th><th scope=col>第三部</th></tr>\n",
       "</thead>\n",
       "<tbody>\n",
       "\t<tr><th scope=row>あなた</th><td>0.48111307</td><td>0.12484706</td><td>0.3940398700</td></tr>\n",
       "\t<tr><th scope=row>うち</th><td>0.35736605</td><td>0.43779623</td><td>0.2048377218</td></tr>\n",
       "\t<tr><th scope=row>お嬢さん</th><td>0.00000000</td><td>0.00000000</td><td>1.0000000000</td></tr>\n",
       "\t<tr><th scope=row>ところ</th><td>0.26441656</td><td>0.39024847</td><td>0.3453349644</td></tr>\n",
       "\t<tr><th scope=row>三</th><td>0.40329756</td><td>0.28666155</td><td>0.3100408854</td></tr>\n",
       "\t<tr><th scope=row>人間</th><td>0.49672137</td><td>0.25376666</td><td>0.2495119732</td></tr>\n",
       "\t<tr><th scope=row>兄</th><td>0.01866604</td><td>0.96633190</td><td>0.0150020567</td></tr>\n",
       "\t<tr><th scope=row>先</th><td>0.44086272</td><td>0.24024470</td><td>0.3188925803</td></tr>\n",
       "\t<tr><th scope=row>先生</th><td>0.76664005</td><td>0.23255294</td><td>0.0008070139</td></tr>\n",
       "\t<tr><th scope=row>卒業</th><td>0.22384270</td><td>0.72285233</td><td>0.0533049676</td></tr>\n",
       "\t<tr><th scope=row>叔父</th><td>0.02633617</td><td>0.00000000</td><td>0.9736638265</td></tr>\n",
       "\t<tr><th scope=row>口</th><td>0.25033552</td><td>0.50719657</td><td>0.2424679041</td></tr>\n",
       "\t<tr><th scope=row>問題</th><td>0.59025135</td><td>0.04288705</td><td>0.3668615963</td></tr>\n",
       "\t<tr><th scope=row>声</th><td>0.21079000</td><td>0.47861820</td><td>0.3105917942</td></tr>\n",
       "\t<tr><th scope=row>外</th><td>0.37251746</td><td>0.24929884</td><td>0.3781836985</td></tr>\n",
       "\t<tr><th scope=row>奥さん</th><td>0.60635212</td><td>0.04213093</td><td>0.3515169501</td></tr>\n",
       "\t<tr><th scope=row>女</th><td>0.35122063</td><td>0.15949579</td><td>0.4892835792</td></tr>\n",
       "\t<tr><th scope=row>妻</th><td>0.16419948</td><td>0.00000000</td><td>0.8358005249</td></tr>\n",
       "\t<tr><th scope=row>宅</th><td>0.40299423</td><td>0.23424913</td><td>0.3627566442</td></tr>\n",
       "\t<tr><th scope=row>室</th><td>0.06351023</td><td>0.15381958</td><td>0.7826701938</td></tr>\n",
       "\t<tr><th scope=row>家</th><td>0.31583569</td><td>0.29832780</td><td>0.3858365089</td></tr>\n",
       "\t<tr><th scope=row>彼</th><td>0.06253182</td><td>0.02065226</td><td>0.9168159215</td></tr>\n",
       "\t<tr><th scope=row>後</th><td>0.31796682</td><td>0.34129636</td><td>0.3407368211</td></tr>\n",
       "\t<tr><th scope=row>心</th><td>0.26525479</td><td>0.30837019</td><td>0.4263750227</td></tr>\n",
       "\t<tr><th scope=row>心持</th><td>0.26621746</td><td>0.28208664</td><td>0.4516959058</td></tr>\n",
       "\t<tr><th scope=row>急</th><td>0.49696789</td><td>0.16413259</td><td>0.3388995178</td></tr>\n",
       "\t<tr><th scope=row>意味</th><td>0.41126453</td><td>0.24901711</td><td>0.3397183550</td></tr>\n",
       "\t<tr><th scope=row>態度</th><td>0.36326794</td><td>0.24745004</td><td>0.3892820168</td></tr>\n",
       "\t<tr><th scope=row>所</th><td>0.23721370</td><td>0.48475409</td><td>0.2780322069</td></tr>\n",
       "\t<tr><th scope=row>手</th><td>0.37614004</td><td>0.31315561</td><td>0.3107043433</td></tr>\n",
       "\t<tr><th scope=row>手紙</th><td>0.13594031</td><td>0.74079609</td><td>0.1232635991</td></tr>\n",
       "\t<tr><th scope=row>日</th><td>0.44639814</td><td>0.31441922</td><td>0.2391826372</td></tr>\n",
       "\t<tr><th scope=row>東京</th><td>0.17071703</td><td>0.62020608</td><td>0.2090768988</td></tr>\n",
       "\t<tr><th scope=row>様子</th><td>0.26971772</td><td>0.45931427</td><td>0.2709680096</td></tr>\n",
       "\t<tr><th scope=row>母</th><td>0.09036636</td><td>0.82820201</td><td>0.0814316271</td></tr>\n",
       "\t<tr><th scope=row>父</th><td>0.11863060</td><td>0.83502142</td><td>0.0463479792</td></tr>\n",
       "\t<tr><th scope=row>男</th><td>0.40000588</td><td>0.04036668</td><td>0.5596274373</td></tr>\n",
       "\t<tr><th scope=row>病気</th><td>0.35546570</td><td>0.57651268</td><td>0.0680216156</td></tr>\n",
       "\t<tr><th scope=row>的</th><td>0.39274960</td><td>0.13376614</td><td>0.4734842543</td></tr>\n",
       "\t<tr><th scope=row>眼</th><td>0.31686839</td><td>0.33857835</td><td>0.3445532601</td></tr>\n",
       "\t<tr><th scope=row>私</th><td>0.33790768</td><td>0.28713927</td><td>0.3749530503</td></tr>\n",
       "\t<tr><th scope=row>自分</th><td>0.22197413</td><td>0.34440874</td><td>0.4336171370</td></tr>\n",
       "\t<tr><th scope=row>言葉</th><td>0.35077496</td><td>0.40008574</td><td>0.2491393052</td></tr>\n",
       "\t<tr><th scope=row>話</th><td>0.23831424</td><td>0.27828747</td><td>0.4833982835</td></tr>\n",
       "\t<tr><th scope=row>返事</th><td>0.24159404</td><td>0.56423480</td><td>0.1941711671</td></tr>\n",
       "\t<tr><th scope=row>通り</th><td>0.24485077</td><td>0.34368209</td><td>0.4114671387</td></tr>\n",
       "\t<tr><th scope=row>間</th><td>0.44739919</td><td>0.27863623</td><td>0.2739645778</td></tr>\n",
       "\t<tr><th scope=row>頭</th><td>0.36572824</td><td>0.33216792</td><td>0.3021038421</td></tr>\n",
       "\t<tr><th scope=row>顔</th><td>0.34669442</td><td>0.32256071</td><td>0.3307448726</td></tr>\n",
       "\t<tr><th scope=row>Ｋ</th><td>0.00000000</td><td>0.00000000</td><td>1.0000000000</td></tr>\n",
       "</tbody>\n",
       "</table>\n"
      ],
      "text/latex": [
       "A matrix: 50 × 3 of type dbl\n",
       "\\begin{tabular}{r|lll}\n",
       "  & 第一部 & 第二部 & 第三部\\\\\n",
       "\\hline\n",
       "\tあなた & 0.48111307 & 0.12484706 & 0.3940398700\\\\\n",
       "\tうち & 0.35736605 & 0.43779623 & 0.2048377218\\\\\n",
       "\tお嬢さん & 0.00000000 & 0.00000000 & 1.0000000000\\\\\n",
       "\tところ & 0.26441656 & 0.39024847 & 0.3453349644\\\\\n",
       "\t三 & 0.40329756 & 0.28666155 & 0.3100408854\\\\\n",
       "\t人間 & 0.49672137 & 0.25376666 & 0.2495119732\\\\\n",
       "\t兄 & 0.01866604 & 0.96633190 & 0.0150020567\\\\\n",
       "\t先 & 0.44086272 & 0.24024470 & 0.3188925803\\\\\n",
       "\t先生 & 0.76664005 & 0.23255294 & 0.0008070139\\\\\n",
       "\t卒業 & 0.22384270 & 0.72285233 & 0.0533049676\\\\\n",
       "\t叔父 & 0.02633617 & 0.00000000 & 0.9736638265\\\\\n",
       "\t口 & 0.25033552 & 0.50719657 & 0.2424679041\\\\\n",
       "\t問題 & 0.59025135 & 0.04288705 & 0.3668615963\\\\\n",
       "\t声 & 0.21079000 & 0.47861820 & 0.3105917942\\\\\n",
       "\t外 & 0.37251746 & 0.24929884 & 0.3781836985\\\\\n",
       "\t奥さん & 0.60635212 & 0.04213093 & 0.3515169501\\\\\n",
       "\t女 & 0.35122063 & 0.15949579 & 0.4892835792\\\\\n",
       "\t妻 & 0.16419948 & 0.00000000 & 0.8358005249\\\\\n",
       "\t宅 & 0.40299423 & 0.23424913 & 0.3627566442\\\\\n",
       "\t室 & 0.06351023 & 0.15381958 & 0.7826701938\\\\\n",
       "\t家 & 0.31583569 & 0.29832780 & 0.3858365089\\\\\n",
       "\t彼 & 0.06253182 & 0.02065226 & 0.9168159215\\\\\n",
       "\t後 & 0.31796682 & 0.34129636 & 0.3407368211\\\\\n",
       "\t心 & 0.26525479 & 0.30837019 & 0.4263750227\\\\\n",
       "\t心持 & 0.26621746 & 0.28208664 & 0.4516959058\\\\\n",
       "\t急 & 0.49696789 & 0.16413259 & 0.3388995178\\\\\n",
       "\t意味 & 0.41126453 & 0.24901711 & 0.3397183550\\\\\n",
       "\t態度 & 0.36326794 & 0.24745004 & 0.3892820168\\\\\n",
       "\t所 & 0.23721370 & 0.48475409 & 0.2780322069\\\\\n",
       "\t手 & 0.37614004 & 0.31315561 & 0.3107043433\\\\\n",
       "\t手紙 & 0.13594031 & 0.74079609 & 0.1232635991\\\\\n",
       "\t日 & 0.44639814 & 0.31441922 & 0.2391826372\\\\\n",
       "\t東京 & 0.17071703 & 0.62020608 & 0.2090768988\\\\\n",
       "\t様子 & 0.26971772 & 0.45931427 & 0.2709680096\\\\\n",
       "\t母 & 0.09036636 & 0.82820201 & 0.0814316271\\\\\n",
       "\t父 & 0.11863060 & 0.83502142 & 0.0463479792\\\\\n",
       "\t男 & 0.40000588 & 0.04036668 & 0.5596274373\\\\\n",
       "\t病気 & 0.35546570 & 0.57651268 & 0.0680216156\\\\\n",
       "\t的 & 0.39274960 & 0.13376614 & 0.4734842543\\\\\n",
       "\t眼 & 0.31686839 & 0.33857835 & 0.3445532601\\\\\n",
       "\t私 & 0.33790768 & 0.28713927 & 0.3749530503\\\\\n",
       "\t自分 & 0.22197413 & 0.34440874 & 0.4336171370\\\\\n",
       "\t言葉 & 0.35077496 & 0.40008574 & 0.2491393052\\\\\n",
       "\t話 & 0.23831424 & 0.27828747 & 0.4833982835\\\\\n",
       "\t返事 & 0.24159404 & 0.56423480 & 0.1941711671\\\\\n",
       "\t通り & 0.24485077 & 0.34368209 & 0.4114671387\\\\\n",
       "\t間 & 0.44739919 & 0.27863623 & 0.2739645778\\\\\n",
       "\t頭 & 0.36572824 & 0.33216792 & 0.3021038421\\\\\n",
       "\t顔 & 0.34669442 & 0.32256071 & 0.3307448726\\\\\n",
       "\tＫ & 0.00000000 & 0.00000000 & 1.0000000000\\\\\n",
       "\\end{tabular}\n"
      ],
      "text/markdown": [
       "\n",
       "A matrix: 50 × 3 of type dbl\n",
       "\n",
       "| <!--/--> | 第一部 | 第二部 | 第三部 |\n",
       "|---|---|---|---|\n",
       "| あなた | 0.48111307 | 0.12484706 | 0.3940398700 |\n",
       "| うち | 0.35736605 | 0.43779623 | 0.2048377218 |\n",
       "| お嬢さん | 0.00000000 | 0.00000000 | 1.0000000000 |\n",
       "| ところ | 0.26441656 | 0.39024847 | 0.3453349644 |\n",
       "| 三 | 0.40329756 | 0.28666155 | 0.3100408854 |\n",
       "| 人間 | 0.49672137 | 0.25376666 | 0.2495119732 |\n",
       "| 兄 | 0.01866604 | 0.96633190 | 0.0150020567 |\n",
       "| 先 | 0.44086272 | 0.24024470 | 0.3188925803 |\n",
       "| 先生 | 0.76664005 | 0.23255294 | 0.0008070139 |\n",
       "| 卒業 | 0.22384270 | 0.72285233 | 0.0533049676 |\n",
       "| 叔父 | 0.02633617 | 0.00000000 | 0.9736638265 |\n",
       "| 口 | 0.25033552 | 0.50719657 | 0.2424679041 |\n",
       "| 問題 | 0.59025135 | 0.04288705 | 0.3668615963 |\n",
       "| 声 | 0.21079000 | 0.47861820 | 0.3105917942 |\n",
       "| 外 | 0.37251746 | 0.24929884 | 0.3781836985 |\n",
       "| 奥さん | 0.60635212 | 0.04213093 | 0.3515169501 |\n",
       "| 女 | 0.35122063 | 0.15949579 | 0.4892835792 |\n",
       "| 妻 | 0.16419948 | 0.00000000 | 0.8358005249 |\n",
       "| 宅 | 0.40299423 | 0.23424913 | 0.3627566442 |\n",
       "| 室 | 0.06351023 | 0.15381958 | 0.7826701938 |\n",
       "| 家 | 0.31583569 | 0.29832780 | 0.3858365089 |\n",
       "| 彼 | 0.06253182 | 0.02065226 | 0.9168159215 |\n",
       "| 後 | 0.31796682 | 0.34129636 | 0.3407368211 |\n",
       "| 心 | 0.26525479 | 0.30837019 | 0.4263750227 |\n",
       "| 心持 | 0.26621746 | 0.28208664 | 0.4516959058 |\n",
       "| 急 | 0.49696789 | 0.16413259 | 0.3388995178 |\n",
       "| 意味 | 0.41126453 | 0.24901711 | 0.3397183550 |\n",
       "| 態度 | 0.36326794 | 0.24745004 | 0.3892820168 |\n",
       "| 所 | 0.23721370 | 0.48475409 | 0.2780322069 |\n",
       "| 手 | 0.37614004 | 0.31315561 | 0.3107043433 |\n",
       "| 手紙 | 0.13594031 | 0.74079609 | 0.1232635991 |\n",
       "| 日 | 0.44639814 | 0.31441922 | 0.2391826372 |\n",
       "| 東京 | 0.17071703 | 0.62020608 | 0.2090768988 |\n",
       "| 様子 | 0.26971772 | 0.45931427 | 0.2709680096 |\n",
       "| 母 | 0.09036636 | 0.82820201 | 0.0814316271 |\n",
       "| 父 | 0.11863060 | 0.83502142 | 0.0463479792 |\n",
       "| 男 | 0.40000588 | 0.04036668 | 0.5596274373 |\n",
       "| 病気 | 0.35546570 | 0.57651268 | 0.0680216156 |\n",
       "| 的 | 0.39274960 | 0.13376614 | 0.4734842543 |\n",
       "| 眼 | 0.31686839 | 0.33857835 | 0.3445532601 |\n",
       "| 私 | 0.33790768 | 0.28713927 | 0.3749530503 |\n",
       "| 自分 | 0.22197413 | 0.34440874 | 0.4336171370 |\n",
       "| 言葉 | 0.35077496 | 0.40008574 | 0.2491393052 |\n",
       "| 話 | 0.23831424 | 0.27828747 | 0.4833982835 |\n",
       "| 返事 | 0.24159404 | 0.56423480 | 0.1941711671 |\n",
       "| 通り | 0.24485077 | 0.34368209 | 0.4114671387 |\n",
       "| 間 | 0.44739919 | 0.27863623 | 0.2739645778 |\n",
       "| 頭 | 0.36572824 | 0.33216792 | 0.3021038421 |\n",
       "| 顔 | 0.34669442 | 0.32256071 | 0.3307448726 |\n",
       "| Ｋ | 0.00000000 | 0.00000000 | 1.0000000000 |\n",
       "\n"
      ],
      "text/plain": [
       "         第一部     第二部     第三部      \n",
       "あなた   0.48111307 0.12484706 0.3940398700\n",
       "うち     0.35736605 0.43779623 0.2048377218\n",
       "お嬢さん 0.00000000 0.00000000 1.0000000000\n",
       "ところ   0.26441656 0.39024847 0.3453349644\n",
       "三       0.40329756 0.28666155 0.3100408854\n",
       "人間     0.49672137 0.25376666 0.2495119732\n",
       "兄       0.01866604 0.96633190 0.0150020567\n",
       "先       0.44086272 0.24024470 0.3188925803\n",
       "先生     0.76664005 0.23255294 0.0008070139\n",
       "卒業     0.22384270 0.72285233 0.0533049676\n",
       "叔父     0.02633617 0.00000000 0.9736638265\n",
       "口       0.25033552 0.50719657 0.2424679041\n",
       "問題     0.59025135 0.04288705 0.3668615963\n",
       "声       0.21079000 0.47861820 0.3105917942\n",
       "外       0.37251746 0.24929884 0.3781836985\n",
       "奥さん   0.60635212 0.04213093 0.3515169501\n",
       "女       0.35122063 0.15949579 0.4892835792\n",
       "妻       0.16419948 0.00000000 0.8358005249\n",
       "宅       0.40299423 0.23424913 0.3627566442\n",
       "室       0.06351023 0.15381958 0.7826701938\n",
       "家       0.31583569 0.29832780 0.3858365089\n",
       "彼       0.06253182 0.02065226 0.9168159215\n",
       "後       0.31796682 0.34129636 0.3407368211\n",
       "心       0.26525479 0.30837019 0.4263750227\n",
       "心持     0.26621746 0.28208664 0.4516959058\n",
       "急       0.49696789 0.16413259 0.3388995178\n",
       "意味     0.41126453 0.24901711 0.3397183550\n",
       "態度     0.36326794 0.24745004 0.3892820168\n",
       "所       0.23721370 0.48475409 0.2780322069\n",
       "手       0.37614004 0.31315561 0.3107043433\n",
       "手紙     0.13594031 0.74079609 0.1232635991\n",
       "日       0.44639814 0.31441922 0.2391826372\n",
       "東京     0.17071703 0.62020608 0.2090768988\n",
       "様子     0.26971772 0.45931427 0.2709680096\n",
       "母       0.09036636 0.82820201 0.0814316271\n",
       "父       0.11863060 0.83502142 0.0463479792\n",
       "男       0.40000588 0.04036668 0.5596274373\n",
       "病気     0.35546570 0.57651268 0.0680216156\n",
       "的       0.39274960 0.13376614 0.4734842543\n",
       "眼       0.31686839 0.33857835 0.3445532601\n",
       "私       0.33790768 0.28713927 0.3749530503\n",
       "自分     0.22197413 0.34440874 0.4336171370\n",
       "言葉     0.35077496 0.40008574 0.2491393052\n",
       "話       0.23831424 0.27828747 0.4833982835\n",
       "返事     0.24159404 0.56423480 0.1941711671\n",
       "通り     0.24485077 0.34368209 0.4114671387\n",
       "間       0.44739919 0.27863623 0.2739645778\n",
       "頭       0.36572824 0.33216792 0.3021038421\n",
       "顔       0.34669442 0.32256071 0.3307448726\n",
       "Ｋ       0.00000000 0.00000000 1.0000000000"
      ]
     },
     "metadata": {},
     "output_type": "display_data"
    }
   ],
   "source": [
    "# 出現確率の比をとる\n",
    "# 各部の出現確率 / (第一部の出現確率＋第二部の出現確率＋第三部の出現確率)\n",
    "(ratio_t / colSums(ratio))"
   ]
  },
  {
   "cell_type": "code",
   "execution_count": 30,
   "metadata": {},
   "outputs": [],
   "source": [
    "result = (ratio_t / colSums(ratio))  %>% prcomp()"
   ]
  },
  {
   "cell_type": "code",
   "execution_count": 31,
   "metadata": {},
   "outputs": [
    {
     "data": {
      "image/png": "[encoded data removed]",
      "text/plain": [
       "plot without title"
      ]
     },
     "metadata": {
      "image/png": {
       "height": 420,
       "width": 420
      }
     },
     "output_type": "display_data"
    }
   ],
   "source": [
    "biplot(result)"
   ]
  },
  {
   "cell_type": "code",
   "execution_count": 32,
   "metadata": {},
   "outputs": [
    {
     "name": "stdout",
     "output_type": "stream",
     "text": [
      "to make data frame\n",
      "\n"
     ]
    }
   ],
   "source": [
    "# 名詞のデータセット\n",
    "count_noun = docMatrixDF(parts[,'text'], pos=c('名詞'), dic=kokoro_dict)"
   ]
  },
  {
   "cell_type": "code",
   "execution_count": null,
   "metadata": {},
   "outputs": [],
   "source": [
    "count_noun"
   ]
  },
  {
   "cell_type": "code",
   "execution_count": null,
   "metadata": {},
   "outputs": [],
   "source": [
    "# 共起分析\n",
    "# バイグラムを使った分析"
   ]
  },
  {
   "cell_type": "code",
   "execution_count": 33,
   "metadata": {},
   "outputs": [
    {
     "name": "stdout",
     "output_type": "stream",
     "text": [
      "number of extracted terms = 28478\n",
      "now making a data frame. wait a while!\n",
      "\n"
     ]
    }
   ],
   "source": [
    "bigram = docDF(parts, col='text', type=1, pos=c('名詞', '動詞', '形容詞'), N=2, nDF=1, dic=kokoro_dict)"
   ]
  },
  {
   "cell_type": "code",
   "execution_count": 34,
   "metadata": {},
   "outputs": [
    {
     "data": {
      "text/html": [
       "<table class=\"dataframe\">\n",
       "<caption>A data.frame: 6 × 7</caption>\n",
       "<thead>\n",
       "\t<tr><th></th><th scope=col>N1</th><th scope=col>N2</th><th scope=col>POS1</th><th scope=col>POS2</th><th scope=col>Row1</th><th scope=col>Row2</th><th scope=col>Row3</th></tr>\n",
       "\t<tr><th></th><th scope=col>&lt;chr&gt;</th><th scope=col>&lt;chr&gt;</th><th scope=col>&lt;chr&gt;</th><th scope=col>&lt;chr&gt;</th><th scope=col>&lt;int&gt;</th><th scope=col>&lt;int&gt;</th><th scope=col>&lt;int&gt;</th></tr>\n",
       "</thead>\n",
       "<tbody>\n",
       "\t<tr><th scope=row>1</th><td>ああなる  </td><td>の  </td><td>動詞-名詞</td><td>自立-非自立      </td><td>2</td><td>0</td><td>0</td></tr>\n",
       "\t<tr><th scope=row>2</th><td>ああなる  </td><td>来る</td><td>動詞-動詞</td><td>自立-非自立      </td><td>1</td><td>0</td><td>0</td></tr>\n",
       "\t<tr><th scope=row>3</th><td>あい      </td><td>人々</td><td>名詞-名詞</td><td>一般-一般        </td><td>0</td><td>1</td><td>0</td></tr>\n",
       "\t<tr><th scope=row>4</th><td>あか      </td><td>他人</td><td>名詞-名詞</td><td>一般-一般        </td><td>1</td><td>0</td><td>0</td></tr>\n",
       "\t<tr><th scope=row>5</th><td>あからさま</td><td>自分</td><td>名詞-名詞</td><td>形容動詞語幹-一般</td><td>0</td><td>1</td><td>0</td></tr>\n",
       "\t<tr><th scope=row>6</th><td>あきれる  </td><td>風  </td><td>動詞-名詞</td><td>自立-一般        </td><td>1</td><td>0</td><td>0</td></tr>\n",
       "</tbody>\n",
       "</table>\n"
      ],
      "text/latex": [
       "A data.frame: 6 × 7\n",
       "\\begin{tabular}{r|lllllll}\n",
       "  & N1 & N2 & POS1 & POS2 & Row1 & Row2 & Row3\\\\\n",
       "  & <chr> & <chr> & <chr> & <chr> & <int> & <int> & <int>\\\\\n",
       "\\hline\n",
       "\t1 & ああなる   & の   & 動詞-名詞 & 自立-非自立       & 2 & 0 & 0\\\\\n",
       "\t2 & ああなる   & 来る & 動詞-動詞 & 自立-非自立       & 1 & 0 & 0\\\\\n",
       "\t3 & あい       & 人々 & 名詞-名詞 & 一般-一般         & 0 & 1 & 0\\\\\n",
       "\t4 & あか       & 他人 & 名詞-名詞 & 一般-一般         & 1 & 0 & 0\\\\\n",
       "\t5 & あからさま & 自分 & 名詞-名詞 & 形容動詞語幹-一般 & 0 & 1 & 0\\\\\n",
       "\t6 & あきれる   & 風   & 動詞-名詞 & 自立-一般         & 1 & 0 & 0\\\\\n",
       "\\end{tabular}\n"
      ],
      "text/markdown": [
       "\n",
       "A data.frame: 6 × 7\n",
       "\n",
       "| <!--/--> | N1 &lt;chr&gt; | N2 &lt;chr&gt; | POS1 &lt;chr&gt; | POS2 &lt;chr&gt; | Row1 &lt;int&gt; | Row2 &lt;int&gt; | Row3 &lt;int&gt; |\n",
       "|---|---|---|---|---|---|---|---|\n",
       "| 1 | ああなる   | の   | 動詞-名詞 | 自立-非自立       | 2 | 0 | 0 |\n",
       "| 2 | ああなる   | 来る | 動詞-動詞 | 自立-非自立       | 1 | 0 | 0 |\n",
       "| 3 | あい       | 人々 | 名詞-名詞 | 一般-一般         | 0 | 1 | 0 |\n",
       "| 4 | あか       | 他人 | 名詞-名詞 | 一般-一般         | 1 | 0 | 0 |\n",
       "| 5 | あからさま | 自分 | 名詞-名詞 | 形容動詞語幹-一般 | 0 | 1 | 0 |\n",
       "| 6 | あきれる   | 風   | 動詞-名詞 | 自立-一般         | 1 | 0 | 0 |\n",
       "\n"
      ],
      "text/plain": [
       "  N1         N2   POS1      POS2              Row1 Row2 Row3\n",
       "1 ああなる   の   動詞-名詞 自立-非自立       2    0    0   \n",
       "2 ああなる   来る 動詞-動詞 自立-非自立       1    0    0   \n",
       "3 あい       人々 名詞-名詞 一般-一般         0    1    0   \n",
       "4 あか       他人 名詞-名詞 一般-一般         1    0    0   \n",
       "5 あからさま 自分 名詞-名詞 形容動詞語幹-一般 0    1    0   \n",
       "6 あきれる   風   動詞-名詞 自立-一般         1    0    0   "
      ]
     },
     "metadata": {},
     "output_type": "display_data"
    }
   ],
   "source": [
    "bigram %>% head()"
   ]
  },
  {
   "cell_type": "code",
   "execution_count": 35,
   "metadata": {},
   "outputs": [],
   "source": [
    "# distribution\n",
    "bigram['freq'] = bigram[,5:7] %>% rowSums() "
   ]
  },
  {
   "cell_type": "code",
   "execution_count": 36,
   "metadata": {},
   "outputs": [
    {
     "data": {
      "image/png": "[encoded data removed]",
      "text/plain": [
       "plot without title"
      ]
     },
     "metadata": {
      "image/png": {
       "height": 420,
       "width": 420
      }
     },
     "output_type": "display_data"
    }
   ],
   "source": [
    "bigram[,'freq'] %>% sort(decreasing=T) %>% plot()"
   ]
  },
  {
   "cell_type": "code",
   "execution_count": 37,
   "metadata": {},
   "outputs": [
    {
     "data": {
      "image/png": "[encoded data removed]",
      "text/plain": [
       "plot without title"
      ]
     },
     "metadata": {
      "image/png": {
       "height": 420,
       "width": 420
      }
     },
     "output_type": "display_data"
    }
   ],
   "source": [
    "bigram[,'freq'] %>% sort(decreasing=T) %>% plot(log='xy')"
   ]
  },
  {
   "cell_type": "code",
   "execution_count": null,
   "metadata": {},
   "outputs": [],
   "source": [
    "# igraph: ネットワーク分析用のパッケージ\n",
    "# install.packages('igraph')\n",
    "library('igraph')"
   ]
  },
  {
   "cell_type": "code",
   "execution_count": null,
   "metadata": {},
   "outputs": [],
   "source": [
    "bigram %>% head()"
   ]
  },
  {
   "cell_type": "code",
   "execution_count": null,
   "metadata": {},
   "outputs": [],
   "source": [
    "net = bigram %>%\n",
    "    select(N1, N2, freq=Row1) %>% \n",
    "    filter(freq > 20)  %>%  \n",
    "    filter(! N1 %in% stopwords) %>%\n",
    "    filter(! N2 %in% stopwords)"
   ]
  },
  {
   "cell_type": "code",
   "execution_count": null,
   "metadata": {},
   "outputs": [],
   "source": [
    "net %>% head()"
   ]
  },
  {
   "cell_type": "code",
   "execution_count": null,
   "metadata": {},
   "outputs": [],
   "source": [
    "dim(net)"
   ]
  },
  {
   "cell_type": "code",
   "execution_count": null,
   "metadata": {},
   "outputs": [],
   "source": [
    "# tkplot: jupyter notebookでは動かないので RStudiio上で実演する\n",
    "#net %>% graph_from_data_frame() %>% tkplot(vertex.color='SkyBlue', vertex.size=22)"
   ]
  },
  {
   "cell_type": "code",
   "execution_count": null,
   "metadata": {},
   "outputs": [],
   "source": [
    "## sentenceごとにわける\n",
    "\n",
    "kokoro_sentence = read.delim('data/textmining/kokoro_sentence.tsv', header=T, sep='\\t', stringsAsFactor=F, fileEncoding='utf8')\n",
    "kokoro_sentence %>% head()\n",
    "\n"
   ]
  },
  {
   "cell_type": "code",
   "execution_count": null,
   "metadata": {},
   "outputs": [],
   "source": [
    "# 共起を算出する関数\n",
    "\n",
    "get_cooc = function(string, pos=c('名詞', '動詞'), with_pos=F, unique=T, stopwords=c(), dic=''){\n",
    "    if(length(string) == 0){\n",
    "        return(c())\n",
    "    }\n",
    "    words = RMeCabC(string, 1, dic=dic) %>% unlist()\n",
    "    targets = words[names(words) %in% pos] \n",
    "    \n",
    "    ## オプション引数の処理    \n",
    "    # 重複を除くか\n",
    "    if(unique){\n",
    "        targets[!duplicated(targets)]\n",
    "    }\n",
    "    \n",
    "    # ストップワードを除くか\n",
    "    if(length(stopwords)){\n",
    "        targets = targets[! targets %in% stopwords]\n",
    "    }\n",
    "    \n",
    "    if(length(targets) < 2){\n",
    "        return(c())\n",
    "    }\n",
    "    \n",
    "    # 品詞(pos: Part of Speech)を表示するか \n",
    "    if(with_pos){\n",
    "        targets = str_c(targets,'/',names(targets))\n",
    "    }\n",
    "    \n",
    "    # 組み合わせを求める\n",
    "    res = combn(sort(targets),2)\n",
    "    \n",
    "    result = paste(res[1,], '-', res[2,], sep='')\n",
    "    return(result)\n",
    "}\n",
    "\n",
    "\n",
    "stopwords = c('事','の','よう','それ','もの', '人', '何','一', 'ん','方','二','前','気','中','上','今','ため', '時', 'そこ', 'どこ', 'これ', 'そう',\n",
    "              'いる', 'なる', 'する', 'いう', 'ある', 'れる', 'られる', 'くれる')\n"
   ]
  },
  {
   "cell_type": "code",
   "execution_count": null,
   "metadata": {},
   "outputs": [],
   "source": [
    "# map(): それぞれの要素に対して関数を適用\n",
    "# 各文に対してget_cooc()を適用する\n",
    "res = map(kokoro_sentence[,'content'], get_cooc, pos=c('名詞'), stopwords=stopwords)  %>% \n",
    "    unlist() %>% \n",
    "    table()\n",
    "res %>% dim()"
   ]
  },
  {
   "cell_type": "code",
   "execution_count": null,
   "metadata": {},
   "outputs": [],
   "source": [
    "res %>% head()"
   ]
  },
  {
   "cell_type": "code",
   "execution_count": null,
   "metadata": {},
   "outputs": [],
   "source": [
    "res %>% as.vector() %>% sort(decreasing=T) %>% plot()\n"
   ]
  },
  {
   "cell_type": "code",
   "execution_count": null,
   "metadata": {},
   "outputs": [],
   "source": [
    "res %>% as.vector() %>% sort(decreasing=T) %>% plot(log='y')"
   ]
  },
  {
   "cell_type": "code",
   "execution_count": null,
   "metadata": {},
   "outputs": [],
   "source": [
    "res %>% as.vector() %>% sort(decreasing=T) %>% plot(log='xy')"
   ]
  },
  {
   "cell_type": "code",
   "execution_count": null,
   "metadata": {},
   "outputs": [],
   "source": [
    "# 各部ごとに共起を集計する\n",
    "part1 = map(kokoro_sentence[kokoro_sentence$part_id == 1,'content'], get_cooc, pos=c('名詞'), stopwords=stopwords) %>% unlist() %>% table()\n",
    "part2 = map(kokoro_sentence[kokoro_sentence$part_id == 2,'content'], get_cooc, pos=c('名詞'), stopwords=stopwords) %>% unlist() %>% table()\n",
    "part3 = map(kokoro_sentence[kokoro_sentence$part_id == 3,'content'], get_cooc, pos=c('名詞'), stopwords=stopwords) %>% unlist() %>% table()\n",
    "part3 %>% head()"
   ]
  },
  {
   "cell_type": "code",
   "execution_count": null,
   "metadata": {},
   "outputs": [],
   "source": [
    "# データフレームにして結合する\n",
    "df1 = as.data.frame(part1)\n",
    "df2 = as.data.frame(part2)\n",
    "df3 = as.data.frame(part3)\n",
    "res = merge(x=df1, y=df2, by='.', all=T)\n",
    "res = merge(x=res, y=df3, by='.', all=T)\n",
    "colnames(res) = c('term', 'df1', 'df2', 'df3')\n",
    "\n",
    "# NAはゼロで埋める\n",
    "res[is.na(res)] = 0"
   ]
  },
  {
   "cell_type": "code",
   "execution_count": null,
   "metadata": {},
   "outputs": [],
   "source": [
    "# 主成分分析をする\n",
    "mat = res\n",
    "row.names(mat) = mat[,1]\n",
    "mat = mat[2:4]\n",
    "mat = mat[rowSums(mat) > 50, ]\n",
    "colnames(mat) = c('第一部','第二部','第三部')\n",
    "\n",
    "mat_t = t(mat)\n",
    "\n",
    "ratio = mat_t / colSums(mat)\n",
    "ratio_t = t(ratio)\n",
    "result = (ratio_t / colSums(ratio))  %>% prcomp()\n",
    "\n",
    "biplot(result)\n"
   ]
  }
 ],
 "metadata": {
  "kernelspec": {
   "display_name": "R",
   "language": "R",
   "name": "ir"
  },
  "language_info": {
   "codemirror_mode": "r",
   "file_extension": ".r",
   "mimetype": "text/x-r-source",
   "name": "R",
   "pygments_lexer": "r",
   "version": "4.2.0"
  }
 },
 "nbformat": 4,
 "nbformat_minor": 4
}
