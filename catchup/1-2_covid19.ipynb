{
 "cells": [
  {
   "cell_type": "markdown",
   "id": "3f1b2080-1caa-4a7f-815e-d1732833e79e",
   "metadata": {},
   "source": [
    "# 実習1-2 新型コロナ関連データ"
   ]
  },
  {
   "cell_type": "code",
   "execution_count": 1,
   "id": "225fe51a-1aac-4f60-982b-b97e0eb3a8fc",
   "metadata": {},
   "outputs": [
    {
     "name": "stderr",
     "output_type": "stream",
     "text": [
      "── \u001b[1mAttaching packages\u001b[22m ─────────────────────────────────────────────────────────────────────────────── tidyverse 1.3.1 ──\n",
      "\n",
      "\u001b[32m✔\u001b[39m \u001b[34mggplot2\u001b[39m 3.3.6     \u001b[32m✔\u001b[39m \u001b[34mpurrr  \u001b[39m 0.3.4\n",
      "\u001b[32m✔\u001b[39m \u001b[34mtibble \u001b[39m 3.1.7     \u001b[32m✔\u001b[39m \u001b[34mdplyr  \u001b[39m 1.0.9\n",
      "\u001b[32m✔\u001b[39m \u001b[34mtidyr  \u001b[39m 1.2.0     \u001b[32m✔\u001b[39m \u001b[34mstringr\u001b[39m 1.4.0\n",
      "\u001b[32m✔\u001b[39m \u001b[34mreadr  \u001b[39m 2.1.2     \u001b[32m✔\u001b[39m \u001b[34mforcats\u001b[39m 0.5.1\n",
      "\n",
      "── \u001b[1mConflicts\u001b[22m ────────────────────────────────────────────────────────────────────────────────── tidyverse_conflicts() ──\n",
      "\u001b[31m✖\u001b[39m \u001b[34mdplyr\u001b[39m::\u001b[32mfilter()\u001b[39m masks \u001b[34mstats\u001b[39m::filter()\n",
      "\u001b[31m✖\u001b[39m \u001b[34mdplyr\u001b[39m::\u001b[32mlag()\u001b[39m    masks \u001b[34mstats\u001b[39m::lag()\n",
      "\n"
     ]
    }
   ],
   "source": [
    "# パッケージの読み込み\n",
    "library('tidyverse')"
   ]
  },
  {
   "cell_type": "code",
   "execution_count": 2,
   "id": "cf3f4bc6-a6c8-455f-981d-4e74745bf207",
   "metadata": {},
   "outputs": [
    {
     "data": {
      "text/html": [
       "'C:/Users/satoc/Documents/GitHub/lecture2022shimane'"
      ],
      "text/latex": [
       "'C:/Users/satoc/Documents/GitHub/lecture2022shimane'"
      ],
      "text/markdown": [
       "'C:/Users/satoc/Documents/GitHub/lecture2022shimane'"
      ],
      "text/plain": [
       "[1] \"C:/Users/satoc/Documents/GitHub/lecture2022shimane\""
      ]
     },
     "metadata": {},
     "output_type": "display_data"
    }
   ],
   "source": [
    "getwd()"
   ]
  },
  {
   "cell_type": "code",
   "execution_count": null,
   "id": "5c3ae1e3-54bd-493e-90f6-c59ac1017f3c",
   "metadata": {},
   "outputs": [],
   "source": [
    "# ディレクトリの指定\n",
    "# setwd('../vaccine')"
   ]
  },
  {
   "cell_type": "code",
   "execution_count": 21,
   "id": "a6b77e49-7ac2-4e5a-918a-9f04754618f9",
   "metadata": {},
   "outputs": [],
   "source": [
    "# データの読み込み\n",
    "cases = read.csv('data/covid19/cases.csv')\n",
    "vaccines = read.csv('data/covid19/vaccine.csv')\n",
    "prefectures = read.csv('data/covid19/prefectures.csv')\n",
    "regions = read.csv('data/covid19/regions.csv')"
   ]
  },
  {
   "cell_type": "code",
   "execution_count": 6,
   "id": "314b6b11-291e-44fc-b8bd-0f8e71421d46",
   "metadata": {},
   "outputs": [
    {
     "data": {
      "text/html": [
       "<style>\n",
       ".list-inline {list-style: none; margin:0; padding: 0}\n",
       ".list-inline>li {display: inline-block}\n",
       ".list-inline>li:not(:last-child)::after {content: \"\\00b7\"; padding: 0 .5ex}\n",
       "</style>\n",
       "<ol class=list-inline><li>41830</li><li>3</li></ol>\n"
      ],
      "text/latex": [
       "\\begin{enumerate*}\n",
       "\\item 41830\n",
       "\\item 3\n",
       "\\end{enumerate*}\n"
      ],
      "text/markdown": [
       "1. 41830\n",
       "2. 3\n",
       "\n",
       "\n"
      ],
      "text/plain": [
       "[1] 41830     3"
      ]
     },
     "metadata": {},
     "output_type": "display_data"
    }
   ],
   "source": [
    "# データの形状の確認\n",
    "cases %>% dim()\n"
   ]
  },
  {
   "cell_type": "code",
   "execution_count": 8,
   "id": "faed2be9-acf0-4a9d-9281-72ce0db3b6ef",
   "metadata": {},
   "outputs": [
    {
     "data": {
      "text/html": [
       "<table class=\"dataframe\">\n",
       "<caption>A data.frame: 6 × 3</caption>\n",
       "<thead>\n",
       "\t<tr><th></th><th scope=col>date</th><th scope=col>prefecture_code</th><th scope=col>cases</th></tr>\n",
       "\t<tr><th></th><th scope=col>&lt;chr&gt;</th><th scope=col>&lt;int&gt;</th><th scope=col>&lt;int&gt;</th></tr>\n",
       "</thead>\n",
       "<tbody>\n",
       "\t<tr><th scope=row>1</th><td>2020-01-16</td><td>1</td><td>0</td></tr>\n",
       "\t<tr><th scope=row>2</th><td>2020-01-16</td><td>2</td><td>0</td></tr>\n",
       "\t<tr><th scope=row>3</th><td>2020-01-16</td><td>3</td><td>0</td></tr>\n",
       "\t<tr><th scope=row>4</th><td>2020-01-16</td><td>4</td><td>0</td></tr>\n",
       "\t<tr><th scope=row>5</th><td>2020-01-16</td><td>5</td><td>0</td></tr>\n",
       "\t<tr><th scope=row>6</th><td>2020-01-16</td><td>6</td><td>0</td></tr>\n",
       "</tbody>\n",
       "</table>\n"
      ],
      "text/latex": [
       "A data.frame: 6 × 3\n",
       "\\begin{tabular}{r|lll}\n",
       "  & date & prefecture\\_code & cases\\\\\n",
       "  & <chr> & <int> & <int>\\\\\n",
       "\\hline\n",
       "\t1 & 2020-01-16 & 1 & 0\\\\\n",
       "\t2 & 2020-01-16 & 2 & 0\\\\\n",
       "\t3 & 2020-01-16 & 3 & 0\\\\\n",
       "\t4 & 2020-01-16 & 4 & 0\\\\\n",
       "\t5 & 2020-01-16 & 5 & 0\\\\\n",
       "\t6 & 2020-01-16 & 6 & 0\\\\\n",
       "\\end{tabular}\n"
      ],
      "text/markdown": [
       "\n",
       "A data.frame: 6 × 3\n",
       "\n",
       "| <!--/--> | date &lt;chr&gt; | prefecture_code &lt;int&gt; | cases &lt;int&gt; |\n",
       "|---|---|---|---|\n",
       "| 1 | 2020-01-16 | 1 | 0 |\n",
       "| 2 | 2020-01-16 | 2 | 0 |\n",
       "| 3 | 2020-01-16 | 3 | 0 |\n",
       "| 4 | 2020-01-16 | 4 | 0 |\n",
       "| 5 | 2020-01-16 | 5 | 0 |\n",
       "| 6 | 2020-01-16 | 6 | 0 |\n",
       "\n"
      ],
      "text/plain": [
       "  date       prefecture_code cases\n",
       "1 2020-01-16 1               0    \n",
       "2 2020-01-16 2               0    \n",
       "3 2020-01-16 3               0    \n",
       "4 2020-01-16 4               0    \n",
       "5 2020-01-16 5               0    \n",
       "6 2020-01-16 6               0    "
      ]
     },
     "metadata": {},
     "output_type": "display_data"
    }
   ],
   "source": [
    "# tibbleで読み込まれていることに注意\n",
    "cases %>% head()"
   ]
  },
  {
   "cell_type": "code",
   "execution_count": 9,
   "id": "e2fda34f-bebd-4936-94db-b9ce024da640",
   "metadata": {},
   "outputs": [
    {
     "data": {
      "text/html": [
       "<style>\n",
       ".list-inline {list-style: none; margin:0; padding: 0}\n",
       ".list-inline>li {display: inline-block}\n",
       ".list-inline>li:not(:last-child)::after {content: \"\\00b7\"; padding: 0 .5ex}\n",
       "</style>\n",
       "<ol class=list-inline><li>232800</li><li>6</li></ol>\n"
      ],
      "text/latex": [
       "\\begin{enumerate*}\n",
       "\\item 232800\n",
       "\\item 6\n",
       "\\end{enumerate*}\n"
      ],
      "text/markdown": [
       "1. 232800\n",
       "2. 6\n",
       "\n",
       "\n"
      ],
      "text/plain": [
       "[1] 232800      6"
      ]
     },
     "metadata": {},
     "output_type": "display_data"
    }
   ],
   "source": [
    "vaccines %>% dim()"
   ]
  },
  {
   "cell_type": "code",
   "execution_count": 10,
   "id": "c095f0e1-9821-4652-bf34-587a0a4683a4",
   "metadata": {},
   "outputs": [
    {
     "data": {
      "text/html": [
       "<table class=\"dataframe\">\n",
       "<caption>A data.frame: 6 × 6</caption>\n",
       "<thead>\n",
       "\t<tr><th></th><th scope=col>date</th><th scope=col>prefecture</th><th scope=col>gender</th><th scope=col>elderly</th><th scope=col>status</th><th scope=col>count</th></tr>\n",
       "\t<tr><th></th><th scope=col>&lt;chr&gt;</th><th scope=col>&lt;int&gt;</th><th scope=col>&lt;chr&gt;</th><th scope=col>&lt;int&gt;</th><th scope=col>&lt;int&gt;</th><th scope=col>&lt;int&gt;</th></tr>\n",
       "</thead>\n",
       "<tbody>\n",
       "\t<tr><th scope=row>1</th><td>2021-04-12</td><td>1</td><td>F</td><td> 0</td><td>1</td><td> 3</td></tr>\n",
       "\t<tr><th scope=row>2</th><td>2021-04-12</td><td>1</td><td>F</td><td> 1</td><td>1</td><td>74</td></tr>\n",
       "\t<tr><th scope=row>3</th><td>2021-04-12</td><td>1</td><td>M</td><td> 0</td><td>1</td><td> 1</td></tr>\n",
       "\t<tr><th scope=row>4</th><td>2021-04-12</td><td>1</td><td>M</td><td> 1</td><td>1</td><td>19</td></tr>\n",
       "\t<tr><th scope=row>5</th><td>2021-04-12</td><td>1</td><td>U</td><td>NA</td><td>1</td><td>17</td></tr>\n",
       "\t<tr><th scope=row>6</th><td>2021-04-12</td><td>2</td><td>F</td><td> 0</td><td>1</td><td> 5</td></tr>\n",
       "</tbody>\n",
       "</table>\n"
      ],
      "text/latex": [
       "A data.frame: 6 × 6\n",
       "\\begin{tabular}{r|llllll}\n",
       "  & date & prefecture & gender & elderly & status & count\\\\\n",
       "  & <chr> & <int> & <chr> & <int> & <int> & <int>\\\\\n",
       "\\hline\n",
       "\t1 & 2021-04-12 & 1 & F &  0 & 1 &  3\\\\\n",
       "\t2 & 2021-04-12 & 1 & F &  1 & 1 & 74\\\\\n",
       "\t3 & 2021-04-12 & 1 & M &  0 & 1 &  1\\\\\n",
       "\t4 & 2021-04-12 & 1 & M &  1 & 1 & 19\\\\\n",
       "\t5 & 2021-04-12 & 1 & U & NA & 1 & 17\\\\\n",
       "\t6 & 2021-04-12 & 2 & F &  0 & 1 &  5\\\\\n",
       "\\end{tabular}\n"
      ],
      "text/markdown": [
       "\n",
       "A data.frame: 6 × 6\n",
       "\n",
       "| <!--/--> | date &lt;chr&gt; | prefecture &lt;int&gt; | gender &lt;chr&gt; | elderly &lt;int&gt; | status &lt;int&gt; | count &lt;int&gt; |\n",
       "|---|---|---|---|---|---|---|\n",
       "| 1 | 2021-04-12 | 1 | F |  0 | 1 |  3 |\n",
       "| 2 | 2021-04-12 | 1 | F |  1 | 1 | 74 |\n",
       "| 3 | 2021-04-12 | 1 | M |  0 | 1 |  1 |\n",
       "| 4 | 2021-04-12 | 1 | M |  1 | 1 | 19 |\n",
       "| 5 | 2021-04-12 | 1 | U | NA | 1 | 17 |\n",
       "| 6 | 2021-04-12 | 2 | F |  0 | 1 |  5 |\n",
       "\n"
      ],
      "text/plain": [
       "  date       prefecture gender elderly status count\n",
       "1 2021-04-12 1          F       0      1       3   \n",
       "2 2021-04-12 1          F       1      1      74   \n",
       "3 2021-04-12 1          M       0      1       1   \n",
       "4 2021-04-12 1          M       1      1      19   \n",
       "5 2021-04-12 1          U      NA      1      17   \n",
       "6 2021-04-12 2          F       0      1       5   "
      ]
     },
     "metadata": {},
     "output_type": "display_data"
    }
   ],
   "source": [
    "vaccines %>% head()"
   ]
  },
  {
   "cell_type": "code",
   "execution_count": 11,
   "id": "c04c1517-3917-4ba1-b129-4d376e5a7ea1",
   "metadata": {},
   "outputs": [
    {
     "data": {
      "text/html": [
       "<table class=\"dataframe\">\n",
       "<caption>A data.frame: 6 × 2</caption>\n",
       "<thead>\n",
       "\t<tr><th></th><th scope=col>prefecture_code</th><th scope=col>prefecture</th></tr>\n",
       "\t<tr><th></th><th scope=col>&lt;int&gt;</th><th scope=col>&lt;chr&gt;</th></tr>\n",
       "</thead>\n",
       "<tbody>\n",
       "\t<tr><th scope=row>1</th><td>1</td><td>Hokkaido</td></tr>\n",
       "\t<tr><th scope=row>2</th><td>2</td><td>Aomori  </td></tr>\n",
       "\t<tr><th scope=row>3</th><td>3</td><td>Iwate   </td></tr>\n",
       "\t<tr><th scope=row>4</th><td>4</td><td>Miyagi  </td></tr>\n",
       "\t<tr><th scope=row>5</th><td>5</td><td>Akita   </td></tr>\n",
       "\t<tr><th scope=row>6</th><td>6</td><td>Yamagata</td></tr>\n",
       "</tbody>\n",
       "</table>\n"
      ],
      "text/latex": [
       "A data.frame: 6 × 2\n",
       "\\begin{tabular}{r|ll}\n",
       "  & prefecture\\_code & prefecture\\\\\n",
       "  & <int> & <chr>\\\\\n",
       "\\hline\n",
       "\t1 & 1 & Hokkaido\\\\\n",
       "\t2 & 2 & Aomori  \\\\\n",
       "\t3 & 3 & Iwate   \\\\\n",
       "\t4 & 4 & Miyagi  \\\\\n",
       "\t5 & 5 & Akita   \\\\\n",
       "\t6 & 6 & Yamagata\\\\\n",
       "\\end{tabular}\n"
      ],
      "text/markdown": [
       "\n",
       "A data.frame: 6 × 2\n",
       "\n",
       "| <!--/--> | prefecture_code &lt;int&gt; | prefecture &lt;chr&gt; |\n",
       "|---|---|---|\n",
       "| 1 | 1 | Hokkaido |\n",
       "| 2 | 2 | Aomori   |\n",
       "| 3 | 3 | Iwate    |\n",
       "| 4 | 4 | Miyagi   |\n",
       "| 5 | 5 | Akita    |\n",
       "| 6 | 6 | Yamagata |\n",
       "\n"
      ],
      "text/plain": [
       "  prefecture_code prefecture\n",
       "1 1               Hokkaido  \n",
       "2 2               Aomori    \n",
       "3 3               Iwate     \n",
       "4 4               Miyagi    \n",
       "5 5               Akita     \n",
       "6 6               Yamagata  "
      ]
     },
     "metadata": {},
     "output_type": "display_data"
    }
   ],
   "source": [
    "prefectures %>% head()"
   ]
  },
  {
   "cell_type": "code",
   "execution_count": 12,
   "id": "a38d7339-49ae-4381-9a3b-a3182026a290",
   "metadata": {},
   "outputs": [
    {
     "data": {
      "text/html": [
       "<table class=\"dataframe\">\n",
       "<caption>A data.frame: 6 × 2</caption>\n",
       "<thead>\n",
       "\t<tr><th></th><th scope=col>prefecture_code</th><th scope=col>region</th></tr>\n",
       "\t<tr><th></th><th scope=col>&lt;int&gt;</th><th scope=col>&lt;chr&gt;</th></tr>\n",
       "</thead>\n",
       "<tbody>\n",
       "\t<tr><th scope=row>1</th><td>1</td><td>Hokkaido</td></tr>\n",
       "\t<tr><th scope=row>2</th><td>2</td><td>Tohoku  </td></tr>\n",
       "\t<tr><th scope=row>3</th><td>3</td><td>Tohoku  </td></tr>\n",
       "\t<tr><th scope=row>4</th><td>4</td><td>Tohoku  </td></tr>\n",
       "\t<tr><th scope=row>5</th><td>5</td><td>Tohoku  </td></tr>\n",
       "\t<tr><th scope=row>6</th><td>6</td><td>Tohoku  </td></tr>\n",
       "</tbody>\n",
       "</table>\n"
      ],
      "text/latex": [
       "A data.frame: 6 × 2\n",
       "\\begin{tabular}{r|ll}\n",
       "  & prefecture\\_code & region\\\\\n",
       "  & <int> & <chr>\\\\\n",
       "\\hline\n",
       "\t1 & 1 & Hokkaido\\\\\n",
       "\t2 & 2 & Tohoku  \\\\\n",
       "\t3 & 3 & Tohoku  \\\\\n",
       "\t4 & 4 & Tohoku  \\\\\n",
       "\t5 & 5 & Tohoku  \\\\\n",
       "\t6 & 6 & Tohoku  \\\\\n",
       "\\end{tabular}\n"
      ],
      "text/markdown": [
       "\n",
       "A data.frame: 6 × 2\n",
       "\n",
       "| <!--/--> | prefecture_code &lt;int&gt; | region &lt;chr&gt; |\n",
       "|---|---|---|\n",
       "| 1 | 1 | Hokkaido |\n",
       "| 2 | 2 | Tohoku   |\n",
       "| 3 | 3 | Tohoku   |\n",
       "| 4 | 4 | Tohoku   |\n",
       "| 5 | 5 | Tohoku   |\n",
       "| 6 | 6 | Tohoku   |\n",
       "\n"
      ],
      "text/plain": [
       "  prefecture_code region  \n",
       "1 1               Hokkaido\n",
       "2 2               Tohoku  \n",
       "3 3               Tohoku  \n",
       "4 4               Tohoku  \n",
       "5 5               Tohoku  \n",
       "6 6               Tohoku  "
      ]
     },
     "metadata": {},
     "output_type": "display_data"
    }
   ],
   "source": [
    "regions %>% head()"
   ]
  },
  {
   "cell_type": "code",
   "execution_count": 22,
   "id": "69fced1b-e1cb-4584-9c84-011c05068bbf",
   "metadata": {},
   "outputs": [],
   "source": [
    "# 日付に変換する\n",
    "vaccines$date = as.Date(vaccines$date)\n",
    "cases$date = as.Date(cases$date)"
   ]
  },
  {
   "cell_type": "markdown",
   "id": "02106ea8-5461-4999-bf1b-4f7153f37b51",
   "metadata": {},
   "source": [
    "## 集計"
   ]
  },
  {
   "cell_type": "code",
   "execution_count": 27,
   "id": "b796d372-59fc-48ee-963d-6c094bccce15",
   "metadata": {},
   "outputs": [],
   "source": [
    "# filter(条件1, 条件2...)で絞り込み\n",
    "# 2022/6/21のデータを試しに使う\n",
    "\n",
    "x = vaccines %>% filter(date == '2022-06-21', prefecture_code==32) "
   ]
  },
  {
   "cell_type": "code",
   "execution_count": 30,
   "id": "18517eb5-b700-4f3f-95b0-877b0107a5d7",
   "metadata": {},
   "outputs": [
    {
     "data": {
      "text/html": [
       "<table class=\"dataframe\">\n",
       "<caption>A data.frame: 12 × 6</caption>\n",
       "<thead>\n",
       "\t<tr><th scope=col>date</th><th scope=col>prefecture_code</th><th scope=col>gender</th><th scope=col>elderly</th><th scope=col>status</th><th scope=col>count</th></tr>\n",
       "\t<tr><th scope=col>&lt;date&gt;</th><th scope=col>&lt;int&gt;</th><th scope=col>&lt;chr&gt;</th><th scope=col>&lt;int&gt;</th><th scope=col>&lt;int&gt;</th><th scope=col>&lt;int&gt;</th></tr>\n",
       "</thead>\n",
       "<tbody>\n",
       "\t<tr><td>2022-06-21</td><td>32</td><td>F</td><td>0</td><td>1</td><td>  5</td></tr>\n",
       "\t<tr><td>2022-06-21</td><td>32</td><td>F</td><td>0</td><td>2</td><td>  7</td></tr>\n",
       "\t<tr><td>2022-06-21</td><td>32</td><td>F</td><td>0</td><td>3</td><td>162</td></tr>\n",
       "\t<tr><td>2022-06-21</td><td>32</td><td>F</td><td>0</td><td>4</td><td>  6</td></tr>\n",
       "\t<tr><td>2022-06-21</td><td>32</td><td>F</td><td>1</td><td>3</td><td> 14</td></tr>\n",
       "\t<tr><td>2022-06-21</td><td>32</td><td>F</td><td>1</td><td>4</td><td> 61</td></tr>\n",
       "\t<tr><td>2022-06-21</td><td>32</td><td>M</td><td>0</td><td>1</td><td> 14</td></tr>\n",
       "\t<tr><td>2022-06-21</td><td>32</td><td>M</td><td>0</td><td>2</td><td>  8</td></tr>\n",
       "\t<tr><td>2022-06-21</td><td>32</td><td>M</td><td>0</td><td>3</td><td>200</td></tr>\n",
       "\t<tr><td>2022-06-21</td><td>32</td><td>M</td><td>0</td><td>4</td><td>  7</td></tr>\n",
       "\t<tr><td>2022-06-21</td><td>32</td><td>M</td><td>1</td><td>3</td><td> 13</td></tr>\n",
       "\t<tr><td>2022-06-21</td><td>32</td><td>M</td><td>1</td><td>4</td><td> 24</td></tr>\n",
       "</tbody>\n",
       "</table>\n"
      ],
      "text/latex": [
       "A data.frame: 12 × 6\n",
       "\\begin{tabular}{llllll}\n",
       " date & prefecture\\_code & gender & elderly & status & count\\\\\n",
       " <date> & <int> & <chr> & <int> & <int> & <int>\\\\\n",
       "\\hline\n",
       "\t 2022-06-21 & 32 & F & 0 & 1 &   5\\\\\n",
       "\t 2022-06-21 & 32 & F & 0 & 2 &   7\\\\\n",
       "\t 2022-06-21 & 32 & F & 0 & 3 & 162\\\\\n",
       "\t 2022-06-21 & 32 & F & 0 & 4 &   6\\\\\n",
       "\t 2022-06-21 & 32 & F & 1 & 3 &  14\\\\\n",
       "\t 2022-06-21 & 32 & F & 1 & 4 &  61\\\\\n",
       "\t 2022-06-21 & 32 & M & 0 & 1 &  14\\\\\n",
       "\t 2022-06-21 & 32 & M & 0 & 2 &   8\\\\\n",
       "\t 2022-06-21 & 32 & M & 0 & 3 & 200\\\\\n",
       "\t 2022-06-21 & 32 & M & 0 & 4 &   7\\\\\n",
       "\t 2022-06-21 & 32 & M & 1 & 3 &  13\\\\\n",
       "\t 2022-06-21 & 32 & M & 1 & 4 &  24\\\\\n",
       "\\end{tabular}\n"
      ],
      "text/markdown": [
       "\n",
       "A data.frame: 12 × 6\n",
       "\n",
       "| date &lt;date&gt; | prefecture_code &lt;int&gt; | gender &lt;chr&gt; | elderly &lt;int&gt; | status &lt;int&gt; | count &lt;int&gt; |\n",
       "|---|---|---|---|---|---|\n",
       "| 2022-06-21 | 32 | F | 0 | 1 |   5 |\n",
       "| 2022-06-21 | 32 | F | 0 | 2 |   7 |\n",
       "| 2022-06-21 | 32 | F | 0 | 3 | 162 |\n",
       "| 2022-06-21 | 32 | F | 0 | 4 |   6 |\n",
       "| 2022-06-21 | 32 | F | 1 | 3 |  14 |\n",
       "| 2022-06-21 | 32 | F | 1 | 4 |  61 |\n",
       "| 2022-06-21 | 32 | M | 0 | 1 |  14 |\n",
       "| 2022-06-21 | 32 | M | 0 | 2 |   8 |\n",
       "| 2022-06-21 | 32 | M | 0 | 3 | 200 |\n",
       "| 2022-06-21 | 32 | M | 0 | 4 |   7 |\n",
       "| 2022-06-21 | 32 | M | 1 | 3 |  13 |\n",
       "| 2022-06-21 | 32 | M | 1 | 4 |  24 |\n",
       "\n"
      ],
      "text/plain": [
       "   date       prefecture_code gender elderly status count\n",
       "1  2022-06-21 32              F      0       1        5  \n",
       "2  2022-06-21 32              F      0       2        7  \n",
       "3  2022-06-21 32              F      0       3      162  \n",
       "4  2022-06-21 32              F      0       4        6  \n",
       "5  2022-06-21 32              F      1       3       14  \n",
       "6  2022-06-21 32              F      1       4       61  \n",
       "7  2022-06-21 32              M      0       1       14  \n",
       "8  2022-06-21 32              M      0       2        8  \n",
       "9  2022-06-21 32              M      0       3      200  \n",
       "10 2022-06-21 32              M      0       4        7  \n",
       "11 2022-06-21 32              M      1       3       13  \n",
       "12 2022-06-21 32              M      1       4       24  "
      ]
     },
     "metadata": {},
     "output_type": "display_data"
    }
   ],
   "source": [
    "x"
   ]
  },
  {
   "cell_type": "code",
   "execution_count": 29,
   "id": "f689e002-63a5-474b-99f2-f8606ed17136",
   "metadata": {},
   "outputs": [
    {
     "data": {
      "text/html": [
       "<table class=\"dataframe\">\n",
       "<caption>A tibble: 2 × 2</caption>\n",
       "<thead>\n",
       "\t<tr><th scope=col>gender</th><th scope=col>SUM</th></tr>\n",
       "\t<tr><th scope=col>&lt;chr&gt;</th><th scope=col>&lt;int&gt;</th></tr>\n",
       "</thead>\n",
       "<tbody>\n",
       "\t<tr><td>F</td><td>255</td></tr>\n",
       "\t<tr><td>M</td><td>266</td></tr>\n",
       "</tbody>\n",
       "</table>\n"
      ],
      "text/latex": [
       "A tibble: 2 × 2\n",
       "\\begin{tabular}{ll}\n",
       " gender & SUM\\\\\n",
       " <chr> & <int>\\\\\n",
       "\\hline\n",
       "\t F & 255\\\\\n",
       "\t M & 266\\\\\n",
       "\\end{tabular}\n"
      ],
      "text/markdown": [
       "\n",
       "A tibble: 2 × 2\n",
       "\n",
       "| gender &lt;chr&gt; | SUM &lt;int&gt; |\n",
       "|---|---|\n",
       "| F | 255 |\n",
       "| M | 266 |\n",
       "\n"
      ],
      "text/plain": [
       "  gender SUM\n",
       "1 F      255\n",
       "2 M      266"
      ]
     },
     "metadata": {},
     "output_type": "display_data"
    }
   ],
   "source": [
    "# group_byを使って集計\n",
    "# summariseで集計する内容を設定\n",
    "x %>% group_by(gender) %>% summarise(SUM=sum(count))\n"
   ]
  },
  {
   "cell_type": "code",
   "execution_count": 31,
   "id": "206c914c-a525-4395-9c20-f5a4f6e521e6",
   "metadata": {},
   "outputs": [
    {
     "name": "stderr",
     "output_type": "stream",
     "text": [
      "\u001b[1m\u001b[22m`summarise()` has grouped output by 'gender'. You can override using the `.groups` argument.\n"
     ]
    },
    {
     "data": {
      "text/html": [
       "<table class=\"dataframe\">\n",
       "<caption>A grouped_df: 4 × 3</caption>\n",
       "<thead>\n",
       "\t<tr><th scope=col>gender</th><th scope=col>elderly</th><th scope=col>SUM</th></tr>\n",
       "\t<tr><th scope=col>&lt;chr&gt;</th><th scope=col>&lt;int&gt;</th><th scope=col>&lt;int&gt;</th></tr>\n",
       "</thead>\n",
       "<tbody>\n",
       "\t<tr><td>F</td><td>0</td><td>180</td></tr>\n",
       "\t<tr><td>F</td><td>1</td><td> 75</td></tr>\n",
       "\t<tr><td>M</td><td>0</td><td>229</td></tr>\n",
       "\t<tr><td>M</td><td>1</td><td> 37</td></tr>\n",
       "</tbody>\n",
       "</table>\n"
      ],
      "text/latex": [
       "A grouped\\_df: 4 × 3\n",
       "\\begin{tabular}{lll}\n",
       " gender & elderly & SUM\\\\\n",
       " <chr> & <int> & <int>\\\\\n",
       "\\hline\n",
       "\t F & 0 & 180\\\\\n",
       "\t F & 1 &  75\\\\\n",
       "\t M & 0 & 229\\\\\n",
       "\t M & 1 &  37\\\\\n",
       "\\end{tabular}\n"
      ],
      "text/markdown": [
       "\n",
       "A grouped_df: 4 × 3\n",
       "\n",
       "| gender &lt;chr&gt; | elderly &lt;int&gt; | SUM &lt;int&gt; |\n",
       "|---|---|---|\n",
       "| F | 0 | 180 |\n",
       "| F | 1 |  75 |\n",
       "| M | 0 | 229 |\n",
       "| M | 1 |  37 |\n",
       "\n"
      ],
      "text/plain": [
       "  gender elderly SUM\n",
       "1 F      0       180\n",
       "2 F      1        75\n",
       "3 M      0       229\n",
       "4 M      1        37"
      ]
     },
     "metadata": {},
     "output_type": "display_data"
    }
   ],
   "source": [
    "x %>% group_by(gender, elderly) %>% summarise(SUM=sum(count))"
   ]
  },
  {
   "cell_type": "code",
   "execution_count": 32,
   "id": "773b12e2-dad6-4dcb-aab4-201a0f73529c",
   "metadata": {},
   "outputs": [
    {
     "name": "stderr",
     "output_type": "stream",
     "text": [
      "\u001b[1m\u001b[22m`summarise()` has grouped output by 'gender'. You can override using the `.groups` argument.\n"
     ]
    },
    {
     "data": {
      "text/html": [
       "<table class=\"dataframe\">\n",
       "<caption>A grouped_df: 8 × 3</caption>\n",
       "<thead>\n",
       "\t<tr><th scope=col>gender</th><th scope=col>status</th><th scope=col>SUM</th></tr>\n",
       "\t<tr><th scope=col>&lt;chr&gt;</th><th scope=col>&lt;int&gt;</th><th scope=col>&lt;int&gt;</th></tr>\n",
       "</thead>\n",
       "<tbody>\n",
       "\t<tr><td>F</td><td>1</td><td>  5</td></tr>\n",
       "\t<tr><td>F</td><td>2</td><td>  7</td></tr>\n",
       "\t<tr><td>F</td><td>3</td><td>176</td></tr>\n",
       "\t<tr><td>F</td><td>4</td><td> 67</td></tr>\n",
       "\t<tr><td>M</td><td>1</td><td> 14</td></tr>\n",
       "\t<tr><td>M</td><td>2</td><td>  8</td></tr>\n",
       "\t<tr><td>M</td><td>3</td><td>213</td></tr>\n",
       "\t<tr><td>M</td><td>4</td><td> 31</td></tr>\n",
       "</tbody>\n",
       "</table>\n"
      ],
      "text/latex": [
       "A grouped\\_df: 8 × 3\n",
       "\\begin{tabular}{lll}\n",
       " gender & status & SUM\\\\\n",
       " <chr> & <int> & <int>\\\\\n",
       "\\hline\n",
       "\t F & 1 &   5\\\\\n",
       "\t F & 2 &   7\\\\\n",
       "\t F & 3 & 176\\\\\n",
       "\t F & 4 &  67\\\\\n",
       "\t M & 1 &  14\\\\\n",
       "\t M & 2 &   8\\\\\n",
       "\t M & 3 & 213\\\\\n",
       "\t M & 4 &  31\\\\\n",
       "\\end{tabular}\n"
      ],
      "text/markdown": [
       "\n",
       "A grouped_df: 8 × 3\n",
       "\n",
       "| gender &lt;chr&gt; | status &lt;int&gt; | SUM &lt;int&gt; |\n",
       "|---|---|---|\n",
       "| F | 1 |   5 |\n",
       "| F | 2 |   7 |\n",
       "| F | 3 | 176 |\n",
       "| F | 4 |  67 |\n",
       "| M | 1 |  14 |\n",
       "| M | 2 |   8 |\n",
       "| M | 3 | 213 |\n",
       "| M | 4 |  31 |\n",
       "\n"
      ],
      "text/plain": [
       "  gender status SUM\n",
       "1 F      1        5\n",
       "2 F      2        7\n",
       "3 F      3      176\n",
       "4 F      4       67\n",
       "5 M      1       14\n",
       "6 M      2        8\n",
       "7 M      3      213\n",
       "8 M      4       31"
      ]
     },
     "metadata": {},
     "output_type": "display_data"
    }
   ],
   "source": [
    "x %>% group_by(gender, status) %>% summarise(SUM=sum(count))"
   ]
  },
  {
   "cell_type": "code",
   "execution_count": 35,
   "id": "5b760856-ca9b-4ec1-bcf3-3388c4038e12",
   "metadata": {},
   "outputs": [
    {
     "data": {
      "text/html": [
       "<table class=\"dataframe\">\n",
       "<caption>A tibble: 47 × 3</caption>\n",
       "<thead>\n",
       "\t<tr><th scope=col>prefecture_code</th><th scope=col>SUM</th><th scope=col>prefecture</th></tr>\n",
       "\t<tr><th scope=col>&lt;int&gt;</th><th scope=col>&lt;int&gt;</th><th scope=col>&lt;chr&gt;</th></tr>\n",
       "</thead>\n",
       "<tbody>\n",
       "\t<tr><td> 1</td><td>11268697</td><td>Hokkaido </td></tr>\n",
       "\t<tr><td> 2</td><td> 2896985</td><td>Aomori   </td></tr>\n",
       "\t<tr><td> 3</td><td> 2801446</td><td>Iwate    </td></tr>\n",
       "\t<tr><td> 4</td><td> 5015202</td><td>Miyagi   </td></tr>\n",
       "\t<tr><td> 5</td><td> 2282705</td><td>Akita    </td></tr>\n",
       "\t<tr><td> 6</td><td> 2489384</td><td>Yamagata </td></tr>\n",
       "\t<tr><td> 7</td><td> 4230387</td><td>Fukushima</td></tr>\n",
       "\t<tr><td> 8</td><td> 6537248</td><td>Ibaraki  </td></tr>\n",
       "\t<tr><td> 9</td><td> 4336537</td><td>Tochigi  </td></tr>\n",
       "\t<tr><td>10</td><td> 4261272</td><td>Gunma    </td></tr>\n",
       "\t<tr><td>11</td><td>16100297</td><td>Saitama  </td></tr>\n",
       "\t<tr><td>12</td><td>13833158</td><td>Chiba    </td></tr>\n",
       "\t<tr><td>13</td><td>29550003</td><td>Tokyo    </td></tr>\n",
       "\t<tr><td>14</td><td>19970344</td><td>Kanagawa </td></tr>\n",
       "\t<tr><td>15</td><td> 5089710</td><td>Niigata  </td></tr>\n",
       "\t<tr><td>16</td><td> 2366074</td><td>Toyama   </td></tr>\n",
       "\t<tr><td>17</td><td> 2441821</td><td>Ishikawa </td></tr>\n",
       "\t<tr><td>18</td><td> 1689571</td><td>Fukui    </td></tr>\n",
       "\t<tr><td>19</td><td> 1794797</td><td>Yamanashi</td></tr>\n",
       "\t<tr><td>20</td><td> 4610963</td><td>Nagano   </td></tr>\n",
       "\t<tr><td>21</td><td> 4413830</td><td>Gifu     </td></tr>\n",
       "\t<tr><td>22</td><td> 8252489</td><td>Shizuoka </td></tr>\n",
       "\t<tr><td>23</td><td>15621375</td><td>Aichi    </td></tr>\n",
       "\t<tr><td>24</td><td> 3883461</td><td>Mie      </td></tr>\n",
       "\t<tr><td>25</td><td> 3031037</td><td>Shiga    </td></tr>\n",
       "\t<tr><td>26</td><td> 5223816</td><td>Kyoto    </td></tr>\n",
       "\t<tr><td>27</td><td>17728932</td><td>Osaka    </td></tr>\n",
       "\t<tr><td>28</td><td>11531681</td><td>Hyogo    </td></tr>\n",
       "\t<tr><td>29</td><td> 2861521</td><td>Nara     </td></tr>\n",
       "\t<tr><td>30</td><td> 1971213</td><td>Wakayama </td></tr>\n",
       "\t<tr><td>31</td><td> 1157187</td><td>Tottori  </td></tr>\n",
       "\t<tr><td>32</td><td> 1477772</td><td>Shimane  </td></tr>\n",
       "\t<tr><td>33</td><td> 3889401</td><td>Okayama  </td></tr>\n",
       "\t<tr><td>34</td><td> 5810277</td><td>Hiroshima</td></tr>\n",
       "\t<tr><td>35</td><td> 2915710</td><td>Yamaguchi</td></tr>\n",
       "\t<tr><td>36</td><td> 1559823</td><td>Tokushima</td></tr>\n",
       "\t<tr><td>37</td><td> 2042257</td><td>Kagawa   </td></tr>\n",
       "\t<tr><td>38</td><td> 2916601</td><td>Ehime    </td></tr>\n",
       "\t<tr><td>39</td><td> 1469598</td><td>Kochi    </td></tr>\n",
       "\t<tr><td>40</td><td>10645331</td><td>Fukuoka  </td></tr>\n",
       "\t<tr><td>41</td><td> 1677883</td><td>Saga     </td></tr>\n",
       "\t<tr><td>42</td><td> 2895718</td><td>Nagasaki </td></tr>\n",
       "\t<tr><td>43</td><td> 3801082</td><td>Kumamoto </td></tr>\n",
       "\t<tr><td>44</td><td> 2403692</td><td>Oita     </td></tr>\n",
       "\t<tr><td>45</td><td> 2270181</td><td>Miyazaki </td></tr>\n",
       "\t<tr><td>46</td><td> 3424730</td><td>Kagoshima</td></tr>\n",
       "\t<tr><td>47</td><td> 2636339</td><td>Okinawa  </td></tr>\n",
       "</tbody>\n",
       "</table>\n"
      ],
      "text/latex": [
       "A tibble: 47 × 3\n",
       "\\begin{tabular}{lll}\n",
       " prefecture\\_code & SUM & prefecture\\\\\n",
       " <int> & <int> & <chr>\\\\\n",
       "\\hline\n",
       "\t  1 & 11268697 & Hokkaido \\\\\n",
       "\t  2 &  2896985 & Aomori   \\\\\n",
       "\t  3 &  2801446 & Iwate    \\\\\n",
       "\t  4 &  5015202 & Miyagi   \\\\\n",
       "\t  5 &  2282705 & Akita    \\\\\n",
       "\t  6 &  2489384 & Yamagata \\\\\n",
       "\t  7 &  4230387 & Fukushima\\\\\n",
       "\t  8 &  6537248 & Ibaraki  \\\\\n",
       "\t  9 &  4336537 & Tochigi  \\\\\n",
       "\t 10 &  4261272 & Gunma    \\\\\n",
       "\t 11 & 16100297 & Saitama  \\\\\n",
       "\t 12 & 13833158 & Chiba    \\\\\n",
       "\t 13 & 29550003 & Tokyo    \\\\\n",
       "\t 14 & 19970344 & Kanagawa \\\\\n",
       "\t 15 &  5089710 & Niigata  \\\\\n",
       "\t 16 &  2366074 & Toyama   \\\\\n",
       "\t 17 &  2441821 & Ishikawa \\\\\n",
       "\t 18 &  1689571 & Fukui    \\\\\n",
       "\t 19 &  1794797 & Yamanashi\\\\\n",
       "\t 20 &  4610963 & Nagano   \\\\\n",
       "\t 21 &  4413830 & Gifu     \\\\\n",
       "\t 22 &  8252489 & Shizuoka \\\\\n",
       "\t 23 & 15621375 & Aichi    \\\\\n",
       "\t 24 &  3883461 & Mie      \\\\\n",
       "\t 25 &  3031037 & Shiga    \\\\\n",
       "\t 26 &  5223816 & Kyoto    \\\\\n",
       "\t 27 & 17728932 & Osaka    \\\\\n",
       "\t 28 & 11531681 & Hyogo    \\\\\n",
       "\t 29 &  2861521 & Nara     \\\\\n",
       "\t 30 &  1971213 & Wakayama \\\\\n",
       "\t 31 &  1157187 & Tottori  \\\\\n",
       "\t 32 &  1477772 & Shimane  \\\\\n",
       "\t 33 &  3889401 & Okayama  \\\\\n",
       "\t 34 &  5810277 & Hiroshima\\\\\n",
       "\t 35 &  2915710 & Yamaguchi\\\\\n",
       "\t 36 &  1559823 & Tokushima\\\\\n",
       "\t 37 &  2042257 & Kagawa   \\\\\n",
       "\t 38 &  2916601 & Ehime    \\\\\n",
       "\t 39 &  1469598 & Kochi    \\\\\n",
       "\t 40 & 10645331 & Fukuoka  \\\\\n",
       "\t 41 &  1677883 & Saga     \\\\\n",
       "\t 42 &  2895718 & Nagasaki \\\\\n",
       "\t 43 &  3801082 & Kumamoto \\\\\n",
       "\t 44 &  2403692 & Oita     \\\\\n",
       "\t 45 &  2270181 & Miyazaki \\\\\n",
       "\t 46 &  3424730 & Kagoshima\\\\\n",
       "\t 47 &  2636339 & Okinawa  \\\\\n",
       "\\end{tabular}\n"
      ],
      "text/markdown": [
       "\n",
       "A tibble: 47 × 3\n",
       "\n",
       "| prefecture_code &lt;int&gt; | SUM &lt;int&gt; | prefecture &lt;chr&gt; |\n",
       "|---|---|---|\n",
       "|  1 | 11268697 | Hokkaido  |\n",
       "|  2 |  2896985 | Aomori    |\n",
       "|  3 |  2801446 | Iwate     |\n",
       "|  4 |  5015202 | Miyagi    |\n",
       "|  5 |  2282705 | Akita     |\n",
       "|  6 |  2489384 | Yamagata  |\n",
       "|  7 |  4230387 | Fukushima |\n",
       "|  8 |  6537248 | Ibaraki   |\n",
       "|  9 |  4336537 | Tochigi   |\n",
       "| 10 |  4261272 | Gunma     |\n",
       "| 11 | 16100297 | Saitama   |\n",
       "| 12 | 13833158 | Chiba     |\n",
       "| 13 | 29550003 | Tokyo     |\n",
       "| 14 | 19970344 | Kanagawa  |\n",
       "| 15 |  5089710 | Niigata   |\n",
       "| 16 |  2366074 | Toyama    |\n",
       "| 17 |  2441821 | Ishikawa  |\n",
       "| 18 |  1689571 | Fukui     |\n",
       "| 19 |  1794797 | Yamanashi |\n",
       "| 20 |  4610963 | Nagano    |\n",
       "| 21 |  4413830 | Gifu      |\n",
       "| 22 |  8252489 | Shizuoka  |\n",
       "| 23 | 15621375 | Aichi     |\n",
       "| 24 |  3883461 | Mie       |\n",
       "| 25 |  3031037 | Shiga     |\n",
       "| 26 |  5223816 | Kyoto     |\n",
       "| 27 | 17728932 | Osaka     |\n",
       "| 28 | 11531681 | Hyogo     |\n",
       "| 29 |  2861521 | Nara      |\n",
       "| 30 |  1971213 | Wakayama  |\n",
       "| 31 |  1157187 | Tottori   |\n",
       "| 32 |  1477772 | Shimane   |\n",
       "| 33 |  3889401 | Okayama   |\n",
       "| 34 |  5810277 | Hiroshima |\n",
       "| 35 |  2915710 | Yamaguchi |\n",
       "| 36 |  1559823 | Tokushima |\n",
       "| 37 |  2042257 | Kagawa    |\n",
       "| 38 |  2916601 | Ehime     |\n",
       "| 39 |  1469598 | Kochi     |\n",
       "| 40 | 10645331 | Fukuoka   |\n",
       "| 41 |  1677883 | Saga      |\n",
       "| 42 |  2895718 | Nagasaki  |\n",
       "| 43 |  3801082 | Kumamoto  |\n",
       "| 44 |  2403692 | Oita      |\n",
       "| 45 |  2270181 | Miyazaki  |\n",
       "| 46 |  3424730 | Kagoshima |\n",
       "| 47 |  2636339 | Okinawa   |\n",
       "\n"
      ],
      "text/plain": [
       "   prefecture_code SUM      prefecture\n",
       "1   1              11268697 Hokkaido  \n",
       "2   2               2896985 Aomori    \n",
       "3   3               2801446 Iwate     \n",
       "4   4               5015202 Miyagi    \n",
       "5   5               2282705 Akita     \n",
       "6   6               2489384 Yamagata  \n",
       "7   7               4230387 Fukushima \n",
       "8   8               6537248 Ibaraki   \n",
       "9   9               4336537 Tochigi   \n",
       "10 10               4261272 Gunma     \n",
       "11 11              16100297 Saitama   \n",
       "12 12              13833158 Chiba     \n",
       "13 13              29550003 Tokyo     \n",
       "14 14              19970344 Kanagawa  \n",
       "15 15               5089710 Niigata   \n",
       "16 16               2366074 Toyama    \n",
       "17 17               2441821 Ishikawa  \n",
       "18 18               1689571 Fukui     \n",
       "19 19               1794797 Yamanashi \n",
       "20 20               4610963 Nagano    \n",
       "21 21               4413830 Gifu      \n",
       "22 22               8252489 Shizuoka  \n",
       "23 23              15621375 Aichi     \n",
       "24 24               3883461 Mie       \n",
       "25 25               3031037 Shiga     \n",
       "26 26               5223816 Kyoto     \n",
       "27 27              17728932 Osaka     \n",
       "28 28              11531681 Hyogo     \n",
       "29 29               2861521 Nara      \n",
       "30 30               1971213 Wakayama  \n",
       "31 31               1157187 Tottori   \n",
       "32 32               1477772 Shimane   \n",
       "33 33               3889401 Okayama   \n",
       "34 34               5810277 Hiroshima \n",
       "35 35               2915710 Yamaguchi \n",
       "36 36               1559823 Tokushima \n",
       "37 37               2042257 Kagawa    \n",
       "38 38               2916601 Ehime     \n",
       "39 39               1469598 Kochi     \n",
       "40 40              10645331 Fukuoka   \n",
       "41 41               1677883 Saga      \n",
       "42 42               2895718 Nagasaki  \n",
       "43 43               3801082 Kumamoto  \n",
       "44 44               2403692 Oita      \n",
       "45 45               2270181 Miyazaki  \n",
       "46 46               3424730 Kagoshima \n",
       "47 47               2636339 Okinawa   "
      ]
     },
     "metadata": {},
     "output_type": "display_data"
    }
   ],
   "source": [
    "# join\n",
    "vaccines %>% \n",
    "    group_by(prefecture_code) %>% \n",
    "    summarise(SUM=sum(count)) %>%\n",
    "    left_join(prefectures, by='prefecture_code')"
   ]
  },
  {
   "cell_type": "code",
   "execution_count": 38,
   "id": "bf8275ab-3b33-4a5a-912f-6ada5e2804ee",
   "metadata": {},
   "outputs": [
    {
     "data": {
      "text/html": [
       "<table class=\"dataframe\">\n",
       "<caption>A tibble: 8 × 2</caption>\n",
       "<thead>\n",
       "\t<tr><th scope=col>region</th><th scope=col>SUM</th></tr>\n",
       "\t<tr><th scope=col>&lt;chr&gt;</th><th scope=col>&lt;int&gt;</th></tr>\n",
       "</thead>\n",
       "<tbody>\n",
       "\t<tr><td>Chubu   </td><td> 9674</td></tr>\n",
       "\t<tr><td>Chugoku </td><td> 3852</td></tr>\n",
       "\t<tr><td>Hokkaido</td><td> 2566</td></tr>\n",
       "\t<tr><td>Kanto   </td><td>28106</td></tr>\n",
       "\t<tr><td>Kinki   </td><td> 8155</td></tr>\n",
       "\t<tr><td>Kyusyu  </td><td> 7222</td></tr>\n",
       "\t<tr><td>Shikoku </td><td> 1115</td></tr>\n",
       "\t<tr><td>Tohoku  </td><td> 5955</td></tr>\n",
       "</tbody>\n",
       "</table>\n"
      ],
      "text/latex": [
       "A tibble: 8 × 2\n",
       "\\begin{tabular}{ll}\n",
       " region & SUM\\\\\n",
       " <chr> & <int>\\\\\n",
       "\\hline\n",
       "\t Chubu    &  9674\\\\\n",
       "\t Chugoku  &  3852\\\\\n",
       "\t Hokkaido &  2566\\\\\n",
       "\t Kanto    & 28106\\\\\n",
       "\t Kinki    &  8155\\\\\n",
       "\t Kyusyu   &  7222\\\\\n",
       "\t Shikoku  &  1115\\\\\n",
       "\t Tohoku   &  5955\\\\\n",
       "\\end{tabular}\n"
      ],
      "text/markdown": [
       "\n",
       "A tibble: 8 × 2\n",
       "\n",
       "| region &lt;chr&gt; | SUM &lt;int&gt; |\n",
       "|---|---|\n",
       "| Chubu    |  9674 |\n",
       "| Chugoku  |  3852 |\n",
       "| Hokkaido |  2566 |\n",
       "| Kanto    | 28106 |\n",
       "| Kinki    |  8155 |\n",
       "| Kyusyu   |  7222 |\n",
       "| Shikoku  |  1115 |\n",
       "| Tohoku   |  5955 |\n",
       "\n"
      ],
      "text/plain": [
       "  region   SUM  \n",
       "1 Chubu     9674\n",
       "2 Chugoku   3852\n",
       "3 Hokkaido  2566\n",
       "4 Kanto    28106\n",
       "5 Kinki     8155\n",
       "6 Kyusyu    7222\n",
       "7 Shikoku   1115\n",
       "8 Tohoku    5955"
      ]
     },
     "metadata": {},
     "output_type": "display_data"
    }
   ],
   "source": [
    "# joinとgroup_byの合わせ技\n",
    "\n",
    "vaccines %>% filter(date == '2022-06-21') %>%\n",
    "    left_join(regions, by='prefecture_code') %>%\n",
    "    group_by(region) %>% \n",
    "    summarise(SUM=sum(count))\n"
   ]
  },
  {
   "cell_type": "code",
   "execution_count": 42,
   "id": "ddefd3cb-fb43-4059-a53a-688d621b400e",
   "metadata": {},
   "outputs": [
    {
     "name": "stdout",
     "output_type": "stream",
     "text": [
      "[1] \"2022-06-25\"\n",
      "[1] \"2022年06月25日\"\n",
      "[1] \"2022/06/25 00:00:00\"\n"
     ]
    }
   ],
   "source": [
    "# 日付でgroup_by\n",
    "# format()関数: 日付データを文字列に変換できる\n",
    "\n",
    "print(format(Sys.Date(), '%Y-%m-%d'))\n",
    "print(format(Sys.Date(), '%Y年%m月%d日'))\n",
    "print(format(Sys.Date(), '%Y/%m/%d %H:%M:%S'))\n"
   ]
  },
  {
   "cell_type": "code",
   "execution_count": 44,
   "id": "d755c4af-31b2-45f8-8ca9-3e102edd044d",
   "metadata": {},
   "outputs": [
    {
     "data": {
      "text/html": [
       "<table class=\"dataframe\">\n",
       "<caption>A tibble: 6 × 2</caption>\n",
       "<thead>\n",
       "\t<tr><th scope=col>month</th><th scope=col>SUM</th></tr>\n",
       "\t<tr><th scope=col>&lt;chr&gt;</th><th scope=col>&lt;int&gt;</th></tr>\n",
       "</thead>\n",
       "<tbody>\n",
       "\t<tr><td>2021-04</td><td>  641677</td></tr>\n",
       "\t<tr><td>2021-05</td><td> 8537667</td></tr>\n",
       "\t<tr><td>2021-06</td><td>33311550</td></tr>\n",
       "\t<tr><td>2021-07</td><td>44776744</td></tr>\n",
       "\t<tr><td>2021-08</td><td>36980498</td></tr>\n",
       "\t<tr><td>2021-09</td><td>33245536</td></tr>\n",
       "</tbody>\n",
       "</table>\n"
      ],
      "text/latex": [
       "A tibble: 6 × 2\n",
       "\\begin{tabular}{ll}\n",
       " month & SUM\\\\\n",
       " <chr> & <int>\\\\\n",
       "\\hline\n",
       "\t 2021-04 &   641677\\\\\n",
       "\t 2021-05 &  8537667\\\\\n",
       "\t 2021-06 & 33311550\\\\\n",
       "\t 2021-07 & 44776744\\\\\n",
       "\t 2021-08 & 36980498\\\\\n",
       "\t 2021-09 & 33245536\\\\\n",
       "\\end{tabular}\n"
      ],
      "text/markdown": [
       "\n",
       "A tibble: 6 × 2\n",
       "\n",
       "| month &lt;chr&gt; | SUM &lt;int&gt; |\n",
       "|---|---|\n",
       "| 2021-04 |   641677 |\n",
       "| 2021-05 |  8537667 |\n",
       "| 2021-06 | 33311550 |\n",
       "| 2021-07 | 44776744 |\n",
       "| 2021-08 | 36980498 |\n",
       "| 2021-09 | 33245536 |\n",
       "\n"
      ],
      "text/plain": [
       "  month   SUM     \n",
       "1 2021-04   641677\n",
       "2 2021-05  8537667\n",
       "3 2021-06 33311550\n",
       "4 2021-07 44776744\n",
       "5 2021-08 36980498\n",
       "6 2021-09 33245536"
      ]
     },
     "metadata": {},
     "output_type": "display_data"
    },
    {
     "data": {
      "image/png": "[encoded data removed]",
      "text/plain": [
       "plot without title"
      ]
     },
     "metadata": {
      "image/png": {
       "height": 420,
       "width": 420
      }
     },
     "output_type": "display_data"
    }
   ],
   "source": [
    "# 日付データを任意の文字列に変換して集約の単位とする\n",
    "\n",
    "result = vaccines %>% \n",
    "    group_by(month=format(date, '%Y-%m')) %>%\n",
    "    summarise(SUM=sum(count))\n",
    "\n",
    "result %>% head()\n",
    "\n",
    "# barplot() 棒グラフ\n",
    "#     names: 軸ラベルの値\n",
    "#     las: 軸ラベルの角度\n",
    "\n",
    "barplot(result$SUM, names=result$month, las=2)"
   ]
  },
  {
   "cell_type": "code",
   "execution_count": 48,
   "id": "5901b6c2-2d9c-4be0-89bc-63b6ebfad3eb",
   "metadata": {},
   "outputs": [
    {
     "name": "stderr",
     "output_type": "stream",
     "text": [
      "\u001b[1m\u001b[22m`summarise()` has grouped output by 'month'. You can override using the `.groups` argument.\n"
     ]
    }
   ],
   "source": [
    "# 年代(65歳未満, 65歳以上, 不明)別の接種状況\n",
    "\n",
    "result = vaccines %>% \n",
    "    group_by(month=format(date, '%Y-%m'), elderly) %>%\n",
    "    summarise(SUM=sum(count)) %>%\n",
    "    spread(elderly, SUM)"
   ]
  },
  {
   "cell_type": "code",
   "execution_count": 46,
   "id": "aeb20d46-2ea7-49bf-8508-9d5394df5700",
   "metadata": {},
   "outputs": [
    {
     "data": {
      "text/html": [
       "<table class=\"dataframe\">\n",
       "<caption>A grouped_df: 6 × 3</caption>\n",
       "<thead>\n",
       "\t<tr><th scope=col>month</th><th scope=col>elderly</th><th scope=col>SUM</th></tr>\n",
       "\t<tr><th scope=col>&lt;chr&gt;</th><th scope=col>&lt;int&gt;</th><th scope=col>&lt;int&gt;</th></tr>\n",
       "</thead>\n",
       "<tbody>\n",
       "\t<tr><td>2021-04</td><td> 0</td><td> 300708</td></tr>\n",
       "\t<tr><td>2021-04</td><td> 1</td><td> 292695</td></tr>\n",
       "\t<tr><td>2021-04</td><td>NA</td><td>  48274</td></tr>\n",
       "\t<tr><td>2021-05</td><td> 0</td><td> 808711</td></tr>\n",
       "\t<tr><td>2021-05</td><td> 1</td><td>7375171</td></tr>\n",
       "\t<tr><td>2021-05</td><td>NA</td><td> 353785</td></tr>\n",
       "</tbody>\n",
       "</table>\n"
      ],
      "text/latex": [
       "A grouped\\_df: 6 × 3\n",
       "\\begin{tabular}{lll}\n",
       " month & elderly & SUM\\\\\n",
       " <chr> & <int> & <int>\\\\\n",
       "\\hline\n",
       "\t 2021-04 &  0 &  300708\\\\\n",
       "\t 2021-04 &  1 &  292695\\\\\n",
       "\t 2021-04 & NA &   48274\\\\\n",
       "\t 2021-05 &  0 &  808711\\\\\n",
       "\t 2021-05 &  1 & 7375171\\\\\n",
       "\t 2021-05 & NA &  353785\\\\\n",
       "\\end{tabular}\n"
      ],
      "text/markdown": [
       "\n",
       "A grouped_df: 6 × 3\n",
       "\n",
       "| month &lt;chr&gt; | elderly &lt;int&gt; | SUM &lt;int&gt; |\n",
       "|---|---|---|\n",
       "| 2021-04 |  0 |  300708 |\n",
       "| 2021-04 |  1 |  292695 |\n",
       "| 2021-04 | NA |   48274 |\n",
       "| 2021-05 |  0 |  808711 |\n",
       "| 2021-05 |  1 | 7375171 |\n",
       "| 2021-05 | NA |  353785 |\n",
       "\n"
      ],
      "text/plain": [
       "  month   elderly SUM    \n",
       "1 2021-04  0       300708\n",
       "2 2021-04  1       292695\n",
       "3 2021-04 NA        48274\n",
       "4 2021-05  0       808711\n",
       "5 2021-05  1      7375171\n",
       "6 2021-05 NA       353785"
      ]
     },
     "metadata": {},
     "output_type": "display_data"
    }
   ],
   "source": []
  },
  {
   "cell_type": "code",
   "execution_count": 47,
   "id": "0e27fc8c-1c76-481a-a079-fbfa03069f2b",
   "metadata": {},
   "outputs": [
    {
     "data": {
      "text/html": [
       "<table class=\"dataframe\">\n",
       "<caption>A grouped_df: 2 × 4</caption>\n",
       "<thead>\n",
       "\t<tr><th scope=col>month</th><th scope=col>0</th><th scope=col>1</th><th scope=col>&lt;NA&gt;</th></tr>\n",
       "\t<tr><th scope=col>&lt;chr&gt;</th><th scope=col>&lt;int&gt;</th><th scope=col>&lt;int&gt;</th><th scope=col>&lt;int&gt;</th></tr>\n",
       "</thead>\n",
       "<tbody>\n",
       "\t<tr><td>2021-04</td><td>300708</td><td> 292695</td><td> 48274</td></tr>\n",
       "\t<tr><td>2021-05</td><td>808711</td><td>7375171</td><td>353785</td></tr>\n",
       "</tbody>\n",
       "</table>\n"
      ],
      "text/latex": [
       "A grouped\\_df: 2 × 4\n",
       "\\begin{tabular}{llll}\n",
       " month & 0 & 1 & <NA>\\\\\n",
       " <chr> & <int> & <int> & <int>\\\\\n",
       "\\hline\n",
       "\t 2021-04 & 300708 &  292695 &  48274\\\\\n",
       "\t 2021-05 & 808711 & 7375171 & 353785\\\\\n",
       "\\end{tabular}\n"
      ],
      "text/markdown": [
       "\n",
       "A grouped_df: 2 × 4\n",
       "\n",
       "| month &lt;chr&gt; | 0 &lt;int&gt; | 1 &lt;int&gt; | &lt;NA&gt; &lt;int&gt; |\n",
       "|---|---|---|---|\n",
       "| 2021-04 | 300708 |  292695 |  48274 |\n",
       "| 2021-05 | 808711 | 7375171 | 353785 |\n",
       "\n"
      ],
      "text/plain": [
       "  month   0      1       <NA>  \n",
       "1 2021-04 300708  292695  48274\n",
       "2 2021-05 808711 7375171 353785"
      ]
     },
     "metadata": {},
     "output_type": "display_data"
    }
   ],
   "source": [
    "# spread(): スタック形式(wide形式にする)\n",
    "result %>% head() %>% spread(elderly, SUM) \n"
   ]
  },
  {
   "cell_type": "code",
   "execution_count": 54,
   "id": "86f6bda7-26b6-441a-ae12-39547dc5692c",
   "metadata": {},
   "outputs": [
    {
     "data": {
      "image/png": "[encoded data removed]",
      "text/plain": [
       "plot without title"
      ]
     },
     "metadata": {
      "image/png": {
       "height": 420,
       "width": 420
      }
     },
     "output_type": "display_data"
    }
   ],
   "source": [
    "# barplotに行列形式で与えると積み上げ縦棒グラフになる\n",
    "barplot(\n",
    "    t(as.matrix(result[c('0', '1', '<NA>')])), \n",
    "    names=result$month, \n",
    "    las=2, legend=c('0', '1', '<NA>'))"
   ]
  },
  {
   "cell_type": "code",
   "execution_count": 55,
   "id": "2ffc27a3-1a19-4df5-bc16-abb100036bf0",
   "metadata": {},
   "outputs": [
    {
     "name": "stderr",
     "output_type": "stream",
     "text": [
      "\u001b[1m\u001b[22m`summarise()` has grouped output by 'month'. You can override using the `.groups` argument.\n"
     ]
    }
   ],
   "source": [
    "# 接種回数別接種状況\n",
    "\n",
    "result = vaccines %>% \n",
    "    group_by(month=format(date, '%Y-%m'), status) %>%\n",
    "    summarise(SUM=sum(count)) %>%\n",
    "    spread(status, SUM)"
   ]
  },
  {
   "cell_type": "code",
   "execution_count": 56,
   "id": "2c302f00-6169-4fe7-bd5b-fd1c52de2a64",
   "metadata": {},
   "outputs": [
    {
     "data": {
      "image/png": "[encoded data removed]",
      "text/plain": [
       "plot without title"
      ]
     },
     "metadata": {
      "image/png": {
       "height": 420,
       "width": 420
      }
     },
     "output_type": "display_data"
    }
   ],
   "source": [
    "barplot(\n",
    "    t(as.matrix(result[c('1', '2', '3', '4')])), \n",
    "    names=result$month, \n",
    "    las=2, legend=c('1', '2', '3', '4'))"
   ]
  },
  {
   "cell_type": "code",
   "execution_count": 94,
   "id": "e9ed5040-a902-4dca-a260-d7284d20d734",
   "metadata": {},
   "outputs": [
    {
     "name": "stderr",
     "output_type": "stream",
     "text": [
      "\u001b[1m\u001b[22m`summarise()` has grouped output by 'date'. You can override using the `.groups` argument.\n"
     ]
    }
   ],
   "source": [
    "# 折れ線グラフ\n",
    "\n",
    "result = vaccines %>% \n",
    "    group_by(date, status) %>%\n",
    "    summarise(SUM=sum(count)) %>%\n",
    "    spread(status, SUM)\n"
   ]
  },
  {
   "cell_type": "code",
   "execution_count": 95,
   "id": "4c0768ce-d03a-4ad2-bc1f-3bded2c09afa",
   "metadata": {},
   "outputs": [],
   "source": [
    "result = as.data.frame(result)"
   ]
  },
  {
   "cell_type": "code",
   "execution_count": 96,
   "id": "dae04dd0-9996-4450-a34b-4410f1c6dc69",
   "metadata": {},
   "outputs": [],
   "source": [
    "result[is.na(result)] = 0"
   ]
  },
  {
   "cell_type": "code",
   "execution_count": 97,
   "id": "6228c6f3-7ad0-41d6-8e3a-84488eac9caa",
   "metadata": {},
   "outputs": [
    {
     "data": {
      "text/html": [
       "<table class=\"dataframe\">\n",
       "<caption>A data.frame: 6 × 5</caption>\n",
       "<thead>\n",
       "\t<tr><th></th><th scope=col>date</th><th scope=col>1</th><th scope=col>2</th><th scope=col>3</th><th scope=col>4</th></tr>\n",
       "\t<tr><th></th><th scope=col>&lt;date&gt;</th><th scope=col>&lt;int&gt;</th><th scope=col>&lt;dbl&gt;</th><th scope=col>&lt;dbl&gt;</th><th scope=col>&lt;dbl&gt;</th></tr>\n",
       "</thead>\n",
       "<tbody>\n",
       "\t<tr><th scope=row>1</th><td>2021-04-12</td><td> 4703</td><td>0</td><td>0</td><td>0</td></tr>\n",
       "\t<tr><th scope=row>2</th><td>2021-04-13</td><td> 4308</td><td>0</td><td>0</td><td>0</td></tr>\n",
       "\t<tr><th scope=row>3</th><td>2021-04-14</td><td> 5280</td><td>0</td><td>0</td><td>0</td></tr>\n",
       "\t<tr><th scope=row>4</th><td>2021-04-15</td><td> 8822</td><td>0</td><td>0</td><td>0</td></tr>\n",
       "\t<tr><th scope=row>5</th><td>2021-04-16</td><td>10712</td><td>0</td><td>0</td><td>0</td></tr>\n",
       "\t<tr><th scope=row>6</th><td>2021-04-17</td><td> 7652</td><td>0</td><td>0</td><td>0</td></tr>\n",
       "</tbody>\n",
       "</table>\n"
      ],
      "text/latex": [
       "A data.frame: 6 × 5\n",
       "\\begin{tabular}{r|lllll}\n",
       "  & date & 1 & 2 & 3 & 4\\\\\n",
       "  & <date> & <int> & <dbl> & <dbl> & <dbl>\\\\\n",
       "\\hline\n",
       "\t1 & 2021-04-12 &  4703 & 0 & 0 & 0\\\\\n",
       "\t2 & 2021-04-13 &  4308 & 0 & 0 & 0\\\\\n",
       "\t3 & 2021-04-14 &  5280 & 0 & 0 & 0\\\\\n",
       "\t4 & 2021-04-15 &  8822 & 0 & 0 & 0\\\\\n",
       "\t5 & 2021-04-16 & 10712 & 0 & 0 & 0\\\\\n",
       "\t6 & 2021-04-17 &  7652 & 0 & 0 & 0\\\\\n",
       "\\end{tabular}\n"
      ],
      "text/markdown": [
       "\n",
       "A data.frame: 6 × 5\n",
       "\n",
       "| <!--/--> | date &lt;date&gt; | 1 &lt;int&gt; | 2 &lt;dbl&gt; | 3 &lt;dbl&gt; | 4 &lt;dbl&gt; |\n",
       "|---|---|---|---|---|---|\n",
       "| 1 | 2021-04-12 |  4703 | 0 | 0 | 0 |\n",
       "| 2 | 2021-04-13 |  4308 | 0 | 0 | 0 |\n",
       "| 3 | 2021-04-14 |  5280 | 0 | 0 | 0 |\n",
       "| 4 | 2021-04-15 |  8822 | 0 | 0 | 0 |\n",
       "| 5 | 2021-04-16 | 10712 | 0 | 0 | 0 |\n",
       "| 6 | 2021-04-17 |  7652 | 0 | 0 | 0 |\n",
       "\n"
      ],
      "text/plain": [
       "  date       1     2 3 4\n",
       "1 2021-04-12  4703 0 0 0\n",
       "2 2021-04-13  4308 0 0 0\n",
       "3 2021-04-14  5280 0 0 0\n",
       "4 2021-04-15  8822 0 0 0\n",
       "5 2021-04-16 10712 0 0 0\n",
       "6 2021-04-17  7652 0 0 0"
      ]
     },
     "metadata": {},
     "output_type": "display_data"
    }
   ],
   "source": [
    "\n",
    "result %>% head()"
   ]
  },
  {
   "cell_type": "code",
   "execution_count": 99,
   "id": "2f5919a8-949f-4f3a-ab98-870a5967424e",
   "metadata": {},
   "outputs": [
    {
     "data": {
      "image/png": "[encoded data removed]",
      "text/plain": [
       "plot without title"
      ]
     },
     "metadata": {
      "image/png": {
       "height": 420,
       "width": 420
      }
     },
     "output_type": "display_data"
    }
   ],
   "source": [
    "# matplot(): 複数の系列のグラフ\n",
    "result[c('1', '2', '3', '4')] %>% matplot(type='l', lty=1, lwd=1, col=1:4)\n",
    "legend('topleft', legend=1:4, pch=16, col=1:4)"
   ]
  },
  {
   "cell_type": "code",
   "execution_count": 70,
   "id": "382ac96d-4403-403e-9d11-d9bb5bfd356b",
   "metadata": {},
   "outputs": [
    {
     "data": {
      "text/html": [
       "<table class=\"dataframe\">\n",
       "<caption>A tibble: 6 × 2</caption>\n",
       "<thead>\n",
       "\t<tr><th scope=col>date</th><th scope=col>daily_cases</th></tr>\n",
       "\t<tr><th scope=col>&lt;date&gt;</th><th scope=col>&lt;int&gt;</th></tr>\n",
       "</thead>\n",
       "<tbody>\n",
       "\t<tr><td>2020-01-16</td><td>1</td></tr>\n",
       "\t<tr><td>2020-01-17</td><td>0</td></tr>\n",
       "\t<tr><td>2020-01-18</td><td>0</td></tr>\n",
       "\t<tr><td>2020-01-19</td><td>0</td></tr>\n",
       "\t<tr><td>2020-01-20</td><td>0</td></tr>\n",
       "\t<tr><td>2020-01-21</td><td>0</td></tr>\n",
       "</tbody>\n",
       "</table>\n"
      ],
      "text/latex": [
       "A tibble: 6 × 2\n",
       "\\begin{tabular}{ll}\n",
       " date & daily\\_cases\\\\\n",
       " <date> & <int>\\\\\n",
       "\\hline\n",
       "\t 2020-01-16 & 1\\\\\n",
       "\t 2020-01-17 & 0\\\\\n",
       "\t 2020-01-18 & 0\\\\\n",
       "\t 2020-01-19 & 0\\\\\n",
       "\t 2020-01-20 & 0\\\\\n",
       "\t 2020-01-21 & 0\\\\\n",
       "\\end{tabular}\n"
      ],
      "text/markdown": [
       "\n",
       "A tibble: 6 × 2\n",
       "\n",
       "| date &lt;date&gt; | daily_cases &lt;int&gt; |\n",
       "|---|---|\n",
       "| 2020-01-16 | 1 |\n",
       "| 2020-01-17 | 0 |\n",
       "| 2020-01-18 | 0 |\n",
       "| 2020-01-19 | 0 |\n",
       "| 2020-01-20 | 0 |\n",
       "| 2020-01-21 | 0 |\n",
       "\n"
      ],
      "text/plain": [
       "  date       daily_cases\n",
       "1 2020-01-16 1          \n",
       "2 2020-01-17 0          \n",
       "3 2020-01-18 0          \n",
       "4 2020-01-19 0          \n",
       "5 2020-01-20 0          \n",
       "6 2020-01-21 0          "
      ]
     },
     "metadata": {},
     "output_type": "display_data"
    }
   ],
   "source": [
    "result = cases %>% group_by(date) %>% summarise(daily_cases=sum(cases))\n",
    "result %>% head()\n"
   ]
  },
  {
   "cell_type": "code",
   "execution_count": 71,
   "id": "51486cde-8941-4c5f-ba6f-43b7152aa333",
   "metadata": {},
   "outputs": [
    {
     "data": {
      "image/png": "[encoded data removed]",
      "text/plain": [
       "plot without title"
      ]
     },
     "metadata": {
      "image/png": {
       "height": 420,
       "width": 420
      }
     },
     "output_type": "display_data"
    }
   ],
   "source": [
    "plot(result, type='l')"
   ]
  },
  {
   "cell_type": "code",
   "execution_count": 74,
   "id": "7599cf18-fbbf-422a-9101-aa95c59e69b6",
   "metadata": {},
   "outputs": [
    {
     "data": {
      "text/html": [
       "<table class=\"dataframe\">\n",
       "<caption>A tibble: 6 × 2</caption>\n",
       "<thead>\n",
       "\t<tr><th scope=col>date</th><th scope=col>daily_cases</th></tr>\n",
       "\t<tr><th scope=col>&lt;date&gt;</th><th scope=col>&lt;int&gt;</th></tr>\n",
       "</thead>\n",
       "<tbody>\n",
       "\t<tr><td>2020-01-16</td><td>1</td></tr>\n",
       "\t<tr><td>2020-01-17</td><td>0</td></tr>\n",
       "\t<tr><td>2020-01-18</td><td>0</td></tr>\n",
       "\t<tr><td>2020-01-19</td><td>0</td></tr>\n",
       "\t<tr><td>2020-01-20</td><td>0</td></tr>\n",
       "\t<tr><td>2020-01-21</td><td>0</td></tr>\n",
       "</tbody>\n",
       "</table>\n"
      ],
      "text/latex": [
       "A tibble: 6 × 2\n",
       "\\begin{tabular}{ll}\n",
       " date & daily\\_cases\\\\\n",
       " <date> & <int>\\\\\n",
       "\\hline\n",
       "\t 2020-01-16 & 1\\\\\n",
       "\t 2020-01-17 & 0\\\\\n",
       "\t 2020-01-18 & 0\\\\\n",
       "\t 2020-01-19 & 0\\\\\n",
       "\t 2020-01-20 & 0\\\\\n",
       "\t 2020-01-21 & 0\\\\\n",
       "\\end{tabular}\n"
      ],
      "text/markdown": [
       "\n",
       "A tibble: 6 × 2\n",
       "\n",
       "| date &lt;date&gt; | daily_cases &lt;int&gt; |\n",
       "|---|---|\n",
       "| 2020-01-16 | 1 |\n",
       "| 2020-01-17 | 0 |\n",
       "| 2020-01-18 | 0 |\n",
       "| 2020-01-19 | 0 |\n",
       "| 2020-01-20 | 0 |\n",
       "| 2020-01-21 | 0 |\n",
       "\n"
      ],
      "text/plain": [
       "  date       daily_cases\n",
       "1 2020-01-16 1          \n",
       "2 2020-01-17 0          \n",
       "3 2020-01-18 0          \n",
       "4 2020-01-19 0          \n",
       "5 2020-01-20 0          \n",
       "6 2020-01-21 0          "
      ]
     },
     "metadata": {},
     "output_type": "display_data"
    }
   ],
   "source": [
    "# ワクチン接種数と, 新規陽性者数\n",
    "case_series = cases %>% \n",
    "    group_by(date) %>%\n",
    "    summarise(daily_cases=sum(cases))\n",
    "case_series %>% head()"
   ]
  },
  {
   "cell_type": "code",
   "execution_count": 81,
   "id": "0f3b1593-fdd0-43b4-ab21-0e74269aba35",
   "metadata": {},
   "outputs": [
    {
     "data": {
      "text/html": [
       "<table class=\"dataframe\">\n",
       "<caption>A data.frame: 6 × 6</caption>\n",
       "<thead>\n",
       "\t<tr><th></th><th scope=col>date</th><th scope=col>prefecture_code</th><th scope=col>gender</th><th scope=col>elderly</th><th scope=col>status</th><th scope=col>count</th></tr>\n",
       "\t<tr><th></th><th scope=col>&lt;date&gt;</th><th scope=col>&lt;int&gt;</th><th scope=col>&lt;chr&gt;</th><th scope=col>&lt;int&gt;</th><th scope=col>&lt;int&gt;</th><th scope=col>&lt;int&gt;</th></tr>\n",
       "</thead>\n",
       "<tbody>\n",
       "\t<tr><th scope=row>1</th><td>2021-04-12</td><td>1</td><td>F</td><td> 0</td><td>1</td><td> 3</td></tr>\n",
       "\t<tr><th scope=row>2</th><td>2021-04-12</td><td>1</td><td>F</td><td> 1</td><td>1</td><td>74</td></tr>\n",
       "\t<tr><th scope=row>3</th><td>2021-04-12</td><td>1</td><td>M</td><td> 0</td><td>1</td><td> 1</td></tr>\n",
       "\t<tr><th scope=row>4</th><td>2021-04-12</td><td>1</td><td>M</td><td> 1</td><td>1</td><td>19</td></tr>\n",
       "\t<tr><th scope=row>5</th><td>2021-04-12</td><td>1</td><td>U</td><td>NA</td><td>1</td><td>17</td></tr>\n",
       "\t<tr><th scope=row>6</th><td>2021-04-12</td><td>2</td><td>F</td><td> 0</td><td>1</td><td> 5</td></tr>\n",
       "</tbody>\n",
       "</table>\n"
      ],
      "text/latex": [
       "A data.frame: 6 × 6\n",
       "\\begin{tabular}{r|llllll}\n",
       "  & date & prefecture\\_code & gender & elderly & status & count\\\\\n",
       "  & <date> & <int> & <chr> & <int> & <int> & <int>\\\\\n",
       "\\hline\n",
       "\t1 & 2021-04-12 & 1 & F &  0 & 1 &  3\\\\\n",
       "\t2 & 2021-04-12 & 1 & F &  1 & 1 & 74\\\\\n",
       "\t3 & 2021-04-12 & 1 & M &  0 & 1 &  1\\\\\n",
       "\t4 & 2021-04-12 & 1 & M &  1 & 1 & 19\\\\\n",
       "\t5 & 2021-04-12 & 1 & U & NA & 1 & 17\\\\\n",
       "\t6 & 2021-04-12 & 2 & F &  0 & 1 &  5\\\\\n",
       "\\end{tabular}\n"
      ],
      "text/markdown": [
       "\n",
       "A data.frame: 6 × 6\n",
       "\n",
       "| <!--/--> | date &lt;date&gt; | prefecture_code &lt;int&gt; | gender &lt;chr&gt; | elderly &lt;int&gt; | status &lt;int&gt; | count &lt;int&gt; |\n",
       "|---|---|---|---|---|---|---|\n",
       "| 1 | 2021-04-12 | 1 | F |  0 | 1 |  3 |\n",
       "| 2 | 2021-04-12 | 1 | F |  1 | 1 | 74 |\n",
       "| 3 | 2021-04-12 | 1 | M |  0 | 1 |  1 |\n",
       "| 4 | 2021-04-12 | 1 | M |  1 | 1 | 19 |\n",
       "| 5 | 2021-04-12 | 1 | U | NA | 1 | 17 |\n",
       "| 6 | 2021-04-12 | 2 | F |  0 | 1 |  5 |\n",
       "\n"
      ],
      "text/plain": [
       "  date       prefecture_code gender elderly status count\n",
       "1 2021-04-12 1               F       0      1       3   \n",
       "2 2021-04-12 1               F       1      1      74   \n",
       "3 2021-04-12 1               M       0      1       1   \n",
       "4 2021-04-12 1               M       1      1      19   \n",
       "5 2021-04-12 1               U      NA      1      17   \n",
       "6 2021-04-12 2               F       0      1       5   "
      ]
     },
     "metadata": {},
     "output_type": "display_data"
    }
   ],
   "source": [
    "vaccines %>% head()"
   ]
  },
  {
   "cell_type": "code",
   "execution_count": 83,
   "id": "2ea6e8ce-00c3-4a66-bb1a-887245bb22d5",
   "metadata": {},
   "outputs": [
    {
     "name": "stderr",
     "output_type": "stream",
     "text": [
      "\u001b[1m\u001b[22m`summarise()` has grouped output by 'date'. You can override using the `.groups` argument.\n"
     ]
    },
    {
     "data": {
      "text/html": [
       "<table class=\"dataframe\">\n",
       "<caption>A grouped_df: 6 × 5</caption>\n",
       "<thead>\n",
       "\t<tr><th scope=col>date</th><th scope=col>1</th><th scope=col>2</th><th scope=col>3</th><th scope=col>4</th></tr>\n",
       "\t<tr><th scope=col>&lt;date&gt;</th><th scope=col>&lt;int&gt;</th><th scope=col>&lt;int&gt;</th><th scope=col>&lt;int&gt;</th><th scope=col>&lt;int&gt;</th></tr>\n",
       "</thead>\n",
       "<tbody>\n",
       "\t<tr><td>2021-04-12</td><td> 4703</td><td>NA</td><td>NA</td><td>NA</td></tr>\n",
       "\t<tr><td>2021-04-13</td><td> 4308</td><td>NA</td><td>NA</td><td>NA</td></tr>\n",
       "\t<tr><td>2021-04-14</td><td> 5280</td><td>NA</td><td>NA</td><td>NA</td></tr>\n",
       "\t<tr><td>2021-04-15</td><td> 8822</td><td>NA</td><td>NA</td><td>NA</td></tr>\n",
       "\t<tr><td>2021-04-16</td><td>10712</td><td>NA</td><td>NA</td><td>NA</td></tr>\n",
       "\t<tr><td>2021-04-17</td><td> 7652</td><td>NA</td><td>NA</td><td>NA</td></tr>\n",
       "</tbody>\n",
       "</table>\n"
      ],
      "text/latex": [
       "A grouped\\_df: 6 × 5\n",
       "\\begin{tabular}{lllll}\n",
       " date & 1 & 2 & 3 & 4\\\\\n",
       " <date> & <int> & <int> & <int> & <int>\\\\\n",
       "\\hline\n",
       "\t 2021-04-12 &  4703 & NA & NA & NA\\\\\n",
       "\t 2021-04-13 &  4308 & NA & NA & NA\\\\\n",
       "\t 2021-04-14 &  5280 & NA & NA & NA\\\\\n",
       "\t 2021-04-15 &  8822 & NA & NA & NA\\\\\n",
       "\t 2021-04-16 & 10712 & NA & NA & NA\\\\\n",
       "\t 2021-04-17 &  7652 & NA & NA & NA\\\\\n",
       "\\end{tabular}\n"
      ],
      "text/markdown": [
       "\n",
       "A grouped_df: 6 × 5\n",
       "\n",
       "| date &lt;date&gt; | 1 &lt;int&gt; | 2 &lt;int&gt; | 3 &lt;int&gt; | 4 &lt;int&gt; |\n",
       "|---|---|---|---|---|\n",
       "| 2021-04-12 |  4703 | NA | NA | NA |\n",
       "| 2021-04-13 |  4308 | NA | NA | NA |\n",
       "| 2021-04-14 |  5280 | NA | NA | NA |\n",
       "| 2021-04-15 |  8822 | NA | NA | NA |\n",
       "| 2021-04-16 | 10712 | NA | NA | NA |\n",
       "| 2021-04-17 |  7652 | NA | NA | NA |\n",
       "\n"
      ],
      "text/plain": [
       "  date       1     2  3  4 \n",
       "1 2021-04-12  4703 NA NA NA\n",
       "2 2021-04-13  4308 NA NA NA\n",
       "3 2021-04-14  5280 NA NA NA\n",
       "4 2021-04-15  8822 NA NA NA\n",
       "5 2021-04-16 10712 NA NA NA\n",
       "6 2021-04-17  7652 NA NA NA"
      ]
     },
     "metadata": {},
     "output_type": "display_data"
    }
   ],
   "source": [
    "vaccine_series = vaccines %>%\n",
    "    group_by(date, status) %>%\n",
    "    summarise(daily_vaccines=sum(count)) %>%\n",
    "    spread(status, daily_vaccines)\n",
    "vaccine_series %>% head()"
   ]
  },
  {
   "cell_type": "code",
   "execution_count": 84,
   "id": "0e415071-60cd-422f-8fdd-bf95bda93543",
   "metadata": {},
   "outputs": [],
   "source": [
    "vaccine_series = as.data.frame(vaccine_series)"
   ]
  },
  {
   "cell_type": "code",
   "execution_count": 85,
   "id": "2bfee861-ae18-404c-97d6-53c3a9ccd7e5",
   "metadata": {},
   "outputs": [],
   "source": [
    "vaccine_series[is.na(vaccine_series)] = 0"
   ]
  },
  {
   "cell_type": "code",
   "execution_count": 86,
   "id": "e71ddbd9-024f-4f6d-b1da-755922e3777a",
   "metadata": {},
   "outputs": [
    {
     "data": {
      "text/html": [
       "<table class=\"dataframe\">\n",
       "<caption>A data.frame: 6 × 5</caption>\n",
       "<thead>\n",
       "\t<tr><th></th><th scope=col>date</th><th scope=col>1</th><th scope=col>2</th><th scope=col>3</th><th scope=col>4</th></tr>\n",
       "\t<tr><th></th><th scope=col>&lt;date&gt;</th><th scope=col>&lt;int&gt;</th><th scope=col>&lt;dbl&gt;</th><th scope=col>&lt;dbl&gt;</th><th scope=col>&lt;dbl&gt;</th></tr>\n",
       "</thead>\n",
       "<tbody>\n",
       "\t<tr><th scope=row>1</th><td>2021-04-12</td><td> 4703</td><td>0</td><td>0</td><td>0</td></tr>\n",
       "\t<tr><th scope=row>2</th><td>2021-04-13</td><td> 4308</td><td>0</td><td>0</td><td>0</td></tr>\n",
       "\t<tr><th scope=row>3</th><td>2021-04-14</td><td> 5280</td><td>0</td><td>0</td><td>0</td></tr>\n",
       "\t<tr><th scope=row>4</th><td>2021-04-15</td><td> 8822</td><td>0</td><td>0</td><td>0</td></tr>\n",
       "\t<tr><th scope=row>5</th><td>2021-04-16</td><td>10712</td><td>0</td><td>0</td><td>0</td></tr>\n",
       "\t<tr><th scope=row>6</th><td>2021-04-17</td><td> 7652</td><td>0</td><td>0</td><td>0</td></tr>\n",
       "</tbody>\n",
       "</table>\n"
      ],
      "text/latex": [
       "A data.frame: 6 × 5\n",
       "\\begin{tabular}{r|lllll}\n",
       "  & date & 1 & 2 & 3 & 4\\\\\n",
       "  & <date> & <int> & <dbl> & <dbl> & <dbl>\\\\\n",
       "\\hline\n",
       "\t1 & 2021-04-12 &  4703 & 0 & 0 & 0\\\\\n",
       "\t2 & 2021-04-13 &  4308 & 0 & 0 & 0\\\\\n",
       "\t3 & 2021-04-14 &  5280 & 0 & 0 & 0\\\\\n",
       "\t4 & 2021-04-15 &  8822 & 0 & 0 & 0\\\\\n",
       "\t5 & 2021-04-16 & 10712 & 0 & 0 & 0\\\\\n",
       "\t6 & 2021-04-17 &  7652 & 0 & 0 & 0\\\\\n",
       "\\end{tabular}\n"
      ],
      "text/markdown": [
       "\n",
       "A data.frame: 6 × 5\n",
       "\n",
       "| <!--/--> | date &lt;date&gt; | 1 &lt;int&gt; | 2 &lt;dbl&gt; | 3 &lt;dbl&gt; | 4 &lt;dbl&gt; |\n",
       "|---|---|---|---|---|---|\n",
       "| 1 | 2021-04-12 |  4703 | 0 | 0 | 0 |\n",
       "| 2 | 2021-04-13 |  4308 | 0 | 0 | 0 |\n",
       "| 3 | 2021-04-14 |  5280 | 0 | 0 | 0 |\n",
       "| 4 | 2021-04-15 |  8822 | 0 | 0 | 0 |\n",
       "| 5 | 2021-04-16 | 10712 | 0 | 0 | 0 |\n",
       "| 6 | 2021-04-17 |  7652 | 0 | 0 | 0 |\n",
       "\n"
      ],
      "text/plain": [
       "  date       1     2 3 4\n",
       "1 2021-04-12  4703 0 0 0\n",
       "2 2021-04-13  4308 0 0 0\n",
       "3 2021-04-14  5280 0 0 0\n",
       "4 2021-04-15  8822 0 0 0\n",
       "5 2021-04-16 10712 0 0 0\n",
       "6 2021-04-17  7652 0 0 0"
      ]
     },
     "metadata": {},
     "output_type": "display_data"
    }
   ],
   "source": [
    "vvaccine_series %>% head()"
   ]
  },
  {
   "cell_type": "code",
   "execution_count": 87,
   "id": "93cbd414-dfc6-4ed3-97e8-c78a2af97ef5",
   "metadata": {},
   "outputs": [],
   "source": [
    "result = case_series %>% left_join(vaccine_series, by='date')"
   ]
  },
  {
   "cell_type": "code",
   "execution_count": 89,
   "id": "c8efa6e6-028f-4cea-929b-5259b9ae71e9",
   "metadata": {},
   "outputs": [
    {
     "data": {
      "text/html": [
       "<table class=\"dataframe\">\n",
       "<caption>A tibble: 6 × 6</caption>\n",
       "<thead>\n",
       "\t<tr><th scope=col>date</th><th scope=col>daily_cases</th><th scope=col>1</th><th scope=col>2</th><th scope=col>3</th><th scope=col>4</th></tr>\n",
       "\t<tr><th scope=col>&lt;date&gt;</th><th scope=col>&lt;int&gt;</th><th scope=col>&lt;int&gt;</th><th scope=col>&lt;dbl&gt;</th><th scope=col>&lt;dbl&gt;</th><th scope=col>&lt;dbl&gt;</th></tr>\n",
       "</thead>\n",
       "<tbody>\n",
       "\t<tr><td>2020-01-16</td><td>1</td><td>NA</td><td>NA</td><td>NA</td><td>NA</td></tr>\n",
       "\t<tr><td>2020-01-17</td><td>0</td><td>NA</td><td>NA</td><td>NA</td><td>NA</td></tr>\n",
       "\t<tr><td>2020-01-18</td><td>0</td><td>NA</td><td>NA</td><td>NA</td><td>NA</td></tr>\n",
       "\t<tr><td>2020-01-19</td><td>0</td><td>NA</td><td>NA</td><td>NA</td><td>NA</td></tr>\n",
       "\t<tr><td>2020-01-20</td><td>0</td><td>NA</td><td>NA</td><td>NA</td><td>NA</td></tr>\n",
       "\t<tr><td>2020-01-21</td><td>0</td><td>NA</td><td>NA</td><td>NA</td><td>NA</td></tr>\n",
       "</tbody>\n",
       "</table>\n"
      ],
      "text/latex": [
       "A tibble: 6 × 6\n",
       "\\begin{tabular}{llllll}\n",
       " date & daily\\_cases & 1 & 2 & 3 & 4\\\\\n",
       " <date> & <int> & <int> & <dbl> & <dbl> & <dbl>\\\\\n",
       "\\hline\n",
       "\t 2020-01-16 & 1 & NA & NA & NA & NA\\\\\n",
       "\t 2020-01-17 & 0 & NA & NA & NA & NA\\\\\n",
       "\t 2020-01-18 & 0 & NA & NA & NA & NA\\\\\n",
       "\t 2020-01-19 & 0 & NA & NA & NA & NA\\\\\n",
       "\t 2020-01-20 & 0 & NA & NA & NA & NA\\\\\n",
       "\t 2020-01-21 & 0 & NA & NA & NA & NA\\\\\n",
       "\\end{tabular}\n"
      ],
      "text/markdown": [
       "\n",
       "A tibble: 6 × 6\n",
       "\n",
       "| date &lt;date&gt; | daily_cases &lt;int&gt; | 1 &lt;int&gt; | 2 &lt;dbl&gt; | 3 &lt;dbl&gt; | 4 &lt;dbl&gt; |\n",
       "|---|---|---|---|---|---|\n",
       "| 2020-01-16 | 1 | NA | NA | NA | NA |\n",
       "| 2020-01-17 | 0 | NA | NA | NA | NA |\n",
       "| 2020-01-18 | 0 | NA | NA | NA | NA |\n",
       "| 2020-01-19 | 0 | NA | NA | NA | NA |\n",
       "| 2020-01-20 | 0 | NA | NA | NA | NA |\n",
       "| 2020-01-21 | 0 | NA | NA | NA | NA |\n",
       "\n"
      ],
      "text/plain": [
       "  date       daily_cases 1  2  3  4 \n",
       "1 2020-01-16 1           NA NA NA NA\n",
       "2 2020-01-17 0           NA NA NA NA\n",
       "3 2020-01-18 0           NA NA NA NA\n",
       "4 2020-01-19 0           NA NA NA NA\n",
       "5 2020-01-20 0           NA NA NA NA\n",
       "6 2020-01-21 0           NA NA NA NA"
      ]
     },
     "metadata": {},
     "output_type": "display_data"
    }
   ],
   "source": [
    "result %>% head()"
   ]
  },
  {
   "cell_type": "code",
   "execution_count": 90,
   "id": "8f06e9b3-694d-4963-8012-1f64904ef41d",
   "metadata": {},
   "outputs": [
    {
     "data": {
      "text/html": [
       "<table class=\"dataframe\">\n",
       "<caption>A tibble: 6 × 6</caption>\n",
       "<thead>\n",
       "\t<tr><th scope=col>date</th><th scope=col>daily_cases</th><th scope=col>1</th><th scope=col>2</th><th scope=col>3</th><th scope=col>4</th></tr>\n",
       "\t<tr><th scope=col>&lt;date&gt;</th><th scope=col>&lt;int&gt;</th><th scope=col>&lt;int&gt;</th><th scope=col>&lt;dbl&gt;</th><th scope=col>&lt;dbl&gt;</th><th scope=col>&lt;dbl&gt;</th></tr>\n",
       "</thead>\n",
       "<tbody>\n",
       "\t<tr><td>2022-06-18</td><td>14822</td><td>12371</td><td>19176</td><td>162676</td><td>20128</td></tr>\n",
       "\t<tr><td>2022-06-19</td><td>13143</td><td> 2103</td><td> 4160</td><td> 41931</td><td> 5895</td></tr>\n",
       "\t<tr><td>2022-06-20</td><td> 7782</td><td> 2675</td><td> 4282</td><td> 43143</td><td>18474</td></tr>\n",
       "\t<tr><td>2022-06-21</td><td>15375</td><td> 2504</td><td> 3921</td><td> 37795</td><td>22425</td></tr>\n",
       "\t<tr><td>2022-06-22</td><td>17270</td><td> 2217</td><td> 3451</td><td> 33140</td><td>21756</td></tr>\n",
       "\t<tr><td>2022-06-23</td><td>16664</td><td> 1211</td><td> 2134</td><td> 26660</td><td>16447</td></tr>\n",
       "</tbody>\n",
       "</table>\n"
      ],
      "text/latex": [
       "A tibble: 6 × 6\n",
       "\\begin{tabular}{llllll}\n",
       " date & daily\\_cases & 1 & 2 & 3 & 4\\\\\n",
       " <date> & <int> & <int> & <dbl> & <dbl> & <dbl>\\\\\n",
       "\\hline\n",
       "\t 2022-06-18 & 14822 & 12371 & 19176 & 162676 & 20128\\\\\n",
       "\t 2022-06-19 & 13143 &  2103 &  4160 &  41931 &  5895\\\\\n",
       "\t 2022-06-20 &  7782 &  2675 &  4282 &  43143 & 18474\\\\\n",
       "\t 2022-06-21 & 15375 &  2504 &  3921 &  37795 & 22425\\\\\n",
       "\t 2022-06-22 & 17270 &  2217 &  3451 &  33140 & 21756\\\\\n",
       "\t 2022-06-23 & 16664 &  1211 &  2134 &  26660 & 16447\\\\\n",
       "\\end{tabular}\n"
      ],
      "text/markdown": [
       "\n",
       "A tibble: 6 × 6\n",
       "\n",
       "| date &lt;date&gt; | daily_cases &lt;int&gt; | 1 &lt;int&gt; | 2 &lt;dbl&gt; | 3 &lt;dbl&gt; | 4 &lt;dbl&gt; |\n",
       "|---|---|---|---|---|---|\n",
       "| 2022-06-18 | 14822 | 12371 | 19176 | 162676 | 20128 |\n",
       "| 2022-06-19 | 13143 |  2103 |  4160 |  41931 |  5895 |\n",
       "| 2022-06-20 |  7782 |  2675 |  4282 |  43143 | 18474 |\n",
       "| 2022-06-21 | 15375 |  2504 |  3921 |  37795 | 22425 |\n",
       "| 2022-06-22 | 17270 |  2217 |  3451 |  33140 | 21756 |\n",
       "| 2022-06-23 | 16664 |  1211 |  2134 |  26660 | 16447 |\n",
       "\n"
      ],
      "text/plain": [
       "  date       daily_cases 1     2     3      4    \n",
       "1 2022-06-18 14822       12371 19176 162676 20128\n",
       "2 2022-06-19 13143        2103  4160  41931  5895\n",
       "3 2022-06-20  7782        2675  4282  43143 18474\n",
       "4 2022-06-21 15375        2504  3921  37795 22425\n",
       "5 2022-06-22 17270        2217  3451  33140 21756\n",
       "6 2022-06-23 16664        1211  2134  26660 16447"
      ]
     },
     "metadata": {},
     "output_type": "display_data"
    }
   ],
   "source": [
    "result %>% tail()"
   ]
  },
  {
   "cell_type": "code",
   "execution_count": 93,
   "id": "cecf115c-34fc-478b-b659-61239e868f44",
   "metadata": {},
   "outputs": [
    {
     "data": {
      "image/png": "[encoded data removed]",
      "text/plain": [
       "plot without title"
      ]
     },
     "metadata": {
      "image/png": {
       "height": 420,
       "width": 420
      }
     },
     "output_type": "display_data"
    }
   ],
   "source": [
    "result[c('daily_cases', '1', '2', '3', '4')] %>% matplot(type='l', lty=1, lwd=1)\n",
    "legend('topleft', legend=c('case', '1', '2', '3', '4'), pch=1, col=1:5)"
   ]
  }
 ],
 "metadata": {
  "kernelspec": {
   "display_name": "R",
   "language": "R",
   "name": "ir"
  },
  "language_info": {
   "codemirror_mode": "r",
   "file_extension": ".r",
   "mimetype": "text/x-r-source",
   "name": "R",
   "pygments_lexer": "r",
   "version": "4.2.0"
  }
 },
 "nbformat": 4,
 "nbformat_minor": 5
}
