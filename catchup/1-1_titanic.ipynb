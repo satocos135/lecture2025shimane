{
 "cells": [
  {
   "cell_type": "markdown",
   "id": "4581aa42-07e7-4da8-89d6-d6739fe5a4f1",
   "metadata": {},
   "source": [
    "# 実習1-1 Titanic Dataset\n"
   ]
  },
  {
   "cell_type": "code",
   "execution_count": 1,
   "id": "e5a2562c-bd96-454e-af01-8189df3872be",
   "metadata": {},
   "outputs": [
    {
     "name": "stderr",
     "output_type": "stream",
     "text": [
      "── \u001b[1mAttaching packages\u001b[22m ─────────────────────────────────────────────────────────────────────────────── tidyverse 1.3.1 ──\n",
      "\n",
      "\u001b[32m✔\u001b[39m \u001b[34mggplot2\u001b[39m 3.3.6     \u001b[32m✔\u001b[39m \u001b[34mpurrr  \u001b[39m 0.3.4\n",
      "\u001b[32m✔\u001b[39m \u001b[34mtibble \u001b[39m 3.1.7     \u001b[32m✔\u001b[39m \u001b[34mdplyr  \u001b[39m 1.0.9\n",
      "\u001b[32m✔\u001b[39m \u001b[34mtidyr  \u001b[39m 1.2.0     \u001b[32m✔\u001b[39m \u001b[34mstringr\u001b[39m 1.4.0\n",
      "\u001b[32m✔\u001b[39m \u001b[34mreadr  \u001b[39m 2.1.2     \u001b[32m✔\u001b[39m \u001b[34mforcats\u001b[39m 0.5.1\n",
      "\n",
      "── \u001b[1mConflicts\u001b[22m ────────────────────────────────────────────────────────────────────────────────── tidyverse_conflicts() ──\n",
      "\u001b[31m✖\u001b[39m \u001b[34mdplyr\u001b[39m::\u001b[32mfilter()\u001b[39m masks \u001b[34mstats\u001b[39m::filter()\n",
      "\u001b[31m✖\u001b[39m \u001b[34mdplyr\u001b[39m::\u001b[32mlag()\u001b[39m    masks \u001b[34mstats\u001b[39m::lag()\n",
      "\n",
      "Installing package into 'C:/Users/satoc/AppData/Local/R/win-library/4.2'\n",
      "(as 'lib' is unspecified)\n",
      "\n"
     ]
    },
    {
     "name": "stdout",
     "output_type": "stream",
     "text": [
      "package 'vcd' successfully unpacked and MD5 sums checked\n",
      "\n",
      "The downloaded binary packages are in\n",
      "\tC:\\Users\\satoc\\AppData\\Local\\Temp\\RtmpotM6g4\\downloaded_packages\n"
     ]
    },
    {
     "name": "stderr",
     "output_type": "stream",
     "text": [
      "Loading required package: grid\n",
      "\n"
     ]
    }
   ],
   "source": [
    "# ライブラリの読み込み\n",
    "library('tidyverse')\n",
    "\n",
    "# mosaic() 関数を使いたいのでvcdパッケージをインストールする\n",
    "# vcd: Visualizing Categorical Data\n",
    "#     質的変数を分析するのに便利なパッケージ\n",
    "\n",
    "install.packages('vcd')\n",
    "library('vcd')\n"
   ]
  },
  {
   "cell_type": "code",
   "execution_count": 3,
   "id": "e71eab65-be47-4e49-81af-6f1fa7ecfa2b",
   "metadata": {},
   "outputs": [
    {
     "data": {
      "text/html": [
       "'C:/Users/satoc/Documents/GitHub/lecture2022shimane'"
      ],
      "text/latex": [
       "'C:/Users/satoc/Documents/GitHub/lecture2022shimane'"
      ],
      "text/markdown": [
       "'C:/Users/satoc/Documents/GitHub/lecture2022shimane'"
      ],
      "text/plain": [
       "[1] \"C:/Users/satoc/Documents/GitHub/lecture2022shimane\""
      ]
     },
     "metadata": {},
     "output_type": "display_data"
    }
   ],
   "source": [
    "getwd()"
   ]
  },
  {
   "cell_type": "markdown",
   "id": "24aa05f3-199f-4e38-b55c-e694f46e8975",
   "metadata": {},
   "source": [
    "## データの読み込み\n"
   ]
  },
  {
   "cell_type": "code",
   "execution_count": 5,
   "id": "59a87e72-9cce-4f73-9ee6-a61f7fd584f7",
   "metadata": {},
   "outputs": [],
   "source": [
    "# NAに'?'の文字が使われていることに注意する\n",
    "df = read.csv('data/titanic/titanic.csv', na.string='?')"
   ]
  },
  {
   "cell_type": "code",
   "execution_count": 6,
   "id": "c5056b74-a070-4eeb-bcbe-50d3de1ac7d3",
   "metadata": {},
   "outputs": [
    {
     "data": {
      "text/html": [
       "<style>\n",
       ".list-inline {list-style: none; margin:0; padding: 0}\n",
       ".list-inline>li {display: inline-block}\n",
       ".list-inline>li:not(:last-child)::after {content: \"\\00b7\"; padding: 0 .5ex}\n",
       "</style>\n",
       "<ol class=list-inline><li>1309</li><li>14</li></ol>\n"
      ],
      "text/latex": [
       "\\begin{enumerate*}\n",
       "\\item 1309\n",
       "\\item 14\n",
       "\\end{enumerate*}\n"
      ],
      "text/markdown": [
       "1. 1309\n",
       "2. 14\n",
       "\n",
       "\n"
      ],
      "text/plain": [
       "[1] 1309   14"
      ]
     },
     "metadata": {},
     "output_type": "display_data"
    }
   ],
   "source": [
    "# データの次元の確認\n",
    "df %>% dim()"
   ]
  },
  {
   "cell_type": "code",
   "execution_count": 7,
   "id": "404749f5-61b1-47aa-9213-1cebd8a40751",
   "metadata": {},
   "outputs": [
    {
     "data": {
      "text/html": [
       "<style>\n",
       ".list-inline {list-style: none; margin:0; padding: 0}\n",
       ".list-inline>li {display: inline-block}\n",
       ".list-inline>li:not(:last-child)::after {content: \"\\00b7\"; padding: 0 .5ex}\n",
       "</style>\n",
       "<ol class=list-inline><li>'pclass'</li><li>'survived'</li><li>'name'</li><li>'sex'</li><li>'age'</li><li>'sibsp'</li><li>'parch'</li><li>'ticket'</li><li>'fare'</li><li>'cabin'</li><li>'embarked'</li><li>'boat'</li><li>'body'</li><li>'home.dest'</li></ol>\n"
      ],
      "text/latex": [
       "\\begin{enumerate*}\n",
       "\\item 'pclass'\n",
       "\\item 'survived'\n",
       "\\item 'name'\n",
       "\\item 'sex'\n",
       "\\item 'age'\n",
       "\\item 'sibsp'\n",
       "\\item 'parch'\n",
       "\\item 'ticket'\n",
       "\\item 'fare'\n",
       "\\item 'cabin'\n",
       "\\item 'embarked'\n",
       "\\item 'boat'\n",
       "\\item 'body'\n",
       "\\item 'home.dest'\n",
       "\\end{enumerate*}\n"
      ],
      "text/markdown": [
       "1. 'pclass'\n",
       "2. 'survived'\n",
       "3. 'name'\n",
       "4. 'sex'\n",
       "5. 'age'\n",
       "6. 'sibsp'\n",
       "7. 'parch'\n",
       "8. 'ticket'\n",
       "9. 'fare'\n",
       "10. 'cabin'\n",
       "11. 'embarked'\n",
       "12. 'boat'\n",
       "13. 'body'\n",
       "14. 'home.dest'\n",
       "\n",
       "\n"
      ],
      "text/plain": [
       " [1] \"pclass\"    \"survived\"  \"name\"      \"sex\"       \"age\"       \"sibsp\"    \n",
       " [7] \"parch\"     \"ticket\"    \"fare\"      \"cabin\"     \"embarked\"  \"boat\"     \n",
       "[13] \"body\"      \"home.dest\""
      ]
     },
     "metadata": {},
     "output_type": "display_data"
    }
   ],
   "source": [
    "# 変数の表示\n",
    "df %>% colnames()"
   ]
  },
  {
   "cell_type": "code",
   "execution_count": 15,
   "id": "6fb82fb5-db16-40ae-a046-af066a4fb9a2",
   "metadata": {},
   "outputs": [
    {
     "data": {
      "text/html": [
       "<table class=\"dataframe\">\n",
       "<caption>A data.frame: 6 × 14</caption>\n",
       "<thead>\n",
       "\t<tr><th></th><th scope=col>pclass</th><th scope=col>survived</th><th scope=col>name</th><th scope=col>sex</th><th scope=col>age</th><th scope=col>sibsp</th><th scope=col>parch</th><th scope=col>ticket</th><th scope=col>fare</th><th scope=col>cabin</th><th scope=col>embarked</th><th scope=col>boat</th><th scope=col>body</th><th scope=col>home.dest</th></tr>\n",
       "\t<tr><th></th><th scope=col>&lt;int&gt;</th><th scope=col>&lt;int&gt;</th><th scope=col>&lt;chr&gt;</th><th scope=col>&lt;chr&gt;</th><th scope=col>&lt;dbl&gt;</th><th scope=col>&lt;int&gt;</th><th scope=col>&lt;int&gt;</th><th scope=col>&lt;chr&gt;</th><th scope=col>&lt;dbl&gt;</th><th scope=col>&lt;chr&gt;</th><th scope=col>&lt;chr&gt;</th><th scope=col>&lt;chr&gt;</th><th scope=col>&lt;int&gt;</th><th scope=col>&lt;chr&gt;</th></tr>\n",
       "</thead>\n",
       "<tbody>\n",
       "\t<tr><th scope=row>1</th><td>1</td><td>1</td><td>Allen, Miss. Elisabeth Walton                  </td><td>female</td><td>29.0000</td><td>0</td><td>0</td><td>24160 </td><td>211.3375</td><td>B5     </td><td>S</td><td>2 </td><td> NA</td><td>St Louis, MO                   </td></tr>\n",
       "\t<tr><th scope=row>2</th><td>1</td><td>1</td><td>Allison, Master. Hudson Trevor                 </td><td>male  </td><td> 0.9167</td><td>1</td><td>2</td><td>113781</td><td>151.5500</td><td>C22 C26</td><td>S</td><td>11</td><td> NA</td><td>Montreal, PQ / Chesterville, ON</td></tr>\n",
       "\t<tr><th scope=row>3</th><td>1</td><td>0</td><td>Allison, Miss. Helen Loraine                   </td><td>female</td><td> 2.0000</td><td>1</td><td>2</td><td>113781</td><td>151.5500</td><td>C22 C26</td><td>S</td><td>NA</td><td> NA</td><td>Montreal, PQ / Chesterville, ON</td></tr>\n",
       "\t<tr><th scope=row>4</th><td>1</td><td>0</td><td>Allison, Mr. Hudson Joshua Creighton           </td><td>male  </td><td>30.0000</td><td>1</td><td>2</td><td>113781</td><td>151.5500</td><td>C22 C26</td><td>S</td><td>NA</td><td>135</td><td>Montreal, PQ / Chesterville, ON</td></tr>\n",
       "\t<tr><th scope=row>5</th><td>1</td><td>0</td><td>Allison, Mrs. Hudson J C (Bessie Waldo Daniels)</td><td>female</td><td>25.0000</td><td>1</td><td>2</td><td>113781</td><td>151.5500</td><td>C22 C26</td><td>S</td><td>NA</td><td> NA</td><td>Montreal, PQ / Chesterville, ON</td></tr>\n",
       "\t<tr><th scope=row>6</th><td>1</td><td>1</td><td>Anderson, Mr. Harry                            </td><td>male  </td><td>48.0000</td><td>0</td><td>0</td><td>19952 </td><td> 26.5500</td><td>E12    </td><td>S</td><td>3 </td><td> NA</td><td>New York, NY                   </td></tr>\n",
       "</tbody>\n",
       "</table>\n"
      ],
      "text/latex": [
       "A data.frame: 6 × 14\n",
       "\\begin{tabular}{r|llllllllllllll}\n",
       "  & pclass & survived & name & sex & age & sibsp & parch & ticket & fare & cabin & embarked & boat & body & home.dest\\\\\n",
       "  & <int> & <int> & <chr> & <chr> & <dbl> & <int> & <int> & <chr> & <dbl> & <chr> & <chr> & <chr> & <int> & <chr>\\\\\n",
       "\\hline\n",
       "\t1 & 1 & 1 & Allen, Miss. Elisabeth Walton                   & female & 29.0000 & 0 & 0 & 24160  & 211.3375 & B5      & S & 2  &  NA & St Louis, MO                   \\\\\n",
       "\t2 & 1 & 1 & Allison, Master. Hudson Trevor                  & male   &  0.9167 & 1 & 2 & 113781 & 151.5500 & C22 C26 & S & 11 &  NA & Montreal, PQ / Chesterville, ON\\\\\n",
       "\t3 & 1 & 0 & Allison, Miss. Helen Loraine                    & female &  2.0000 & 1 & 2 & 113781 & 151.5500 & C22 C26 & S & NA &  NA & Montreal, PQ / Chesterville, ON\\\\\n",
       "\t4 & 1 & 0 & Allison, Mr. Hudson Joshua Creighton            & male   & 30.0000 & 1 & 2 & 113781 & 151.5500 & C22 C26 & S & NA & 135 & Montreal, PQ / Chesterville, ON\\\\\n",
       "\t5 & 1 & 0 & Allison, Mrs. Hudson J C (Bessie Waldo Daniels) & female & 25.0000 & 1 & 2 & 113781 & 151.5500 & C22 C26 & S & NA &  NA & Montreal, PQ / Chesterville, ON\\\\\n",
       "\t6 & 1 & 1 & Anderson, Mr. Harry                             & male   & 48.0000 & 0 & 0 & 19952  &  26.5500 & E12     & S & 3  &  NA & New York, NY                   \\\\\n",
       "\\end{tabular}\n"
      ],
      "text/markdown": [
       "\n",
       "A data.frame: 6 × 14\n",
       "\n",
       "| <!--/--> | pclass &lt;int&gt; | survived &lt;int&gt; | name &lt;chr&gt; | sex &lt;chr&gt; | age &lt;dbl&gt; | sibsp &lt;int&gt; | parch &lt;int&gt; | ticket &lt;chr&gt; | fare &lt;dbl&gt; | cabin &lt;chr&gt; | embarked &lt;chr&gt; | boat &lt;chr&gt; | body &lt;int&gt; | home.dest &lt;chr&gt; |\n",
       "|---|---|---|---|---|---|---|---|---|---|---|---|---|---|---|\n",
       "| 1 | 1 | 1 | Allen, Miss. Elisabeth Walton                   | female | 29.0000 | 0 | 0 | 24160  | 211.3375 | B5      | S | 2  |  NA | St Louis, MO                    |\n",
       "| 2 | 1 | 1 | Allison, Master. Hudson Trevor                  | male   |  0.9167 | 1 | 2 | 113781 | 151.5500 | C22 C26 | S | 11 |  NA | Montreal, PQ / Chesterville, ON |\n",
       "| 3 | 1 | 0 | Allison, Miss. Helen Loraine                    | female |  2.0000 | 1 | 2 | 113781 | 151.5500 | C22 C26 | S | NA |  NA | Montreal, PQ / Chesterville, ON |\n",
       "| 4 | 1 | 0 | Allison, Mr. Hudson Joshua Creighton            | male   | 30.0000 | 1 | 2 | 113781 | 151.5500 | C22 C26 | S | NA | 135 | Montreal, PQ / Chesterville, ON |\n",
       "| 5 | 1 | 0 | Allison, Mrs. Hudson J C (Bessie Waldo Daniels) | female | 25.0000 | 1 | 2 | 113781 | 151.5500 | C22 C26 | S | NA |  NA | Montreal, PQ / Chesterville, ON |\n",
       "| 6 | 1 | 1 | Anderson, Mr. Harry                             | male   | 48.0000 | 0 | 0 | 19952  |  26.5500 | E12     | S | 3  |  NA | New York, NY                    |\n",
       "\n"
      ],
      "text/plain": [
       "  pclass survived name                                            sex   \n",
       "1 1      1        Allen, Miss. Elisabeth Walton                   female\n",
       "2 1      1        Allison, Master. Hudson Trevor                  male  \n",
       "3 1      0        Allison, Miss. Helen Loraine                    female\n",
       "4 1      0        Allison, Mr. Hudson Joshua Creighton            male  \n",
       "5 1      0        Allison, Mrs. Hudson J C (Bessie Waldo Daniels) female\n",
       "6 1      1        Anderson, Mr. Harry                             male  \n",
       "  age     sibsp parch ticket fare     cabin   embarked boat body\n",
       "1 29.0000 0     0     24160  211.3375 B5      S        2     NA \n",
       "2  0.9167 1     2     113781 151.5500 C22 C26 S        11    NA \n",
       "3  2.0000 1     2     113781 151.5500 C22 C26 S        NA    NA \n",
       "4 30.0000 1     2     113781 151.5500 C22 C26 S        NA   135 \n",
       "5 25.0000 1     2     113781 151.5500 C22 C26 S        NA    NA \n",
       "6 48.0000 0     0     19952   26.5500 E12     S        3     NA \n",
       "  home.dest                      \n",
       "1 St Louis, MO                   \n",
       "2 Montreal, PQ / Chesterville, ON\n",
       "3 Montreal, PQ / Chesterville, ON\n",
       "4 Montreal, PQ / Chesterville, ON\n",
       "5 Montreal, PQ / Chesterville, ON\n",
       "6 New York, NY                   "
      ]
     },
     "metadata": {},
     "output_type": "display_data"
    }
   ],
   "source": [
    "df %>% head()"
   ]
  },
  {
   "cell_type": "markdown",
   "id": "f0e49c6f-2b9c-4844-8cf6-3d0dbf101d83",
   "metadata": {},
   "source": [
    "## 変数の確認\n"
   ]
  },
  {
   "cell_type": "markdown",
   "id": "025adcfc-1992-4073-9612-b67f1a2387b7",
   "metadata": {},
   "source": [
    "+ `pclass`: 旅客等級(passenger class)\n",
    "    + 1: 1st(一等)\n",
    "    + 2: 2nd(二等)\n",
    "    + 3: 3rd(三等)\n"
   ]
  },
  {
   "cell_type": "code",
   "execution_count": 10,
   "id": "f3d0ab11-3db1-42ab-91e6-c3b183c047fe",
   "metadata": {},
   "outputs": [
    {
     "data": {
      "text/plain": [
       ".\n",
       "  1   2   3 \n",
       "323 277 709 "
      ]
     },
     "metadata": {},
     "output_type": "display_data"
    }
   ],
   "source": [
    "df$pclass %>% table(useNA='ifany')"
   ]
  },
  {
   "cell_type": "code",
   "execution_count": 11,
   "id": "7cd4885c-b023-4ffb-ba7f-f7e7ecb93261",
   "metadata": {},
   "outputs": [
    {
     "data": {
      "text/plain": [
       ".\n",
       "   1    2    3 <NA> \n",
       " 323  277  709    0 "
      ]
     },
     "metadata": {},
     "output_type": "display_data"
    }
   ],
   "source": [
    "df$pclass %>% table(useNA='always')"
   ]
  },
  {
   "cell_type": "markdown",
   "id": "d03a8df8-8b85-4199-8e3e-a8d67089772b",
   "metadata": {},
   "source": [
    "+ `survived`: 生存\n",
    "    + 1: 生存\n",
    "    + 0: 死亡\n"
   ]
  },
  {
   "cell_type": "code",
   "execution_count": 12,
   "id": "c743cdc4-12c2-4de9-8e13-492aa32e9328",
   "metadata": {},
   "outputs": [
    {
     "data": {
      "text/plain": [
       ".\n",
       "  0   1 \n",
       "809 500 "
      ]
     },
     "metadata": {},
     "output_type": "display_data"
    }
   ],
   "source": [
    "df$survived %>% table(useNA='ifany')"
   ]
  },
  {
   "cell_type": "markdown",
   "id": "1a6e89ba-ed8c-409c-8955-cd4db1306676",
   "metadata": {},
   "source": [
    "+ `name`: 乗客の名前"
   ]
  },
  {
   "cell_type": "code",
   "execution_count": 14,
   "id": "edbcbcae-b270-4ad7-aa7d-8a0f00bab8d9",
   "metadata": {},
   "outputs": [
    {
     "data": {
      "text/html": [
       "<style>\n",
       ".list-inline {list-style: none; margin:0; padding: 0}\n",
       ".list-inline>li {display: inline-block}\n",
       ".list-inline>li:not(:last-child)::after {content: \"\\00b7\"; padding: 0 .5ex}\n",
       "</style>\n",
       "<ol class=list-inline><li>'Allen, Miss. Elisabeth Walton'</li><li>'Allison, Master. Hudson Trevor'</li><li>'Allison, Miss. Helen Loraine'</li><li>'Allison, Mr. Hudson Joshua Creighton'</li><li>'Allison, Mrs. Hudson J C (Bessie Waldo Daniels)'</li><li>'Anderson, Mr. Harry'</li><li>'Andrews, Miss. Kornelia Theodosia'</li><li>'Andrews, Mr. Thomas Jr'</li><li>'Appleton, Mrs. Edward Dale (Charlotte Lamson)'</li><li>'Artagaveytia, Mr. Ramon'</li><li>'Astor, Col. John Jacob'</li><li>'Astor, Mrs. John Jacob (Madeleine Talmadge Force)'</li><li>'Aubart, Mme. Leontine Pauline'</li><li>'Barber, Miss. Ellen \\'Nellie\\''</li><li>'Barkworth, Mr. Algernon Henry Wilson'</li><li>'Baumann, Mr. John D'</li><li>'Baxter, Mr. Quigg Edmond'</li><li>'Baxter, Mrs. James (Helene DeLaudeniere Chaput)'</li><li>'Bazzani, Miss. Albina'</li><li>'Beattie, Mr. Thomson'</li><li>'Beckwith, Mr. Richard Leonard'</li><li>'Beckwith, Mrs. Richard Leonard (Sallie Monypeny)'</li><li>'Behr, Mr. Karl Howell'</li><li>'Bidois, Miss. Rosalie'</li><li>'Bird, Miss. Ellen'</li><li>'Birnbaum, Mr. Jakob'</li><li>'Bishop, Mr. Dickinson H'</li><li>'Bishop, Mrs. Dickinson H (Helen Walton)'</li><li>'Bissette, Miss. Amelia'</li><li>'Bjornstrom-Steffansson, Mr. Mauritz Hakan'</li></ol>\n"
      ],
      "text/latex": [
       "\\begin{enumerate*}\n",
       "\\item 'Allen, Miss. Elisabeth Walton'\n",
       "\\item 'Allison, Master. Hudson Trevor'\n",
       "\\item 'Allison, Miss. Helen Loraine'\n",
       "\\item 'Allison, Mr. Hudson Joshua Creighton'\n",
       "\\item 'Allison, Mrs. Hudson J C (Bessie Waldo Daniels)'\n",
       "\\item 'Anderson, Mr. Harry'\n",
       "\\item 'Andrews, Miss. Kornelia Theodosia'\n",
       "\\item 'Andrews, Mr. Thomas Jr'\n",
       "\\item 'Appleton, Mrs. Edward Dale (Charlotte Lamson)'\n",
       "\\item 'Artagaveytia, Mr. Ramon'\n",
       "\\item 'Astor, Col. John Jacob'\n",
       "\\item 'Astor, Mrs. John Jacob (Madeleine Talmadge Force)'\n",
       "\\item 'Aubart, Mme. Leontine Pauline'\n",
       "\\item 'Barber, Miss. Ellen \\textbackslash{}'Nellie\\textbackslash{}''\n",
       "\\item 'Barkworth, Mr. Algernon Henry Wilson'\n",
       "\\item 'Baumann, Mr. John D'\n",
       "\\item 'Baxter, Mr. Quigg Edmond'\n",
       "\\item 'Baxter, Mrs. James (Helene DeLaudeniere Chaput)'\n",
       "\\item 'Bazzani, Miss. Albina'\n",
       "\\item 'Beattie, Mr. Thomson'\n",
       "\\item 'Beckwith, Mr. Richard Leonard'\n",
       "\\item 'Beckwith, Mrs. Richard Leonard (Sallie Monypeny)'\n",
       "\\item 'Behr, Mr. Karl Howell'\n",
       "\\item 'Bidois, Miss. Rosalie'\n",
       "\\item 'Bird, Miss. Ellen'\n",
       "\\item 'Birnbaum, Mr. Jakob'\n",
       "\\item 'Bishop, Mr. Dickinson H'\n",
       "\\item 'Bishop, Mrs. Dickinson H (Helen Walton)'\n",
       "\\item 'Bissette, Miss. Amelia'\n",
       "\\item 'Bjornstrom-Steffansson, Mr. Mauritz Hakan'\n",
       "\\end{enumerate*}\n"
      ],
      "text/markdown": [
       "1. 'Allen, Miss. Elisabeth Walton'\n",
       "2. 'Allison, Master. Hudson Trevor'\n",
       "3. 'Allison, Miss. Helen Loraine'\n",
       "4. 'Allison, Mr. Hudson Joshua Creighton'\n",
       "5. 'Allison, Mrs. Hudson J C (Bessie Waldo Daniels)'\n",
       "6. 'Anderson, Mr. Harry'\n",
       "7. 'Andrews, Miss. Kornelia Theodosia'\n",
       "8. 'Andrews, Mr. Thomas Jr'\n",
       "9. 'Appleton, Mrs. Edward Dale (Charlotte Lamson)'\n",
       "10. 'Artagaveytia, Mr. Ramon'\n",
       "11. 'Astor, Col. John Jacob'\n",
       "12. 'Astor, Mrs. John Jacob (Madeleine Talmadge Force)'\n",
       "13. 'Aubart, Mme. Leontine Pauline'\n",
       "14. 'Barber, Miss. Ellen \\'Nellie\\''\n",
       "15. 'Barkworth, Mr. Algernon Henry Wilson'\n",
       "16. 'Baumann, Mr. John D'\n",
       "17. 'Baxter, Mr. Quigg Edmond'\n",
       "18. 'Baxter, Mrs. James (Helene DeLaudeniere Chaput)'\n",
       "19. 'Bazzani, Miss. Albina'\n",
       "20. 'Beattie, Mr. Thomson'\n",
       "21. 'Beckwith, Mr. Richard Leonard'\n",
       "22. 'Beckwith, Mrs. Richard Leonard (Sallie Monypeny)'\n",
       "23. 'Behr, Mr. Karl Howell'\n",
       "24. 'Bidois, Miss. Rosalie'\n",
       "25. 'Bird, Miss. Ellen'\n",
       "26. 'Birnbaum, Mr. Jakob'\n",
       "27. 'Bishop, Mr. Dickinson H'\n",
       "28. 'Bishop, Mrs. Dickinson H (Helen Walton)'\n",
       "29. 'Bissette, Miss. Amelia'\n",
       "30. 'Bjornstrom-Steffansson, Mr. Mauritz Hakan'\n",
       "\n",
       "\n"
      ],
      "text/plain": [
       " [1] \"Allen, Miss. Elisabeth Walton\"                    \n",
       " [2] \"Allison, Master. Hudson Trevor\"                   \n",
       " [3] \"Allison, Miss. Helen Loraine\"                     \n",
       " [4] \"Allison, Mr. Hudson Joshua Creighton\"             \n",
       " [5] \"Allison, Mrs. Hudson J C (Bessie Waldo Daniels)\"  \n",
       " [6] \"Anderson, Mr. Harry\"                              \n",
       " [7] \"Andrews, Miss. Kornelia Theodosia\"                \n",
       " [8] \"Andrews, Mr. Thomas Jr\"                           \n",
       " [9] \"Appleton, Mrs. Edward Dale (Charlotte Lamson)\"    \n",
       "[10] \"Artagaveytia, Mr. Ramon\"                          \n",
       "[11] \"Astor, Col. John Jacob\"                           \n",
       "[12] \"Astor, Mrs. John Jacob (Madeleine Talmadge Force)\"\n",
       "[13] \"Aubart, Mme. Leontine Pauline\"                    \n",
       "[14] \"Barber, Miss. Ellen 'Nellie'\"                     \n",
       "[15] \"Barkworth, Mr. Algernon Henry Wilson\"             \n",
       "[16] \"Baumann, Mr. John D\"                              \n",
       "[17] \"Baxter, Mr. Quigg Edmond\"                         \n",
       "[18] \"Baxter, Mrs. James (Helene DeLaudeniere Chaput)\"  \n",
       "[19] \"Bazzani, Miss. Albina\"                            \n",
       "[20] \"Beattie, Mr. Thomson\"                             \n",
       "[21] \"Beckwith, Mr. Richard Leonard\"                    \n",
       "[22] \"Beckwith, Mrs. Richard Leonard (Sallie Monypeny)\" \n",
       "[23] \"Behr, Mr. Karl Howell\"                            \n",
       "[24] \"Bidois, Miss. Rosalie\"                            \n",
       "[25] \"Bird, Miss. Ellen\"                                \n",
       "[26] \"Birnbaum, Mr. Jakob\"                              \n",
       "[27] \"Bishop, Mr. Dickinson H\"                          \n",
       "[28] \"Bishop, Mrs. Dickinson H (Helen Walton)\"          \n",
       "[29] \"Bissette, Miss. Amelia\"                           \n",
       "[30] \"Bjornstrom-Steffansson, Mr. Mauritz Hakan\"        "
      ]
     },
     "metadata": {},
     "output_type": "display_data"
    }
   ],
   "source": [
    "df$name %>% head(30)"
   ]
  },
  {
   "cell_type": "markdown",
   "id": "f53eb226-0854-4336-97bb-274c85f046bc",
   "metadata": {},
   "source": [
    "+ `sex`: 性別\n"
   ]
  },
  {
   "cell_type": "code",
   "execution_count": 16,
   "id": "db8c8aac-eb10-436e-a008-b3367f15aeed",
   "metadata": {},
   "outputs": [
    {
     "data": {
      "text/plain": [
       ".\n",
       "female   male \n",
       "   466    843 "
      ]
     },
     "metadata": {},
     "output_type": "display_data"
    }
   ],
   "source": [
    "df$sex %>% table(useNA = 'ifany')"
   ]
  },
  {
   "cell_type": "markdown",
   "id": "02698c54-08d1-4b6c-b38c-e102511c2273",
   "metadata": {},
   "source": [
    "+ `age`: 年齢"
   ]
  },
  {
   "cell_type": "code",
   "execution_count": 18,
   "id": "8ad871a7-107c-4e01-b8cb-1e1305d781be",
   "metadata": {},
   "outputs": [
    {
     "data": {
      "image/png": "[encoded data removed]",
      "text/plain": [
       "Plot with title \"Histogram of age\""
      ]
     },
     "metadata": {
      "image/png": {
       "height": 420,
       "width": 420
      }
     },
     "output_type": "display_data"
    }
   ],
   "source": [
    "# hist()\n",
    "# main　…図表のタイトル\n",
    "# xlab …x軸ラベル\n",
    "# breaks …階級の数\n",
    "\n",
    "df$age %>% hist(\n",
    "    main='Histogram of age',\n",
    "    xlab='Age',\n",
    "    breaks=40,\n",
    ")"
   ]
  },
  {
   "cell_type": "markdown",
   "id": "d8783c25-2bb9-44fb-a498-7bc1286ec737",
   "metadata": {},
   "source": [
    "+ `sibsp`: 同乗していた兄弟や配偶者の数(number of siblings / spouses )\n"
   ]
  },
  {
   "cell_type": "code",
   "execution_count": 19,
   "id": "e8631f98-abc9-4660-9a74-d2e7a7d4fe9a",
   "metadata": {},
   "outputs": [
    {
     "data": {
      "text/plain": [
       ".\n",
       "  0   1   2   3   4   5   8 \n",
       "891 319  42  20  22   6   9 "
      ]
     },
     "metadata": {},
     "output_type": "display_data"
    }
   ],
   "source": [
    "df$sibsp %>% table(useNA = 'ifany')"
   ]
  },
  {
   "cell_type": "markdown",
   "id": "38a2da26-88c5-487e-bca9-dcadf29cda4f",
   "metadata": {},
   "source": [
    "+ `parch`: 同乗していた両親や子供の数(number of parents / children)\n"
   ]
  },
  {
   "cell_type": "code",
   "execution_count": 20,
   "id": "e54c01e3-31a0-43cc-a141-0a2a38a25c9a",
   "metadata": {},
   "outputs": [
    {
     "data": {
      "text/plain": [
       ".\n",
       "   0    1    2    3    4    5    6    9 \n",
       "1002  170  113    8    6    6    2    2 "
      ]
     },
     "metadata": {},
     "output_type": "display_data"
    }
   ],
   "source": [
    "df$parch %>% table(useNA = 'ifany')"
   ]
  },
  {
   "cell_type": "markdown",
   "id": "fe4ffc0d-922c-4505-b030-9eba067fcf26",
   "metadata": {},
   "source": [
    "+ `ticket`: チケット番号"
   ]
  },
  {
   "cell_type": "code",
   "execution_count": 21,
   "id": "bea154ed-444a-4eda-bfd4-67996d7439af",
   "metadata": {},
   "outputs": [
    {
     "data": {
      "text/html": [
       "<style>\n",
       ".list-inline {list-style: none; margin:0; padding: 0}\n",
       ".list-inline>li {display: inline-block}\n",
       ".list-inline>li:not(:last-child)::after {content: \"\\00b7\"; padding: 0 .5ex}\n",
       "</style>\n",
       "<ol class=list-inline><li>'24160'</li><li>'113781'</li><li>'113781'</li><li>'113781'</li><li>'113781'</li><li>'19952'</li><li>'13502'</li><li>'112050'</li><li>'11769'</li><li>'PC 17609'</li><li>'PC 17757'</li><li>'PC 17757'</li><li>'PC 17477'</li><li>'19877'</li><li>'27042'</li><li>'PC 17318'</li><li>'PC 17558'</li><li>'PC 17558'</li><li>'11813'</li><li>'13050'</li><li>'11751'</li><li>'11751'</li><li>'111369'</li><li>'PC 17757'</li><li>'PC 17483'</li><li>'13905'</li><li>'11967'</li><li>'11967'</li><li>'PC 17760'</li><li>'110564'</li></ol>\n"
      ],
      "text/latex": [
       "\\begin{enumerate*}\n",
       "\\item '24160'\n",
       "\\item '113781'\n",
       "\\item '113781'\n",
       "\\item '113781'\n",
       "\\item '113781'\n",
       "\\item '19952'\n",
       "\\item '13502'\n",
       "\\item '112050'\n",
       "\\item '11769'\n",
       "\\item 'PC 17609'\n",
       "\\item 'PC 17757'\n",
       "\\item 'PC 17757'\n",
       "\\item 'PC 17477'\n",
       "\\item '19877'\n",
       "\\item '27042'\n",
       "\\item 'PC 17318'\n",
       "\\item 'PC 17558'\n",
       "\\item 'PC 17558'\n",
       "\\item '11813'\n",
       "\\item '13050'\n",
       "\\item '11751'\n",
       "\\item '11751'\n",
       "\\item '111369'\n",
       "\\item 'PC 17757'\n",
       "\\item 'PC 17483'\n",
       "\\item '13905'\n",
       "\\item '11967'\n",
       "\\item '11967'\n",
       "\\item 'PC 17760'\n",
       "\\item '110564'\n",
       "\\end{enumerate*}\n"
      ],
      "text/markdown": [
       "1. '24160'\n",
       "2. '113781'\n",
       "3. '113781'\n",
       "4. '113781'\n",
       "5. '113781'\n",
       "6. '19952'\n",
       "7. '13502'\n",
       "8. '112050'\n",
       "9. '11769'\n",
       "10. 'PC 17609'\n",
       "11. 'PC 17757'\n",
       "12. 'PC 17757'\n",
       "13. 'PC 17477'\n",
       "14. '19877'\n",
       "15. '27042'\n",
       "16. 'PC 17318'\n",
       "17. 'PC 17558'\n",
       "18. 'PC 17558'\n",
       "19. '11813'\n",
       "20. '13050'\n",
       "21. '11751'\n",
       "22. '11751'\n",
       "23. '111369'\n",
       "24. 'PC 17757'\n",
       "25. 'PC 17483'\n",
       "26. '13905'\n",
       "27. '11967'\n",
       "28. '11967'\n",
       "29. 'PC 17760'\n",
       "30. '110564'\n",
       "\n",
       "\n"
      ],
      "text/plain": [
       " [1] \"24160\"    \"113781\"   \"113781\"   \"113781\"   \"113781\"   \"19952\"   \n",
       " [7] \"13502\"    \"112050\"   \"11769\"    \"PC 17609\" \"PC 17757\" \"PC 17757\"\n",
       "[13] \"PC 17477\" \"19877\"    \"27042\"    \"PC 17318\" \"PC 17558\" \"PC 17558\"\n",
       "[19] \"11813\"    \"13050\"    \"11751\"    \"11751\"    \"111369\"   \"PC 17757\"\n",
       "[25] \"PC 17483\" \"13905\"    \"11967\"    \"11967\"    \"PC 17760\" \"110564\"  "
      ]
     },
     "metadata": {},
     "output_type": "display_data"
    }
   ],
   "source": [
    "df$ticket %>% head(30)"
   ]
  },
  {
   "cell_type": "markdown",
   "id": "87290e99-42f7-49f2-abb3-a056c0335a9b",
   "metadata": {},
   "source": [
    "+ `fare`: 運賃"
   ]
  },
  {
   "cell_type": "code",
   "execution_count": 23,
   "id": "0738dddd-245b-4ebc-9c1c-d448e202abee",
   "metadata": {},
   "outputs": [
    {
     "data": {
      "image/png": "[encoded data removed]",
      "text/plain": [
       "Plot with title \"Histogram of fare\""
      ]
     },
     "metadata": {
      "image/png": {
       "height": 420,
       "width": 420
      }
     },
     "output_type": "display_data"
    }
   ],
   "source": [
    "df$fare %>% hist(\n",
    "    main='Histogram of fare',\n",
    "    xlab='Fare',\n",
    "    breaks=40,\n",
    ")"
   ]
  },
  {
   "cell_type": "markdown",
   "id": "303ba3bf-9ca8-42c9-9eea-ff43dd1eed26",
   "metadata": {},
   "source": [
    "+ `cabin`: 客室番号"
   ]
  },
  {
   "cell_type": "code",
   "execution_count": 24,
   "id": "1c1d9a76-dc53-4b9b-8460-1d8432322402",
   "metadata": {},
   "outputs": [
    {
     "data": {
      "text/html": [
       "<style>\n",
       ".list-inline {list-style: none; margin:0; padding: 0}\n",
       ".list-inline>li {display: inline-block}\n",
       ".list-inline>li:not(:last-child)::after {content: \"\\00b7\"; padding: 0 .5ex}\n",
       "</style>\n",
       "<ol class=list-inline><li>'B5'</li><li>'C22 C26'</li><li>'C22 C26'</li><li>'C22 C26'</li><li>'C22 C26'</li><li>'E12'</li><li>'D7'</li><li>'A36'</li><li>'C101'</li><li>NA</li><li>'C62 C64'</li><li>'C62 C64'</li><li>'B35'</li><li>NA</li><li>'A23'</li><li>NA</li><li>'B58 B60'</li><li>'B58 B60'</li><li>'D15'</li><li>'C6'</li><li>'D35'</li><li>'D35'</li><li>'C148'</li><li>NA</li><li>'C97'</li><li>NA</li><li>'B49'</li><li>'B49'</li><li>'C99'</li><li>'C52'</li></ol>\n"
      ],
      "text/latex": [
       "\\begin{enumerate*}\n",
       "\\item 'B5'\n",
       "\\item 'C22 C26'\n",
       "\\item 'C22 C26'\n",
       "\\item 'C22 C26'\n",
       "\\item 'C22 C26'\n",
       "\\item 'E12'\n",
       "\\item 'D7'\n",
       "\\item 'A36'\n",
       "\\item 'C101'\n",
       "\\item NA\n",
       "\\item 'C62 C64'\n",
       "\\item 'C62 C64'\n",
       "\\item 'B35'\n",
       "\\item NA\n",
       "\\item 'A23'\n",
       "\\item NA\n",
       "\\item 'B58 B60'\n",
       "\\item 'B58 B60'\n",
       "\\item 'D15'\n",
       "\\item 'C6'\n",
       "\\item 'D35'\n",
       "\\item 'D35'\n",
       "\\item 'C148'\n",
       "\\item NA\n",
       "\\item 'C97'\n",
       "\\item NA\n",
       "\\item 'B49'\n",
       "\\item 'B49'\n",
       "\\item 'C99'\n",
       "\\item 'C52'\n",
       "\\end{enumerate*}\n"
      ],
      "text/markdown": [
       "1. 'B5'\n",
       "2. 'C22 C26'\n",
       "3. 'C22 C26'\n",
       "4. 'C22 C26'\n",
       "5. 'C22 C26'\n",
       "6. 'E12'\n",
       "7. 'D7'\n",
       "8. 'A36'\n",
       "9. 'C101'\n",
       "10. NA\n",
       "11. 'C62 C64'\n",
       "12. 'C62 C64'\n",
       "13. 'B35'\n",
       "14. NA\n",
       "15. 'A23'\n",
       "16. NA\n",
       "17. 'B58 B60'\n",
       "18. 'B58 B60'\n",
       "19. 'D15'\n",
       "20. 'C6'\n",
       "21. 'D35'\n",
       "22. 'D35'\n",
       "23. 'C148'\n",
       "24. NA\n",
       "25. 'C97'\n",
       "26. NA\n",
       "27. 'B49'\n",
       "28. 'B49'\n",
       "29. 'C99'\n",
       "30. 'C52'\n",
       "\n",
       "\n"
      ],
      "text/plain": [
       " [1] \"B5\"      \"C22 C26\" \"C22 C26\" \"C22 C26\" \"C22 C26\" \"E12\"     \"D7\"     \n",
       " [8] \"A36\"     \"C101\"    NA        \"C62 C64\" \"C62 C64\" \"B35\"     NA       \n",
       "[15] \"A23\"     NA        \"B58 B60\" \"B58 B60\" \"D15\"     \"C6\"      \"D35\"    \n",
       "[22] \"D35\"     \"C148\"    NA        \"C97\"     NA        \"B49\"     \"B49\"    \n",
       "[29] \"C99\"     \"C52\"    "
      ]
     },
     "metadata": {},
     "output_type": "display_data"
    }
   ],
   "source": [
    "df$cabin %>% head(30)"
   ]
  },
  {
   "cell_type": "markdown",
   "id": "d5c753e9-28fa-48b9-827f-53699e0105bc",
   "metadata": {},
   "source": [
    "+ `embarked`:出港地 \n",
    "    + C: Cherbourg\n",
    "    + Q: Queenstown\n",
    "    + S: Southampton\n"
   ]
  },
  {
   "cell_type": "code",
   "execution_count": 25,
   "id": "3f0e0df2-4ea2-4ce0-a87b-b85aabf628e3",
   "metadata": {},
   "outputs": [
    {
     "data": {
      "text/plain": [
       ".\n",
       "   C    Q    S <NA> \n",
       " 270  123  914    2 "
      ]
     },
     "metadata": {},
     "output_type": "display_data"
    }
   ],
   "source": [
    "df$embarked %>% table(useNA='ifany')"
   ]
  },
  {
   "cell_type": "markdown",
   "id": "28e21fd3-04bd-463e-bffb-8a2bd8fe7f77",
   "metadata": {},
   "source": [
    "+ `boat`: 救命ボートの番号\n"
   ]
  },
  {
   "cell_type": "code",
   "execution_count": 27,
   "id": "85e98f39-3a6b-410f-a58a-cf16cb996922",
   "metadata": {},
   "outputs": [
    {
     "data": {
      "text/plain": [
       ".\n",
       "      1      10      11      12      13   13 15 13 15 B      14      15   15 16 \n",
       "      5      29      25      19      39       2       1      33      37       1 \n",
       "     16       2       3       4       5     5 7     5 9       6       7       8 \n",
       "     23      13      26      31      27       2       1      20      23      23 \n",
       "   8 10       9       A       B       C     C D       D    <NA> \n",
       "      1      25      11       9      38       2      20     823 "
      ]
     },
     "metadata": {},
     "output_type": "display_data"
    }
   ],
   "source": [
    "df$boat %>% table(useNA='ifany')"
   ]
  },
  {
   "cell_type": "code",
   "execution_count": 28,
   "id": "2e7ba44c-ecf8-4645-9cb3-cbb76ded48bf",
   "metadata": {},
   "outputs": [
    {
     "data": {
      "text/plain": [
       ".\n",
       "FALSE  TRUE \n",
       "  486   823 "
      ]
     },
     "metadata": {},
     "output_type": "display_data"
    }
   ],
   "source": [
    "df$boat %>% is.na() %>% table()"
   ]
  },
  {
   "cell_type": "markdown",
   "id": "2dab5057-5ec3-4a62-94ac-f0c136d0a893",
   "metadata": {},
   "source": [
    "+ `body`: 遺体収容時の識別番号"
   ]
  },
  {
   "cell_type": "code",
   "execution_count": 29,
   "id": "91c74214-cacf-4cdf-8ee8-59dcc282c297",
   "metadata": {},
   "outputs": [
    {
     "data": {
      "text/plain": [
       ".\n",
       "   1    4    7    9   14   15   16   17   18   19   22   32   35   37   38   43 \n",
       "   1    1    1    1    1    1    1    1    1    1    1    1    1    1    1    1 \n",
       "  45   46   47   50   51   52   53   58   61   62   67   68   69   70   72   75 \n",
       "   1    1    1    1    1    1    1    1    1    1    1    1    1    1    1    1 \n",
       "  79   80   81   89   96   97   98  101  103  108  109  110  119  120  121  122 \n",
       "   1    1    1    1    1    1    1    1    1    1    1    1    1    1    1    1 \n",
       " 124  126  130  131  133  135  142  143  147  148  149  153  155  156  165  166 \n",
       "   1    1    1    1    1    1    1    1    1    1    1    1    1    1    1    1 \n",
       " 169  171  172  173  174  175  176  181  187  188  189  190  196  197  201  206 \n",
       "   1    1    1    1    1    1    1    1    1    1    1    1    1    1    1    1 \n",
       " 207  208  209  230  232  234  236  245  249  255  256  258  259  260  261  263 \n",
       "   1    1    1    1    1    1    1    1    1    1    1    1    1    1    1    1 \n",
       " 269  271  275  283  284  285  286  287  292  293  294  295  297  298  299  304 \n",
       "   1    1    1    1    1    1    1    1    1    1    1    1    1    1    1    1 \n",
       " 305  306  307  309  312  314  322  327  328 <NA> \n",
       "   1    1    1    1    1    1    1    1    1 1188 "
      ]
     },
     "metadata": {},
     "output_type": "display_data"
    }
   ],
   "source": [
    "df$body %>% table(useNA='ifany')"
   ]
  },
  {
   "cell_type": "code",
   "execution_count": 30,
   "id": "e2e86dc3-8c75-4fda-a4b9-f00af8b53724",
   "metadata": {},
   "outputs": [
    {
     "data": {
      "text/plain": [
       ".\n",
       "FALSE  TRUE \n",
       "  121  1188 "
      ]
     },
     "metadata": {},
     "output_type": "display_data"
    }
   ],
   "source": [
    "df$body %>% is.na() %>% table()"
   ]
  },
  {
   "cell_type": "markdown",
   "id": "f9b23668-1a0e-4051-b31c-99861e70f7df",
   "metadata": {},
   "source": [
    "+ `home.dest`: 自宅または目的地"
   ]
  },
  {
   "cell_type": "code",
   "execution_count": 31,
   "id": "a7687293-4cd9-4bcc-86cd-1e48baa6298f",
   "metadata": {},
   "outputs": [
    {
     "data": {
      "text/html": [
       "<style>\n",
       ".list-inline {list-style: none; margin:0; padding: 0}\n",
       ".list-inline>li {display: inline-block}\n",
       ".list-inline>li:not(:last-child)::after {content: \"\\00b7\"; padding: 0 .5ex}\n",
       "</style>\n",
       "<ol class=list-inline><li>'St Louis, MO'</li><li>'Montreal, PQ / Chesterville, ON'</li><li>'Montreal, PQ / Chesterville, ON'</li><li>'Montreal, PQ / Chesterville, ON'</li><li>'Montreal, PQ / Chesterville, ON'</li><li>'New York, NY'</li><li>'Hudson, NY'</li><li>'Belfast, NI'</li><li>'Bayside, Queens, NY'</li><li>'Montevideo, Uruguay'</li><li>'New York, NY'</li><li>'New York, NY'</li><li>'Paris, France'</li><li>NA</li><li>'Hessle, Yorks'</li><li>'New York, NY'</li><li>'Montreal, PQ'</li><li>'Montreal, PQ'</li><li>NA</li><li>'Winnipeg, MN'</li><li>'New York, NY'</li><li>'New York, NY'</li><li>'New York, NY'</li><li>NA</li><li>NA</li><li>'San Francisco, CA'</li><li>'Dowagiac, MI'</li><li>'Dowagiac, MI'</li><li>NA</li><li>'Stockholm, Sweden / Washington, DC'</li></ol>\n"
      ],
      "text/latex": [
       "\\begin{enumerate*}\n",
       "\\item 'St Louis, MO'\n",
       "\\item 'Montreal, PQ / Chesterville, ON'\n",
       "\\item 'Montreal, PQ / Chesterville, ON'\n",
       "\\item 'Montreal, PQ / Chesterville, ON'\n",
       "\\item 'Montreal, PQ / Chesterville, ON'\n",
       "\\item 'New York, NY'\n",
       "\\item 'Hudson, NY'\n",
       "\\item 'Belfast, NI'\n",
       "\\item 'Bayside, Queens, NY'\n",
       "\\item 'Montevideo, Uruguay'\n",
       "\\item 'New York, NY'\n",
       "\\item 'New York, NY'\n",
       "\\item 'Paris, France'\n",
       "\\item NA\n",
       "\\item 'Hessle, Yorks'\n",
       "\\item 'New York, NY'\n",
       "\\item 'Montreal, PQ'\n",
       "\\item 'Montreal, PQ'\n",
       "\\item NA\n",
       "\\item 'Winnipeg, MN'\n",
       "\\item 'New York, NY'\n",
       "\\item 'New York, NY'\n",
       "\\item 'New York, NY'\n",
       "\\item NA\n",
       "\\item NA\n",
       "\\item 'San Francisco, CA'\n",
       "\\item 'Dowagiac, MI'\n",
       "\\item 'Dowagiac, MI'\n",
       "\\item NA\n",
       "\\item 'Stockholm, Sweden / Washington, DC'\n",
       "\\end{enumerate*}\n"
      ],
      "text/markdown": [
       "1. 'St Louis, MO'\n",
       "2. 'Montreal, PQ / Chesterville, ON'\n",
       "3. 'Montreal, PQ / Chesterville, ON'\n",
       "4. 'Montreal, PQ / Chesterville, ON'\n",
       "5. 'Montreal, PQ / Chesterville, ON'\n",
       "6. 'New York, NY'\n",
       "7. 'Hudson, NY'\n",
       "8. 'Belfast, NI'\n",
       "9. 'Bayside, Queens, NY'\n",
       "10. 'Montevideo, Uruguay'\n",
       "11. 'New York, NY'\n",
       "12. 'New York, NY'\n",
       "13. 'Paris, France'\n",
       "14. NA\n",
       "15. 'Hessle, Yorks'\n",
       "16. 'New York, NY'\n",
       "17. 'Montreal, PQ'\n",
       "18. 'Montreal, PQ'\n",
       "19. NA\n",
       "20. 'Winnipeg, MN'\n",
       "21. 'New York, NY'\n",
       "22. 'New York, NY'\n",
       "23. 'New York, NY'\n",
       "24. NA\n",
       "25. NA\n",
       "26. 'San Francisco, CA'\n",
       "27. 'Dowagiac, MI'\n",
       "28. 'Dowagiac, MI'\n",
       "29. NA\n",
       "30. 'Stockholm, Sweden / Washington, DC'\n",
       "\n",
       "\n"
      ],
      "text/plain": [
       " [1] \"St Louis, MO\"                       \"Montreal, PQ / Chesterville, ON\"   \n",
       " [3] \"Montreal, PQ / Chesterville, ON\"    \"Montreal, PQ / Chesterville, ON\"   \n",
       " [5] \"Montreal, PQ / Chesterville, ON\"    \"New York, NY\"                      \n",
       " [7] \"Hudson, NY\"                         \"Belfast, NI\"                       \n",
       " [9] \"Bayside, Queens, NY\"                \"Montevideo, Uruguay\"               \n",
       "[11] \"New York, NY\"                       \"New York, NY\"                      \n",
       "[13] \"Paris, France\"                      NA                                  \n",
       "[15] \"Hessle, Yorks\"                      \"New York, NY\"                      \n",
       "[17] \"Montreal, PQ\"                       \"Montreal, PQ\"                      \n",
       "[19] NA                                   \"Winnipeg, MN\"                      \n",
       "[21] \"New York, NY\"                       \"New York, NY\"                      \n",
       "[23] \"New York, NY\"                       NA                                  \n",
       "[25] NA                                   \"San Francisco, CA\"                 \n",
       "[27] \"Dowagiac, MI\"                       \"Dowagiac, MI\"                      \n",
       "[29] NA                                   \"Stockholm, Sweden / Washington, DC\""
      ]
     },
     "metadata": {},
     "output_type": "display_data"
    }
   ],
   "source": [
    "df$home.dest %>% head(30)"
   ]
  },
  {
   "cell_type": "markdown",
   "id": "c847c88b-3075-4a30-8a44-dc911baa2bc7",
   "metadata": {},
   "source": [
    "## ２変数の記述統計\n",
    "\n",
    "+ 「何が生存につながったのか」を検討するために各変数と生存との関係性をみていく\n",
    "\n",
    "### 質的変数×質的変数\n",
    "\n",
    "+ 性別(2値)×生存(2値)のような質的変数同士の関連を見て行く\n",
    "    + クロス表/分割表\n",
    "        + $ \\chi ^ 2 $ 検定: 独立性の検定ができる\n",
    "        + 連関の指標\n",
    "    + モザイクプロット\n",
    "        + クロス表を積み上げグラフとして図示\n",
    "        + 面積が各セルに比例\n"
   ]
  },
  {
   "cell_type": "code",
   "execution_count": 34,
   "id": "29ac2575-c257-4eba-b887-dc95b88291af",
   "metadata": {},
   "outputs": [
    {
     "name": "stdout",
     "output_type": "stream",
     "text": [
      "      survived\n",
      "pclass   0   1\n",
      "     1 123 200\n",
      "     2 158 119\n",
      "     3 528 181\n"
     ]
    }
   ],
   "source": [
    "# 分割表\n",
    "x = df[c('pclass', 'survived')] %>% table()\n",
    "print(x)"
   ]
  },
  {
   "cell_type": "code",
   "execution_count": 35,
   "id": "872c7800-448f-42fa-83f1-c4ee4bab6b6c",
   "metadata": {},
   "outputs": [
    {
     "data": {
      "text/plain": [
       "\n",
       "\tPearson's Chi-squared test\n",
       "\n",
       "data:  x\n",
       "X-squared = 127.86, df = 2, p-value < 2.2e-16\n"
      ]
     },
     "metadata": {},
     "output_type": "display_data"
    }
   ],
   "source": [
    "# カイ二乗検定\n",
    "chisq.test(x)"
   ]
  },
  {
   "cell_type": "code",
   "execution_count": 36,
   "id": "a1de34d7-9079-4551-8aa9-a11f499c2039",
   "metadata": {},
   "outputs": [
    {
     "data": {
      "text/plain": [
       "                    X^2 df P(> X^2)\n",
       "Likelihood Ratio 127.77  2        0\n",
       "Pearson          127.86  2        0\n",
       "\n",
       "Phi-Coefficient   : NA \n",
       "Contingency Coeff.: 0.298 \n",
       "Cramer's V        : 0.313 "
      ]
     },
     "metadata": {},
     "output_type": "display_data"
    }
   ],
   "source": [
    "# 連関の指標をを出す関数\n",
    "# vcdに入っている\n",
    "assocstats(x)"
   ]
  },
  {
   "cell_type": "code",
   "execution_count": 37,
   "id": "26b6c530-eb7a-4ef6-a286-ddcaa6babd05",
   "metadata": {},
   "outputs": [
    {
     "data": {
      "image/png": "[encoded data removed]",
      "text/plain": [
       "plot without title"
      ]
     },
     "metadata": {
      "image/png": {
       "height": 420,
       "width": 420
      }
     },
     "output_type": "display_data"
    }
   ],
   "source": [
    "# モザイクプロット (vcd)\n",
    "mosaic(survived ~ pclass, data=df)"
   ]
  },
  {
   "cell_type": "code",
   "execution_count": 38,
   "id": "4fb0ae7e-ad87-4282-b392-d2bd1e73d280",
   "metadata": {},
   "outputs": [],
   "source": [
    "# 表示用の関数を作る\n",
    "\n",
    "show_association = function(data){\n",
    "    # クロス表を得る\n",
    "    x = data %>% table()\n",
    "    # カイ二乗検定をする\n",
    "    result = chisq.test(x)\n",
    "    print(x)\n",
    "    print(result)\n",
    "    # 連関の指標を出す\n",
    "    print(assocstats(x))\n",
    "}"
   ]
  },
  {
   "cell_type": "code",
   "execution_count": 40,
   "id": "7677f70d-babd-482a-a0db-2c3286f76fef",
   "metadata": {},
   "outputs": [
    {
     "name": "stdout",
     "output_type": "stream",
     "text": [
      "      survived\n",
      "pclass   0   1\n",
      "     1 123 200\n",
      "     2 158 119\n",
      "     3 528 181\n",
      "\n",
      "\tPearson's Chi-squared test\n",
      "\n",
      "data:  x\n",
      "X-squared = 127.86, df = 2, p-value < 2.2e-16\n",
      "\n",
      "                    X^2 df P(> X^2)\n",
      "Likelihood Ratio 127.77  2        0\n",
      "Pearson          127.86  2        0\n",
      "\n",
      "Phi-Coefficient   : NA \n",
      "Contingency Coeff.: 0.298 \n",
      "Cramer's V        : 0.313 \n"
     ]
    },
    {
     "data": {
      "image/png": "[encoded data removed]",
      "text/plain": [
       "plot without title"
      ]
     },
     "metadata": {
      "image/png": {
       "height": 420,
       "width": 420
      }
     },
     "output_type": "display_data"
    }
   ],
   "source": [
    "# 旅客等級\n",
    "show_association(df[c('pclass', 'survived')])\n",
    "mosaic(survived ~ pclass, data=df)"
   ]
  },
  {
   "cell_type": "code",
   "execution_count": 41,
   "id": "8c1d82e3-d72c-47a8-a4e6-d76916a37433",
   "metadata": {},
   "outputs": [
    {
     "name": "stdout",
     "output_type": "stream",
     "text": [
      "        survived\n",
      "sex        0   1\n",
      "  female 127 339\n",
      "  male   682 161\n",
      "\n",
      "\tPearson's Chi-squared test with Yates' continuity correction\n",
      "\n",
      "data:  x\n",
      "X-squared = 363.62, df = 1, p-value < 2.2e-16\n",
      "\n",
      "                    X^2 df P(> X^2)\n",
      "Likelihood Ratio 372.92  1        0\n",
      "Pearson          365.89  1        0\n",
      "\n",
      "Phi-Coefficient   : 0.529 \n",
      "Contingency Coeff.: 0.467 \n",
      "Cramer's V        : 0.529 \n"
     ]
    },
    {
     "data": {
      "image/png": "[encoded data removed]",
      "text/plain": [
       "plot without title"
      ]
     },
     "metadata": {
      "image/png": {
       "height": 420,
       "width": 420
      }
     },
     "output_type": "display_data"
    }
   ],
   "source": [
    "# 性別\n",
    "show_association(df[c('sex', 'survived')])\n",
    "mosaic(survived ~ sex, data=df)"
   ]
  },
  {
   "cell_type": "code",
   "execution_count": 42,
   "id": "94446475-7b7e-4338-a892-e1963b82ce04",
   "metadata": {},
   "outputs": [
    {
     "data": {
      "text/plain": [
       "     survived\n",
       "sibsp   0   1\n",
       "    0 582 309\n",
       "    1 156 163\n",
       "    2  23  19\n",
       "    3  14   6\n",
       "    4  19   3\n",
       "    5   6   0\n",
       "    8   9   0"
      ]
     },
     "metadata": {},
     "output_type": "display_data"
    }
   ],
   "source": [
    "# 兄弟/配偶者\n",
    "df %>% select(sibsp, survived) %>% table()"
   ]
  },
  {
   "cell_type": "code",
   "execution_count": 44,
   "id": "c0ee0929-443b-4ab7-8fad-96dc3cb73427",
   "metadata": {},
   "outputs": [],
   "source": [
    "# 変数を合成\n",
    "df$sibsp_combined = ifelse(df$sibsp >= 3, 3, df$sibsp)"
   ]
  },
  {
   "cell_type": "code",
   "execution_count": 46,
   "id": "d0025709-f27c-4029-9400-c30f0d3da251",
   "metadata": {},
   "outputs": [
    {
     "name": "stdout",
     "output_type": "stream",
     "text": [
      "              survived\n",
      "sibsp_combined   0   1\n",
      "             0 582 309\n",
      "             1 156 163\n",
      "             2  23  19\n",
      "             3  48   9\n",
      "\n",
      "\tPearson's Chi-squared test\n",
      "\n",
      "data:  x\n",
      "X-squared = 40.161, df = 3, p-value = 9.849e-09\n",
      "\n",
      "                    X^2 df   P(> X^2)\n",
      "Likelihood Ratio 41.204  3 5.9205e-09\n",
      "Pearson          40.161  3 9.8488e-09\n",
      "\n",
      "Phi-Coefficient   : NA \n",
      "Contingency Coeff.: 0.173 \n",
      "Cramer's V        : 0.175 \n"
     ]
    },
    {
     "data": {
      "image/png": "[encoded data removed]",
      "text/plain": [
       "plot without title"
      ]
     },
     "metadata": {
      "image/png": {
       "height": 420,
       "width": 420
      }
     },
     "output_type": "display_data"
    }
   ],
   "source": [
    "show_association(df[c('sibsp_combined', 'survived')])\n",
    "mosaic(survived ~ sibsp_combined, data=df)"
   ]
  },
  {
   "cell_type": "code",
   "execution_count": 47,
   "id": "0b0f2f30-8149-4a05-ae55-18d8c1c699b0",
   "metadata": {},
   "outputs": [
    {
     "data": {
      "text/plain": [
       "     survived\n",
       "parch   0   1\n",
       "    0 666 336\n",
       "    1  70 100\n",
       "    2  56  57\n",
       "    3   3   5\n",
       "    4   5   1\n",
       "    5   5   1\n",
       "    6   2   0\n",
       "    9   2   0"
      ]
     },
     "metadata": {},
     "output_type": "display_data"
    }
   ],
   "source": [
    "# 両親/子供\n",
    "df %>% select(parch, survived) %>% table()"
   ]
  },
  {
   "cell_type": "code",
   "execution_count": 48,
   "id": "e16377b3-007d-4d92-be67-d19e27b85572",
   "metadata": {},
   "outputs": [],
   "source": [
    "df$parch_combined = ifelse(df$parch >= 3, 3, df$parch)"
   ]
  },
  {
   "cell_type": "code",
   "execution_count": 49,
   "id": "e3f982ce-d110-48bb-a59c-6fc5bdf3fa5f",
   "metadata": {},
   "outputs": [
    {
     "data": {
      "text/plain": [
       ".\n",
       "   0    1    2    3 \n",
       "1002  170  113   24 "
      ]
     },
     "metadata": {},
     "output_type": "display_data"
    }
   ],
   "source": [
    "df$parch_combined %>% table()"
   ]
  },
  {
   "cell_type": "code",
   "execution_count": 50,
   "id": "57f70124-202f-4823-86b1-08c97b9da5f0",
   "metadata": {},
   "outputs": [
    {
     "name": "stdout",
     "output_type": "stream",
     "text": [
      "              survived\n",
      "parch_combined   0   1\n",
      "             0 666 336\n",
      "             1  70 100\n",
      "             2  56  57\n",
      "             3  17   7\n",
      "\n",
      "\tPearson's Chi-squared test\n",
      "\n",
      "data:  x\n",
      "X-squared = 47.878, df = 3, p-value = 2.26e-10\n",
      "\n",
      "                    X^2 df   P(> X^2)\n",
      "Likelihood Ratio 46.730  3 3.9665e-10\n",
      "Pearson          47.878  3 2.2604e-10\n",
      "\n",
      "Phi-Coefficient   : NA \n",
      "Contingency Coeff.: 0.188 \n",
      "Cramer's V        : 0.191 \n"
     ]
    },
    {
     "data": {
      "image/png": "[encoded data removed]",
      "text/plain": [
       "plot without title"
      ]
     },
     "metadata": {
      "image/png": {
       "height": 420,
       "width": 420
      }
     },
     "output_type": "display_data"
    }
   ],
   "source": [
    "show_association(df[c('parch_combined', 'survived')])\n",
    "mosaic(survived ~ parch_combined, data=df)"
   ]
  },
  {
   "cell_type": "code",
   "execution_count": 51,
   "id": "5b2b9853-07cc-494b-b249-b518e855fb12",
   "metadata": {},
   "outputs": [
    {
     "name": "stdout",
     "output_type": "stream",
     "text": [
      "        survived\n",
      "embarked   0   1\n",
      "       C 120 150\n",
      "       Q  79  44\n",
      "       S 610 304\n",
      "\n",
      "\tPearson's Chi-squared test\n",
      "\n",
      "data:  x\n",
      "X-squared = 44.242, df = 2, p-value = 2.472e-10\n",
      "\n",
      "                    X^2 df   P(> X^2)\n",
      "Likelihood Ratio 43.173  2 4.2177e-10\n",
      "Pearson          44.242  2 2.4719e-10\n",
      "\n",
      "Phi-Coefficient   : NA \n",
      "Contingency Coeff.: 0.181 \n",
      "Cramer's V        : 0.184 \n"
     ]
    },
    {
     "data": {
      "image/png": "[encoded data removed]",
      "text/plain": [
       "plot without title"
      ]
     },
     "metadata": {
      "image/png": {
       "height": 420,
       "width": 420
      }
     },
     "output_type": "display_data"
    }
   ],
   "source": [
    "# 出港地\n",
    "show_association(df[c('embarked', 'survived')])\n",
    "mosaic(survived ~ embarked, data=df)"
   ]
  },
  {
   "cell_type": "code",
   "execution_count": 52,
   "id": "38700baf-a119-49de-b92f-2f1b1d6d1753",
   "metadata": {},
   "outputs": [
    {
     "name": "stdout",
     "output_type": "stream",
     "text": [
      "        pclass\n",
      "embarked   1   2   3\n",
      "       C 141  28 101\n",
      "       Q   3   7 113\n",
      "       S 177 242 495\n",
      "\n",
      "\tPearson's Chi-squared test\n",
      "\n",
      "data:  x\n",
      "X-squared = 205.79, df = 4, p-value < 2.2e-16\n",
      "\n",
      "                    X^2 df P(> X^2)\n",
      "Likelihood Ratio 206.42  4        0\n",
      "Pearson          205.79  4        0\n",
      "\n",
      "Phi-Coefficient   : NA \n",
      "Contingency Coeff.: 0.369 \n",
      "Cramer's V        : 0.281 \n"
     ]
    },
    {
     "data": {
      "image/png": "[encoded data removed]",
      "text/plain": [
       "plot without title"
      ]
     },
     "metadata": {
      "image/png": {
       "height": 420,
       "width": 420
      }
     },
     "output_type": "display_data"
    }
   ],
   "source": [
    "show_association(df[c('embarked', 'pclass')])\n",
    "mosaic(pclass ~ embarked, data=df)"
   ]
  },
  {
   "cell_type": "code",
   "execution_count": 53,
   "id": "022578b3-9cae-401d-a723-2d1f877c2e2c",
   "metadata": {},
   "outputs": [
    {
     "name": "stdout",
     "output_type": "stream",
     "text": [
      "        sex\n",
      "embarked female male\n",
      "       C    113  157\n",
      "       Q     60   63\n",
      "       S    291  623\n",
      "\n",
      "\tPearson's Chi-squared test\n",
      "\n",
      "data:  x\n",
      "X-squared = 19.584, df = 2, p-value = 5.589e-05\n",
      "\n",
      "                    X^2 df   P(> X^2)\n",
      "Likelihood Ratio 19.178  2 6.8487e-05\n",
      "Pearson          19.584  2 5.5891e-05\n",
      "\n",
      "Phi-Coefficient   : NA \n",
      "Contingency Coeff.: 0.122 \n",
      "Cramer's V        : 0.122 \n"
     ]
    },
    {
     "data": {
      "image/png": "[encoded data removed]",
      "text/plain": [
       "plot without title"
      ]
     },
     "metadata": {
      "image/png": {
       "height": 420,
       "width": 420
      }
     },
     "output_type": "display_data"
    }
   ],
   "source": [
    "show_association(df[c('embarked', 'sex')])\n",
    "mosaic(sex ~ embarked, data=df)"
   ]
  },
  {
   "cell_type": "code",
   "execution_count": null,
   "id": "53666a41-35b1-4ac8-93b1-9dcd1a7e4c49",
   "metadata": {},
   "outputs": [],
   "source": [
    "# 救命ボート"
   ]
  },
  {
   "cell_type": "code",
   "execution_count": 54,
   "id": "405bc4f1-1ec9-49c5-be0c-09bbd5a2ba9e",
   "metadata": {},
   "outputs": [
    {
     "data": {
      "text/plain": [
       ".\n",
       "FALSE  TRUE \n",
       "  486   823 "
      ]
     },
     "metadata": {},
     "output_type": "display_data"
    }
   ],
   "source": [
    "df$boat %>% is.na() %>% table()"
   ]
  },
  {
   "cell_type": "code",
   "execution_count": 56,
   "id": "05bac3d0-33b6-40fb-80fc-a4f5443b713c",
   "metadata": {},
   "outputs": [],
   "source": [
    "df$is_on_boat = ! is.na(df$boat)"
   ]
  },
  {
   "cell_type": "code",
   "execution_count": 57,
   "id": "75d72542-b102-4796-b05a-0f90e9ef449c",
   "metadata": {},
   "outputs": [
    {
     "data": {
      "text/plain": [
       ".\n",
       "FALSE  TRUE \n",
       "  823   486 "
      ]
     },
     "metadata": {},
     "output_type": "display_data"
    }
   ],
   "source": [
    "df$is_on_boat %>% table()"
   ]
  },
  {
   "cell_type": "code",
   "execution_count": 58,
   "id": "ac825024-21a3-4058-b6c3-a0efa2e4b706",
   "metadata": {},
   "outputs": [
    {
     "name": "stdout",
     "output_type": "stream",
     "text": [
      "          survived\n",
      "is_on_boat   0   1\n",
      "     FALSE 800  23\n",
      "     TRUE    9 477\n",
      "\n",
      "\tPearson's Chi-squared test with Yates' continuity correction\n",
      "\n",
      "data:  x\n",
      "X-squared = 1172.8, df = 1, p-value < 2.2e-16\n",
      "\n",
      "                    X^2 df P(> X^2)\n",
      "Likelihood Ratio 1441.5  1        0\n",
      "Pearson          1176.9  1        0\n",
      "\n",
      "Phi-Coefficient   : 0.948 \n",
      "Contingency Coeff.: 0.688 \n",
      "Cramer's V        : 0.948 \n"
     ]
    },
    {
     "data": {
      "image/png": "[encoded data removed]",
      "text/plain": [
       "plot without title"
      ]
     },
     "metadata": {
      "image/png": {
       "height": 420,
       "width": 420
      }
     },
     "output_type": "display_data"
    }
   ],
   "source": [
    "show_association(df[c('is_on_boat', 'survived')])\n",
    "mosaic(survived ~ is_on_boat, data=df)"
   ]
  },
  {
   "cell_type": "markdown",
   "id": "0141aa11-7d02-4374-a058-4353cfede739",
   "metadata": {},
   "source": [
    "### 量的変数×質的変数\n"
   ]
  },
  {
   "cell_type": "markdown",
   "id": "a14c09cd-16e3-4b81-923c-9c120b4f94a8",
   "metadata": {},
   "source": [
    "#### 箱ひげ図"
   ]
  },
  {
   "cell_type": "code",
   "execution_count": 59,
   "id": "45c2eafb-2914-403d-9c75-f287dd59c4b5",
   "metadata": {},
   "outputs": [
    {
     "data": {
      "image/png": "[encoded data removed]",
      "text/plain": [
       "plot without title"
      ]
     },
     "metadata": {
      "image/png": {
       "height": 420,
       "width": 420
      }
     },
     "output_type": "display_data"
    }
   ],
   "source": [
    "# 年齢\n",
    "boxplot(age ~ survived, data=df)"
   ]
  },
  {
   "cell_type": "code",
   "execution_count": 60,
   "id": "bb14cdd6-3fa6-47d7-8707-a5432faa79d3",
   "metadata": {},
   "outputs": [
    {
     "data": {
      "image/png": "[encoded data removed]",
      "text/plain": [
       "plot without title"
      ]
     },
     "metadata": {
      "image/png": {
       "height": 420,
       "width": 420
      }
     },
     "output_type": "display_data"
    }
   ],
   "source": [
    "# 運賃\n",
    "boxplot(fare ~ survived, data=df)"
   ]
  },
  {
   "cell_type": "code",
   "execution_count": 62,
   "id": "e85a7c03-79bc-464b-bded-1fd155f89ab2",
   "metadata": {},
   "outputs": [],
   "source": [
    "# ヒストグラムの比較\n",
    "dead = df %>% filter(survived==0)\n",
    "alive = df %>% filter(survived==1)\n"
   ]
  },
  {
   "cell_type": "code",
   "execution_count": 65,
   "id": "c258d159-45d0-40b2-a48f-ebf093458d84",
   "metadata": {},
   "outputs": [
    {
     "data": {
      "image/png": "[encoded data removed]",
      "text/plain": [
       "Plot with title \"Histogram of .\""
      ]
     },
     "metadata": {
      "image/png": {
       "height": 420,
       "width": 420
      }
     },
     "output_type": "display_data"
    }
   ],
   "source": [
    "# 年齢\n",
    "dead$age %>% hist(col='#FF00007f', breaks=40)\n",
    "alive$age %>% hist(col='#0000FF7f', breaks=40, add=T)"
   ]
  },
  {
   "cell_type": "code",
   "execution_count": 66,
   "id": "92ed7ca0-f8bd-4c75-b2e4-b3abaea08eec",
   "metadata": {},
   "outputs": [
    {
     "data": {
      "image/png": "[encoded data removed]",
      "text/plain": [
       "Plot with title \"Histogram of .\""
      ]
     },
     "metadata": {
      "image/png": {
       "height": 420,
       "width": 420
      }
     },
     "output_type": "display_data"
    }
   ],
   "source": [
    "# 運賃\n",
    "dead$fare %>% hist(col='#FF00007f', breaks=40)\n",
    "alive$fare %>% hist(col='#0000FF7f', breaks=40, add=T)"
   ]
  },
  {
   "cell_type": "code",
   "execution_count": 68,
   "id": "176af21f-508e-42d2-adac-36cd744ce8bd",
   "metadata": {},
   "outputs": [
    {
     "data": {
      "text/html": [
       "<table class=\"dataframe\">\n",
       "<caption>A matrix: 2 × 2 of type dbl</caption>\n",
       "<thead>\n",
       "\t<tr><th></th><th scope=col>fare</th><th scope=col>age</th></tr>\n",
       "</thead>\n",
       "<tbody>\n",
       "\t<tr><th scope=row>fare</th><td>1.0000000</td><td>0.1787393</td></tr>\n",
       "\t<tr><th scope=row>age</th><td>0.1787393</td><td>1.0000000</td></tr>\n",
       "</tbody>\n",
       "</table>\n"
      ],
      "text/latex": [
       "A matrix: 2 × 2 of type dbl\n",
       "\\begin{tabular}{r|ll}\n",
       "  & fare & age\\\\\n",
       "\\hline\n",
       "\tfare & 1.0000000 & 0.1787393\\\\\n",
       "\tage & 0.1787393 & 1.0000000\\\\\n",
       "\\end{tabular}\n"
      ],
      "text/markdown": [
       "\n",
       "A matrix: 2 × 2 of type dbl\n",
       "\n",
       "| <!--/--> | fare | age |\n",
       "|---|---|---|\n",
       "| fare | 1.0000000 | 0.1787393 |\n",
       "| age | 0.1787393 | 1.0000000 |\n",
       "\n"
      ],
      "text/plain": [
       "     fare      age      \n",
       "fare 1.0000000 0.1787393\n",
       "age  0.1787393 1.0000000"
      ]
     },
     "metadata": {},
     "output_type": "display_data"
    },
    {
     "data": {
      "image/png": "[encoded data removed]",
      "text/plain": [
       "plot without title"
      ]
     },
     "metadata": {
      "image/png": {
       "height": 420,
       "width": 420
      }
     },
     "output_type": "display_data"
    }
   ],
   "source": [
    "# 散布図\n",
    "df %>% select(fare, age) %>% plot()\n",
    "df %>% select(fare, age) %>% cor(use='pairwise')"
   ]
  },
  {
   "cell_type": "markdown",
   "id": "ec42a689-06e8-4eaf-93bc-fd32a08a9ed2",
   "metadata": {},
   "source": [
    "## ３変数以上の解析"
   ]
  },
  {
   "cell_type": "code",
   "execution_count": 69,
   "id": "bb9aedca-0afa-4735-a861-90a8d4af4e2b",
   "metadata": {},
   "outputs": [
    {
     "data": {
      "image/png": "[encoded data removed]",
      "text/plain": [
       "Plot with title \"Histogram of df$age\""
      ]
     },
     "metadata": {
      "image/png": {
       "height": 420,
       "width": 420
      }
     },
     "output_type": "display_data"
    }
   ],
   "source": [
    "# 年齢の層別解析\n",
    "hist(df$age, breaks=40)"
   ]
  },
  {
   "cell_type": "code",
   "execution_count": 70,
   "id": "81c4fed2-7567-468e-8de9-879cdc239a7d",
   "metadata": {},
   "outputs": [],
   "source": [
    "df$age_strata =cut(\n",
    "    df$age,\n",
    "    breaks=c(0, 10, 20, 30, 40, 50, 60, 100),\n",
    "    c('0-9', '10-19', '20-29', '30-39', '40-49', '50-59', '60-'),\n",
    "    right=F, #以下にするか未満にするか\n",
    "    include.lowest=T\n",
    "    )\n",
    "    "
   ]
  },
  {
   "cell_type": "code",
   "execution_count": 71,
   "id": "1f3961e9-6d57-40ee-8690-d4465e4f8864",
   "metadata": {},
   "outputs": [
    {
     "data": {
      "text/plain": [
       ".\n",
       "  0-9 10-19 20-29 30-39 40-49 50-59   60- \n",
       "   82   143   344   232   135    70    40 "
      ]
     },
     "metadata": {},
     "output_type": "display_data"
    }
   ],
   "source": [
    "df$age_strata %>% table()"
   ]
  },
  {
   "cell_type": "code",
   "execution_count": 72,
   "id": "0ed0570b-6eaa-4356-8195-3de47b3a7a17",
   "metadata": {},
   "outputs": [
    {
     "data": {
      "image/png": "[encoded data removed]",
      "text/plain": [
       "plot without title"
      ]
     },
     "metadata": {
      "image/png": {
       "height": 420,
       "width": 420
      }
     },
     "output_type": "display_data"
    }
   ],
   "source": [
    "mosaic(survived ~ age_strata|sex, data=df)\n"
   ]
  },
  {
   "cell_type": "code",
   "execution_count": 73,
   "id": "b9ae231e-14c7-4412-b04e-a7da7e4b7c4c",
   "metadata": {},
   "outputs": [
    {
     "data": {
      "image/png": "[encoded data removed]",
      "text/plain": [
       "plot without title"
      ]
     },
     "metadata": {
      "image/png": {
       "height": 420,
       "width": 420
      }
     },
     "output_type": "display_data"
    }
   ],
   "source": [
    "mosaic(survived ~ age_strata|pclass, data=df)"
   ]
  },
  {
   "cell_type": "code",
   "execution_count": 74,
   "id": "511db511-e427-4eb5-bf76-4fb1ab2fd28b",
   "metadata": {},
   "outputs": [
    {
     "data": {
      "image/png": "[encoded data removed]",
      "text/plain": [
       "plot without title"
      ]
     },
     "metadata": {
      "image/png": {
       "height": 420,
       "width": 420
      }
     },
     "output_type": "display_data"
    }
   ],
   "source": [
    "# 救命ボートに乗れたか\n",
    "# 性別\n",
    "mosaic(survived ~ is_on_boat|sex, data=df)"
   ]
  },
  {
   "cell_type": "code",
   "execution_count": 75,
   "id": "64aa031b-32b0-423f-9fac-065f12609efe",
   "metadata": {},
   "outputs": [
    {
     "data": {
      "image/png": "[encoded data removed]",
      "text/plain": [
       "plot without title"
      ]
     },
     "metadata": {
      "image/png": {
       "height": 420,
       "width": 420
      }
     },
     "output_type": "display_data"
    }
   ],
   "source": [
    "mosaic(survived ~ is_on_boat|age_strata, data=df)"
   ]
  },
  {
   "cell_type": "code",
   "execution_count": 77,
   "id": "477fbb70-fe3d-400c-aa1f-957983d3746d",
   "metadata": {},
   "outputs": [
    {
     "data": {
      "image/png": "[encoded data removed]",
      "text/plain": [
       "plot without title"
      ]
     },
     "metadata": {
      "image/png": {
       "height": 420,
       "width": 420
      }
     },
     "output_type": "display_data"
    }
   ],
   "source": [
    "mosaic(is_on_boat ~ age_strata|sex, data=df)"
   ]
  },
  {
   "cell_type": "code",
   "execution_count": 78,
   "id": "d47fbd4b-1f52-4340-8640-42f361345c45",
   "metadata": {},
   "outputs": [
    {
     "data": {
      "image/png": "[encoded data removed]",
      "text/plain": [
       "plot without title"
      ]
     },
     "metadata": {
      "image/png": {
       "height": 420,
       "width": 420
      }
     },
     "output_type": "display_data"
    }
   ],
   "source": [
    "mosaic(is_on_boat ~ pclass|sex, data=df)"
   ]
  },
  {
   "cell_type": "code",
   "execution_count": 80,
   "id": "3f02d16f-0b70-47c7-b784-b1adbc7434ff",
   "metadata": {},
   "outputs": [
    {
     "data": {
      "text/plain": [
       "\n",
       "Call:\n",
       "glm(formula = survived ~ sex + age + pclass + embarked, family = \"binomial\", \n",
       "    data = df)\n",
       "\n",
       "Deviance Residuals: \n",
       "    Min       1Q   Median       3Q      Max  \n",
       "-2.5181  -0.6773  -0.4274   0.6662   2.4550  \n",
       "\n",
       "Coefficients:\n",
       "             Estimate Std. Error z value Pr(>|z|)    \n",
       "(Intercept)  3.909651   0.353268  11.067  < 2e-16 ***\n",
       "sexmale     -2.535693   0.169860 -14.928  < 2e-16 ***\n",
       "age         -0.033273   0.006415  -5.186 2.14e-07 ***\n",
       "pclass2     -1.018493   0.238766  -4.266 1.99e-05 ***\n",
       "pclass3     -1.998954   0.235921  -8.473  < 2e-16 ***\n",
       "embarkedQ   -1.373361   0.432607  -3.175 0.001500 ** \n",
       "embarkedS   -0.715683   0.211242  -3.388 0.000704 ***\n",
       "---\n",
       "Signif. codes:  0 '***' 0.001 '**' 0.01 '*' 0.05 '.' 0.1 ' ' 1\n",
       "\n",
       "(Dispersion parameter for binomial family taken to be 1)\n",
       "\n",
       "    Null deviance: 1411.0  on 1043  degrees of freedom\n",
       "Residual deviance:  966.3  on 1037  degrees of freedom\n",
       "  (265 observations deleted due to missingness)\n",
       "AIC: 980.3\n",
       "\n",
       "Number of Fisher Scoring iterations: 4\n"
      ]
     },
     "metadata": {},
     "output_type": "display_data"
    }
   ],
   "source": [
    "# 回帰モデル(ロジスティック回帰)\n",
    "\n",
    "df$pclass = as.factor(df$pclass)\n",
    "\n",
    "model = glm(survived ~ sex + age + pclass + embarked, data=df, family='binomial')\n",
    "summary(model)"
   ]
  }
 ],
 "metadata": {
  "kernelspec": {
   "display_name": "R",
   "language": "R",
   "name": "ir"
  },
  "language_info": {
   "codemirror_mode": "r",
   "file_extension": ".r",
   "mimetype": "text/x-r-source",
   "name": "R",
   "pygments_lexer": "r",
   "version": "4.2.0"
  }
 },
 "nbformat": 4,
 "nbformat_minor": 5
}
